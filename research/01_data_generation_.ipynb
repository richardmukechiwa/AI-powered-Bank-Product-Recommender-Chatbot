{
 "cells": [
  {
   "cell_type": "code",
   "execution_count": 1,
   "id": "84c69771",
   "metadata": {},
   "outputs": [],
   "source": [
    "import os"
   ]
  },
  {
   "cell_type": "code",
   "execution_count": 2,
   "id": "299de4ce",
   "metadata": {},
   "outputs": [
    {
     "data": {
      "text/plain": [
       "'c:\\\\Users\\\\RICH-FILES\\\\Desktop\\\\ml\\\\AI-powered-Bank-Product-Recommender-Chatbot\\\\research'"
      ]
     },
     "execution_count": 2,
     "metadata": {},
     "output_type": "execute_result"
    }
   ],
   "source": [
    "%pwd"
   ]
  },
  {
   "cell_type": "code",
   "execution_count": 3,
   "id": "83bde89b",
   "metadata": {},
   "outputs": [],
   "source": [
    "os.chdir(\"../\")"
   ]
  },
  {
   "cell_type": "code",
   "execution_count": 4,
   "id": "68a306be",
   "metadata": {},
   "outputs": [
    {
     "data": {
      "text/plain": [
       "'c:\\\\Users\\\\RICH-FILES\\\\Desktop\\\\ml\\\\AI-powered-Bank-Product-Recommender-Chatbot'"
      ]
     },
     "execution_count": 4,
     "metadata": {},
     "output_type": "execute_result"
    }
   ],
   "source": [
    "%pwd"
   ]
  },
  {
   "cell_type": "code",
   "execution_count": 5,
   "id": "f3fb72ee",
   "metadata": {},
   "outputs": [],
   "source": [
    "project_dir = \"C:/Users/RICH-FILES/Desktop/ml/AI-powered-Bank-Product-Recommender-Chatbot\"\n",
    "os.chdir(project_dir)"
   ]
  },
  {
   "cell_type": "code",
   "execution_count": 6,
   "id": "5b8fb3e4",
   "metadata": {},
   "outputs": [],
   "source": [
    "from dataclasses import dataclass\n",
    "from pathlib import Path\n",
    "\n",
    "@dataclass(frozen=True)\n",
    "class TablesConfig:\n",
    "    customers: str\n",
    "    products: str\n",
    "\n",
    "@dataclass(frozen=True)\n",
    "class DataGenerationConfig:\n",
    "    num_customers: int\n",
    "    output_dir: Path\n",
    "    customers_filename: str\n",
    "    products_filename: str\n",
    "    gen_root_dir: Path\n",
    "    data_dir: Path\n",
    "    db_file: Path\n",
    "    table: TablesConfig\n",
    "    \n",
    "    \n",
    "   \n",
    "    "
   ]
  },
  {
   "cell_type": "code",
   "execution_count": 7,
   "id": "f94f2a74",
   "metadata": {},
   "outputs": [],
   "source": [
    "from BankProducts.constants import *\n",
    "from BankProducts.utils.common import read_yaml, create_directories"
   ]
  },
  {
   "cell_type": "code",
   "execution_count": 8,
   "id": "393aa62f",
   "metadata": {},
   "outputs": [],
   "source": [
    "# create configuration manager \n",
    "class ConfigurationManager: \n",
    "    def __init__(\n",
    "        self,\n",
    "        config_filepath = CONFIG_FILE_PATH,\n",
    "        params_filepath = PARAMS_FILE_PATH, \n",
    "        #schema_filepath = SCHEMA_FILE_PATH,\n",
    "        ):\n",
    "        self.config = read_yaml(config_filepath)\n",
    "        self.params = read_yaml(params_filepath)\n",
    "        #self.schema = read_yaml(schema_filepath)\n",
    "        \n",
    "        create_directories([self.config.artifacts_root])\n",
    "        \n",
    "    def get_data_generation_config(self)-> DataGenerationConfig:\n",
    "        \"\"\"\n",
    "         This method is responsible for creating the data generation configuration\"\"\"\n",
    "    \n",
    "        config = self.config.data_generation\n",
    "        \n",
    "        \n",
    "        create_directories([self.config.artifacts_root])\n",
    "        \n",
    "        data_generation_config = DataGenerationConfig(\n",
    "            num_customers = config.num_customers,\n",
    "            output_dir = Path(config.output_dir),\n",
    "            customers_filename = config.customers_filename,\n",
    "            products_filename = config.products_filename,\n",
    "            gen_root_dir = Path(config.gen_root_dir),\n",
    "            data_dir  = Path(config.data_dir),\n",
    "            db_file = Path(config.db_file),\n",
    "            table = config.table        )\n",
    "        \n",
    "        return data_generation_config\n",
    "        \n",
    "        \n",
    "        "
   ]
  },
  {
   "cell_type": "code",
   "execution_count": 9,
   "id": "74864023",
   "metadata": {},
   "outputs": [],
   "source": [
    "import pandas as pd\n",
    "import sqlite3\n",
    "from pathlib import Path\n",
    "from BankProducts import logger\n",
    "from faker import Faker\n",
    "import pandas as pd\n",
    "import random\n",
    "from sqlalchemy import create_engine\n",
    "from pathlib import Path"
   ]
  },
  {
   "cell_type": "code",
   "execution_count": 10,
   "id": "2e59ad64",
   "metadata": {},
   "outputs": [],
   "source": [
    "fake =Faker()\n",
    "\n",
    "# Define product catalog\n",
    "PRODUCT_CATALOG = [\n",
    "    {\n",
    "        \"product_name\": \"Savings Account\",\n",
    "        \"description\": \"A basic savings account with competitive interest rates.\",\n",
    "        \"eligibility\": \"All customers above 18 years old\"\n",
    "    },\n",
    "    {\n",
    "        \"product_name\": \"Credit Card\",\n",
    "        \"description\": \"A credit card with cashback and reward points.\",\n",
    "        \"eligibility\": \"Credit score above 650 and income above $20,000\"\n",
    "    },\n",
    "    {\n",
    "        \"product_name\": \"Home Loan\",\n",
    "        \"description\": \"Flexible home loan with low interest rates.\",\n",
    "        \"eligibility\": \"Credit score above 700 and income above $50,000\"\n",
    "    },\n",
    "    {\n",
    "        \"product_name\": \"Education Loan\",\n",
    "        \"description\": \"Loan for students pursuing higher education.\",\n",
    "        \"eligibility\": \"Age below 35 and enrollment in a valid institution\"\n",
    "    },\n",
    "    {\n",
    "        \"product_name\": \"Fixed Deposit\",\n",
    "        \"description\": \"Investment with fixed returns over a chosen term.\",\n",
    "        \"eligibility\": \"Minimum deposit of $1,000\"\n",
    "    }\n",
    "    ]"
   ]
  },
  {
   "cell_type": "code",
   "execution_count": 11,
   "id": "81db2563",
   "metadata": {},
   "outputs": [],
   "source": [
    "class DataGeneration:\n",
    "    def __init__(self, config: DataGenerationConfig):\n",
    "        self.config = config\n",
    "        \n",
    "\n",
    "    def generate_customer_data(self, num_records=50000):\n",
    "        data = []\n",
    "        products = [p[\"product_name\"] for p in PRODUCT_CATALOG]\n",
    "        goals = [\"Home Ownership\", \"Education\", \"Savings\", \"Travel\", \"Retirement\"]\n",
    "        \n",
    "        logger.info(f\"Generating {num_records} fake customer records...\")\n",
    "        for _ in range(num_records):\n",
    "            data.append({\n",
    "                \"customer_id\": fake.uuid4(),\n",
    "                \"name\": fake.name(),\n",
    "                \"age\": random.randint(18, 70),\n",
    "                \"gender\": random.choice([\"Male\", \"Female\"]),\n",
    "                \"occupation\": fake.job(),\n",
    "                \"annual_income\": round(random.uniform(15000, 200000), 2),\n",
    "                \"marital_status\": random.choice([\"Single\", \"Married\", \"Divorced\"]),\n",
    "                \"credit_score\": random.randint(300, 850),\n",
    "                \"existing_products\": ', '.join(random.sample(products, k=random.randint(0, 3))),\n",
    "                \"financial_goals\": random.choice(goals)\n",
    "            })\n",
    "        \n",
    "        customers_df = pd.DataFrame(data)\n",
    "        products_df = pd.DataFrame(PRODUCT_CATALOG)\n",
    "        \n",
    "        logger.info(\"Customer and product data generated.\")\n",
    "        return customers_df, products_df\n",
    "\n",
    "    def save_to_csv(self, customers_df, products_df, output_dir):\n",
    "        output_dir = Path(output_dir)\n",
    "        output_dir.mkdir(parents=True, exist_ok=True)\n",
    "        \n",
    "        customers_path = output_dir / \"bank_customers.csv\"\n",
    "        products_path = output_dir / \"product_catalog.csv\"\n",
    "        \n",
    "        customers_df.to_csv(customers_path, index=False)\n",
    "        products_df.to_csv(products_path, index=False)\n",
    "        \n",
    "        logger.info(f\"Saved customers to {customers_path}\")\n",
    "        logger.info(f\"Saved products to {products_path}\")\n",
    "        \n",
    "        return customers_path, products_path\n",
    "\n",
    "    def save_to_db(self, customers_path: str, products_path: str, db_file):\n",
    "        try:\n",
    "            # Check if files exist\n",
    "            if not os.path.exists(customers_path):\n",
    "                logger.error(f\"Customer file not found: {customers_path}\")\n",
    "                raise FileNotFoundError(f\"Customer file not found: {customers_path}\")\n",
    "            if not os.path.exists(products_path):\n",
    "                logger.error(f\"Product file not found: {products_path}\")\n",
    "                raise FileNotFoundError(f\"Product file not found: {products_path}\")\n",
    "            \n",
    "            # Load CSV files\n",
    "            customers = pd.read_csv(customers_path)\n",
    "            products = pd.read_csv(products_path)\n",
    "            \n",
    "            print(customers.head())\n",
    "            print()\n",
    "            print(products.head())\n",
    "            print() \n",
    "\n",
    "            # Create SQLite engine\n",
    "            engine = create_engine(f\"sqlite:///{db_file}\")\n",
    "\n",
    "            # Write to database\n",
    "            customers.to_sql(\"customers\", con=engine, if_exists=\"replace\", index=False)\n",
    "            products.to_sql(\"products\", con=engine, if_exists=\"replace\", index=False)\n",
    "\n",
    "            logger.info(f\"Data saved to SQLite database at {db_file}\")\n",
    "            return db_file\n",
    "\n",
    "        except Exception as e:\n",
    "            logger.exception(f\"Failed to save data to the database: {e}\")\n",
    "            raise\n",
    "\n",
    "\n",
    "\n",
    "\n",
    "\n"
   ]
  },
  {
   "cell_type": "code",
   "execution_count": 12,
   "id": "2fc301fa",
   "metadata": {},
   "outputs": [
    {
     "name": "stdout",
     "output_type": "stream",
     "text": [
      "[2025-05-31 19:39:11,742: INFO: common: yaml file: config\\config.yaml loaded successfully]\n",
      "[2025-05-31 19:39:11,746: INFO: common: yaml file: params.yaml loaded successfully]\n",
      "[2025-05-31 19:39:11,748: INFO: common: created directory at: artifacts]\n",
      "[2025-05-31 19:39:11,756: INFO: common: created directory at: artifacts]\n",
      "[2025-05-31 19:39:11,758: INFO: 2728574332: Generating 50000 fake customer records...]\n",
      "[2025-05-31 19:39:21,240: INFO: 2728574332: Customer and product data generated.]\n",
      "[2025-05-31 19:39:21,513: INFO: 2728574332: Saved customers to artifacts\\data_generation\\bank_customers.csv]\n",
      "[2025-05-31 19:39:21,514: INFO: 2728574332: Saved products to artifacts\\data_generation\\product_catalog.csv]\n",
      "[2025-05-31 19:39:21,515: INFO: 2744110690: Customers data saved to artifacts\\data_generation\\bank_customers.csv]\n",
      "                            customer_id             name  age  gender  \\\n",
      "0  7bb08efe-5222-4698-8540-4de1f56c23bb      Marissa Roy   24  Female   \n",
      "1  01e4e9c0-008e-443f-a0d4-ee1e27392941     Peter Hughes   25    Male   \n",
      "2  2055c63c-7f80-459c-b0f0-a55ed1f0481c  Michael Coleman   21  Female   \n",
      "3  e8ee066a-0627-4c81-a8a9-1897015d622e    Teresa Garcia   23  Female   \n",
      "4  82f367d7-58f2-49b8-9053-719343301261     Carrie Brown   27    Male   \n",
      "\n",
      "                        occupation  annual_income marital_status  \\\n",
      "0           Recruitment consultant       66387.36        Married   \n",
      "1        Building control surveyor       61270.47         Single   \n",
      "2  Psychotherapist, dance movement      160824.92        Married   \n",
      "3              Biomedical engineer      182763.74       Divorced   \n",
      "4                  Legal secretary      129091.20        Married   \n",
      "\n",
      "   credit_score                               existing_products  \\\n",
      "0           774    Education Loan, Credit Card, Savings Account   \n",
      "1           801  Fixed Deposit, Education Loan, Savings Account   \n",
      "2           510                                 Savings Account   \n",
      "3           730                                             NaN   \n",
      "4           684                                             NaN   \n",
      "\n",
      "  financial_goals  \n",
      "0          Travel  \n",
      "1      Retirement  \n",
      "2  Home Ownership  \n",
      "3          Travel  \n",
      "4         Savings  \n",
      "\n",
      "      product_name                                        description  \\\n",
      "0  Savings Account  A basic savings account with competitive inter...   \n",
      "1      Credit Card     A credit card with cashback and reward points.   \n",
      "2        Home Loan        Flexible home loan with low interest rates.   \n",
      "3   Education Loan       Loan for students pursuing higher education.   \n",
      "4    Fixed Deposit  Investment with fixed returns over a chosen term.   \n",
      "\n",
      "                                         eligibility  \n",
      "0                   All customers above 18 years old  \n",
      "1    Credit score above 650 and income above $20,000  \n",
      "2    Credit score above 700 and income above $50,000  \n",
      "3  Age below 35 and enrollment in a valid institu...  \n",
      "4                          Minimum deposit of $1,000  \n",
      "\n",
      "[2025-05-31 19:39:22,427: INFO: 2728574332: Data saved to SQLite database at artifacts\\data_generation\\bank_products_recommender.db]\n",
      "[2025-05-31 19:39:22,431: INFO: 2744110690: Data saved to SQLite database at artifacts\\data_generation\\bank_products_recommender.db]\n",
      "Data Generation Complete\n"
     ]
    }
   ],
   "source": [
    "\n",
    "try:\n",
    "    config = ConfigurationManager()\n",
    "    data_generation_config = config.get_data_generation_config()\n",
    "    data_gen = DataGeneration(config=data_generation_config)\n",
    "\n",
    "    # Generate data\n",
    "    customers_df, products_df = data_gen.generate_customer_data()\n",
    "\n",
    "    # Save to CSV\n",
    "    customers_path, products_path = data_gen.save_to_csv(customers_df, products_df, data_generation_config.output_dir)\n",
    "    logger.info(f\"Customers data saved to {customers_path}\")\n",
    "\n",
    "    # Save to DB\n",
    "    data_gen.save_to_db(customers_path, products_path, data_generation_config.db_file)\n",
    "    logger.info(f\"Data saved to SQLite database at {data_generation_config.db_file}\")\n",
    "\n",
    "    print(\"Data Generation Complete\")\n",
    "except Exception as e:\n",
    "    raise e\n",
    "    \n",
    "    \n",
    "    \n",
    "  "
   ]
  },
  {
   "cell_type": "code",
   "execution_count": null,
   "id": "f93ecb76",
   "metadata": {},
   "outputs": [],
   "source": []
  },
  {
   "cell_type": "code",
   "execution_count": null,
   "id": "a9ba4fec",
   "metadata": {},
   "outputs": [],
   "source": []
  },
  {
   "cell_type": "code",
   "execution_count": null,
   "id": "b7c8b1b7",
   "metadata": {},
   "outputs": [],
   "source": []
  },
  {
   "cell_type": "code",
   "execution_count": null,
   "id": "8ea94700",
   "metadata": {},
   "outputs": [],
   "source": []
  },
  {
   "cell_type": "code",
   "execution_count": null,
   "id": "7189c3f0",
   "metadata": {},
   "outputs": [],
   "source": []
  },
  {
   "cell_type": "code",
   "execution_count": null,
   "id": "f4b62e14",
   "metadata": {},
   "outputs": [],
   "source": []
  },
  {
   "cell_type": "code",
   "execution_count": null,
   "id": "feaf53b7",
   "metadata": {},
   "outputs": [],
   "source": []
  },
  {
   "cell_type": "code",
   "execution_count": null,
   "id": "2263646d",
   "metadata": {},
   "outputs": [],
   "source": []
  },
  {
   "cell_type": "code",
   "execution_count": null,
   "id": "af3eccae",
   "metadata": {},
   "outputs": [],
   "source": []
  },
  {
   "cell_type": "code",
   "execution_count": null,
   "id": "5248dc95",
   "metadata": {},
   "outputs": [],
   "source": []
  },
  {
   "cell_type": "code",
   "execution_count": null,
   "id": "dba50203",
   "metadata": {},
   "outputs": [],
   "source": []
  },
  {
   "cell_type": "code",
   "execution_count": null,
   "id": "47780d07",
   "metadata": {},
   "outputs": [],
   "source": []
  },
  {
   "cell_type": "code",
   "execution_count": null,
   "id": "4eacc086",
   "metadata": {},
   "outputs": [],
   "source": []
  },
  {
   "cell_type": "code",
   "execution_count": null,
   "id": "97029125",
   "metadata": {},
   "outputs": [],
   "source": []
  },
  {
   "cell_type": "code",
   "execution_count": null,
   "id": "159571cd",
   "metadata": {},
   "outputs": [],
   "source": []
  },
  {
   "cell_type": "code",
   "execution_count": null,
   "id": "1b0452a4",
   "metadata": {},
   "outputs": [],
   "source": []
  }
 ],
 "metadata": {
  "kernelspec": {
   "display_name": "bankprod",
   "language": "python",
   "name": "python3"
  },
  "language_info": {
   "codemirror_mode": {
    "name": "ipython",
    "version": 3
   },
   "file_extension": ".py",
   "mimetype": "text/x-python",
   "name": "python",
   "nbconvert_exporter": "python",
   "pygments_lexer": "ipython3",
   "version": "3.10.16"
  }
 },
 "nbformat": 4,
 "nbformat_minor": 5
}
