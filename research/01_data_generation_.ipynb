{
 "cells": [
  {
   "cell_type": "code",
   "execution_count": 1,
   "id": "84c69771",
   "metadata": {},
   "outputs": [],
   "source": [
    "import os"
   ]
  },
  {
   "cell_type": "code",
   "execution_count": 2,
   "id": "299de4ce",
   "metadata": {},
   "outputs": [
    {
     "data": {
      "text/plain": [
       "'c:\\\\Users\\\\RICH-FILES\\\\Desktop\\\\ml\\\\AI-powered-Bank-Product-Recommender-Chatbot\\\\research'"
      ]
     },
     "execution_count": 2,
     "metadata": {},
     "output_type": "execute_result"
    }
   ],
   "source": [
    "%pwd"
   ]
  },
  {
   "cell_type": "code",
   "execution_count": 3,
   "id": "83bde89b",
   "metadata": {},
   "outputs": [],
   "source": [
    "os.chdir(\"../\")"
   ]
  },
  {
   "cell_type": "code",
   "execution_count": 4,
   "id": "68a306be",
   "metadata": {},
   "outputs": [
    {
     "data": {
      "text/plain": [
       "'c:\\\\Users\\\\RICH-FILES\\\\Desktop\\\\ml\\\\AI-powered-Bank-Product-Recommender-Chatbot'"
      ]
     },
     "execution_count": 4,
     "metadata": {},
     "output_type": "execute_result"
    }
   ],
   "source": [
    "%pwd"
   ]
  },
  {
   "cell_type": "code",
   "execution_count": 5,
   "id": "f3fb72ee",
   "metadata": {},
   "outputs": [],
   "source": [
    "project_dir = \"C:/Users/RICH-FILES/Desktop/ml/AI-powered-Bank-Product-Recommender-Chatbot\"\n",
    "os.chdir(project_dir)"
   ]
  },
  {
   "cell_type": "code",
   "execution_count": 6,
   "id": "5b8fb3e4",
   "metadata": {},
   "outputs": [],
   "source": [
    "from dataclasses import dataclass\n",
    "from pathlib import Path\n",
    "\n",
    "@dataclass(frozen=True)\n",
    "class TablesConfig:\n",
    "    customers: str\n",
    "    products: str\n",
    "\n",
    "@dataclass(frozen=True)\n",
    "class DataGenerationConfig:\n",
    "    num_customers: int\n",
    "    out_put_dir: Path\n",
    "    customers_filename: str\n",
    "    products_filename: str\n",
    "    root_dir: Path\n",
    "    db_file: Path\n",
    "    tables: TablesConfig\n",
    "    \n",
    "    \n",
    "   \n",
    "    "
   ]
  },
  {
   "cell_type": "code",
   "execution_count": 7,
   "id": "f94f2a74",
   "metadata": {},
   "outputs": [],
   "source": [
    "from BankProducts.constants import *\n",
    "from BankProducts.utils.common import read_yaml, create_directories"
   ]
  },
  {
   "cell_type": "code",
   "execution_count": 8,
   "id": "393aa62f",
   "metadata": {},
   "outputs": [],
   "source": [
    "# create configuration manager \n",
    "class ConfigurationManager: \n",
    "    def __init__(\n",
    "        self,\n",
    "        config_filepath = CONFIG_FILE_PATH,\n",
    "        params_filepath = PARAMS_FILE_PATH, \n",
    "        #schema_filepath = SCHEMA_FILE_PATH,\n",
    "        ):\n",
    "        self.config = read_yaml(config_filepath)\n",
    "        self.params = read_yaml(params_filepath)\n",
    "        #self.schema = read_yaml(schema_filepath)\n",
    "        \n",
    "        create_directories([self.config.artifacts_root])\n",
    "        \n",
    "    def get_data_generation_config(self)-> DataGenerationConfig:\n",
    "        \"\"\"\n",
    "         This method is responsible for creating the data generation configuration\"\"\"\n",
    "    \n",
    "        config = self.config.data_generation\n",
    "        params = self.params.data_generation\n",
    "        tables = TablesConfig(\n",
    "            customers = params.customers,\n",
    "            products = params.products\n",
    "        )\n",
    "        \n",
    "        create_directories([self.config.artifacts_root])\n",
    "        \n",
    "        data_generation_config = DataGenerationConfig(\n",
    "            num_customers = config.num_customers,\n",
    "            out_put_dir = Path(config.out_put_dir),\n",
    "            customers_filename = config.customers_filename,\n",
    "            products_filename = config.products_filename,\n",
    "            root_dir = Path(config.root_dir),\n",
    "            db_file = Path(config.db_file),\n",
    "            tables = tables\n",
    "        )\n",
    "        \n",
    "        return data_generation_config\n",
    "        \n",
    "        \n",
    "        "
   ]
  },
  {
   "cell_type": "code",
   "execution_count": 9,
   "id": "74864023",
   "metadata": {},
   "outputs": [],
   "source": [
    "import pandas as pd\n",
    "import sqlite3\n",
    "from pathlib import Path\n",
    "from BankProducts.utils.common import read_yaml, create_directories, save_csv_file\n",
    "from BankProducts import logger\n",
    "from faker import Faker\n",
    "import pandas as pd\n",
    "import random\n",
    "from sqlalchemy import create_engine\n",
    "from pathlib import Path"
   ]
  },
  {
   "cell_type": "code",
   "execution_count": 10,
   "id": "2e59ad64",
   "metadata": {},
   "outputs": [],
   "source": [
    "fake =Faker()\n",
    "\n",
    "# Define product catalog\n",
    "PRODUCT_CATALOG = [\n",
    "    {\n",
    "        \"product_name\": \"Savings Account\",\n",
    "        \"description\": \"A basic savings account with competitive interest rates.\",\n",
    "        \"eligibility\": \"All customers above 18 years old\"\n",
    "    },\n",
    "    {\n",
    "        \"product_name\": \"Credit Card\",\n",
    "        \"description\": \"A credit card with cashback and reward points.\",\n",
    "        \"eligibility\": \"Credit score above 650 and income above $20,000\"\n",
    "    },\n",
    "    {\n",
    "        \"product_name\": \"Home Loan\",\n",
    "        \"description\": \"Flexible home loan with low interest rates.\",\n",
    "        \"eligibility\": \"Credit score above 700 and income above $50,000\"\n",
    "    },\n",
    "    {\n",
    "        \"product_name\": \"Education Loan\",\n",
    "        \"description\": \"Loan for students pursuing higher education.\",\n",
    "        \"eligibility\": \"Age below 35 and enrollment in a valid institution\"\n",
    "    },\n",
    "    {\n",
    "        \"product_name\": \"Fixed Deposit\",\n",
    "        \"description\": \"Investment with fixed returns over a chosen term.\",\n",
    "        \"eligibility\": \"Minimum deposit of $1,000\"\n",
    "    }\n",
    "    ]"
   ]
  },
  {
   "cell_type": "code",
   "execution_count": 11,
   "id": "81db2563",
   "metadata": {},
   "outputs": [],
   "source": [
    "class DataGeneration:\n",
    "    def __init__(self, config: DataGenerationConfig):\n",
    "        self.config = config\n",
    "        \n",
    "\n",
    "    def generate_customer_data(num_records=7000):\n",
    "        data = []\n",
    "        products = [p[\"product_name\"] for p in PRODUCT_CATALOG]\n",
    "        goals = [\"Home Ownership\", \"Education\", \"Savings\", \"Travel\", \"Retirement\"]\n",
    "        \n",
    "        logger.info(f\"Generating {num_records} fake customer records...\")\n",
    "        for _ in range(num_records):\n",
    "            data.append({\n",
    "                \"customer_id\": fake.uuid4(),\n",
    "                \"name\": fake.name(),\n",
    "                \"age\": random.randint(18, 70),\n",
    "                \"gender\": random.choice([\"Male\", \"Female\"]),\n",
    "                \"occupation\": fake.job(),\n",
    "                \"annual_income\": round(random.uniform(15000, 200000), 2),\n",
    "                \"marital_status\": random.choice([\"Single\", \"Married\", \"Divorced\"]),\n",
    "                \"credit_score\": random.randint(300, 850),\n",
    "                \"existing_products\": ', '.join(random.sample(products, k=random.randint(0, 3))),\n",
    "                \"financial_goals\": random.choice(goals)\n",
    "            })\n",
    "        \n",
    "        customers_df = pd.DataFrame(data)\n",
    "        products_df = pd.DataFrame(PRODUCT_CATALOG)\n",
    "        \n",
    "        logger.info(\"Customer and product data generated.\")\n",
    "        return customers_df, products_df\n",
    "\n",
    "    def save_to_csv(customers_df, products_df, output_dir):\n",
    "        output_dir = Path(output_dir)\n",
    "        output_dir.mkdir(parents=True, exist_ok=True)\n",
    "        \n",
    "        customers_path = output_dir / \"bank_customers.csv\"\n",
    "        products_path = output_dir / \"product_catalog.csv\"\n",
    "        \n",
    "        customers_df.to_csv(customers_path, index=False)\n",
    "        products_df.to_csv(products_path, index=False)\n",
    "        \n",
    "        logger.info(f\"Saved customers to {customers_path}\")\n",
    "        logger.info(f\"Saved products to {products_path}\")\n",
    "        \n",
    "        return customers_path, products_path\n",
    "\n",
    "    def save_to_db(customers_path, products_path, db_path=\"bank_recommender.db\"):\n",
    "        engine = create_engine(f\"sqlite:///{db_path}\")\n",
    "        \n",
    "        customers = pd.read_csv(customers_path)\n",
    "        products = pd.read_csv(products_path)\n",
    "        \n",
    "        customers.to_sql(\"customers\", con=engine, if_exists=\"replace\", index=False)\n",
    "        products.to_sql(\"products\", con=engine, if_exists=\"replace\", index=False)\n",
    "        \n",
    "        logger.info(f\"Data saved to SQLite database at {db_path}\")\n",
    "        return db_path\n",
    "\n",
    "   #def generate_and_save_data(output_dir=\"datasets\", db_file=\"bank_recommender.db\"):\n",
    "        # Orchestrates the whole process\n",
    "        customers_df, products_df = generate_customer_data()\n",
    "        customers_path, products_path = save_to_csv(customers_df, products_df, output_dir)\n",
    "        save_to_db(customers_path, products_path, db_file)\n",
    "\n",
    "\n",
    "\n"
   ]
  },
  {
   "cell_type": "code",
   "execution_count": null,
   "id": "2fc301fa",
   "metadata": {},
   "outputs": [
    {
     "name": "stdout",
     "output_type": "stream",
     "text": [
      "[2025-05-13 20:38:19,337: INFO: common: yaml file: config\\config.yaml loaded successfully]\n",
      "[2025-05-13 20:38:19,339: INFO: common: yaml file: params.yaml loaded successfully]\n",
      "[2025-05-13 20:38:19,343: INFO: common: created directory at: artifacts]\n",
      "[2025-05-13 20:38:19,345: INFO: common: created directory at: artifacts/data_ingestion]\n",
      "[2025-05-13 20:38:19,346: INFO: common: created directory at: artifacts/data_ingestion/raw_data]\n",
      "[2025-05-13 20:38:19,347: INFO: 645150336: Checking if database exists: C:\\Users\\RICH-FILES\\Desktop\\Datasets\\bank_recommender.db]\n",
      "[2025-05-13 20:38:19,347: INFO: 645150336: Connecting to database: C:\\Users\\RICH-FILES\\Desktop\\Datasets\\bank_recommender.db]\n",
      "[2025-05-13 20:38:19,350: INFO: 645150336: Reading customers table: customers]\n",
      "[2025-05-13 20:38:19,351: INFO: 645150336: Database connection closed.]\n",
      "[2025-05-13 20:38:19,352: ERROR: 930908772: Execution failed on sql 'SELECT * FROM customers': no such table: customers]\n",
      "Traceback (most recent call last):\n",
      "  File \"c:\\Users\\RICH-FILES\\anacoda4\\envs\\bankprod\\lib\\site-packages\\pandas\\io\\sql.py\", line 2674, in execute\n",
      "    cur.execute(sql, *args)\n",
      "sqlite3.OperationalError: no such table: customers\n",
      "\n",
      "The above exception was the direct cause of the following exception:\n",
      "\n",
      "Traceback (most recent call last):\n",
      "  File \"C:\\Users\\RICH-FILES\\AppData\\Local\\Temp\\ipykernel_2780\\930908772.py\", line 5, in <module>\n",
      "    data_ingestion.extract_and_save_data()\n",
      "  File \"C:\\Users\\RICH-FILES\\AppData\\Local\\Temp\\ipykernel_2780\\645150336.py\", line 15, in extract_and_save_data\n",
      "    customers_df = pd.read_sql_query(f\"SELECT * FROM {self.config.customers}\", conn)\n",
      "  File \"c:\\Users\\RICH-FILES\\anacoda4\\envs\\bankprod\\lib\\site-packages\\pandas\\io\\sql.py\", line 526, in read_sql_query\n",
      "    return pandas_sql.read_query(\n",
      "  File \"c:\\Users\\RICH-FILES\\anacoda4\\envs\\bankprod\\lib\\site-packages\\pandas\\io\\sql.py\", line 2738, in read_query\n",
      "    cursor = self.execute(sql, params)\n",
      "  File \"c:\\Users\\RICH-FILES\\anacoda4\\envs\\bankprod\\lib\\site-packages\\pandas\\io\\sql.py\", line 2686, in execute\n",
      "    raise ex from exc\n",
      "pandas.errors.DatabaseError: Execution failed on sql 'SELECT * FROM customers': no such table: customers\n"
     ]
    },
    {
     "ename": "DatabaseError",
     "evalue": "Execution failed on sql 'SELECT * FROM customers': no such table: customers",
     "output_type": "error",
     "traceback": [
      "\u001b[1;31m---------------------------------------------------------------------------\u001b[0m",
      "\u001b[1;31mOperationalError\u001b[0m                          Traceback (most recent call last)",
      "File \u001b[1;32mc:\\Users\\RICH-FILES\\anacoda4\\envs\\bankprod\\lib\\site-packages\\pandas\\io\\sql.py:2674\u001b[0m, in \u001b[0;36mSQLiteDatabase.execute\u001b[1;34m(self, sql, params)\u001b[0m\n\u001b[0;32m   2673\u001b[0m \u001b[38;5;28;01mtry\u001b[39;00m:\n\u001b[1;32m-> 2674\u001b[0m     \u001b[43mcur\u001b[49m\u001b[38;5;241;43m.\u001b[39;49m\u001b[43mexecute\u001b[49m\u001b[43m(\u001b[49m\u001b[43msql\u001b[49m\u001b[43m,\u001b[49m\u001b[43m \u001b[49m\u001b[38;5;241;43m*\u001b[39;49m\u001b[43margs\u001b[49m\u001b[43m)\u001b[49m\n\u001b[0;32m   2675\u001b[0m     \u001b[38;5;28;01mreturn\u001b[39;00m cur\n",
      "\u001b[1;31mOperationalError\u001b[0m: no such table: customers",
      "\nThe above exception was the direct cause of the following exception:\n",
      "\u001b[1;31mDatabaseError\u001b[0m                             Traceback (most recent call last)",
      "Cell \u001b[1;32mIn[22], line 8\u001b[0m\n\u001b[0;32m      6\u001b[0m \u001b[38;5;28;01mexcept\u001b[39;00m \u001b[38;5;167;01mException\u001b[39;00m \u001b[38;5;28;01mas\u001b[39;00m e:\n\u001b[0;32m      7\u001b[0m     logger\u001b[38;5;241m.\u001b[39mexception(e)\n\u001b[1;32m----> 8\u001b[0m     \u001b[38;5;28;01mraise\u001b[39;00m e\n",
      "Cell \u001b[1;32mIn[22], line 5\u001b[0m\n\u001b[0;32m      3\u001b[0m     data_ingestion_config \u001b[38;5;241m=\u001b[39m config\u001b[38;5;241m.\u001b[39mget_data_ingestion_config()\n\u001b[0;32m      4\u001b[0m     data_ingestion \u001b[38;5;241m=\u001b[39m DataIngestion(config\u001b[38;5;241m=\u001b[39mdata_ingestion_config)\n\u001b[1;32m----> 5\u001b[0m     \u001b[43mdata_ingestion\u001b[49m\u001b[38;5;241;43m.\u001b[39;49m\u001b[43mextract_and_save_data\u001b[49m\u001b[43m(\u001b[49m\u001b[43m)\u001b[49m\n\u001b[0;32m      6\u001b[0m \u001b[38;5;28;01mexcept\u001b[39;00m \u001b[38;5;167;01mException\u001b[39;00m \u001b[38;5;28;01mas\u001b[39;00m e:\n\u001b[0;32m      7\u001b[0m     logger\u001b[38;5;241m.\u001b[39mexception(e)\n",
      "Cell \u001b[1;32mIn[21], line 15\u001b[0m, in \u001b[0;36mDataIngestion.extract_and_save_data\u001b[1;34m(self)\u001b[0m\n\u001b[0;32m     13\u001b[0m \u001b[38;5;28;01mtry\u001b[39;00m:\n\u001b[0;32m     14\u001b[0m     logger\u001b[38;5;241m.\u001b[39minfo(\u001b[38;5;124mf\u001b[39m\u001b[38;5;124m\"\u001b[39m\u001b[38;5;124mReading customers table: \u001b[39m\u001b[38;5;132;01m{\u001b[39;00m\u001b[38;5;28mself\u001b[39m\u001b[38;5;241m.\u001b[39mconfig\u001b[38;5;241m.\u001b[39mcustomers\u001b[38;5;132;01m}\u001b[39;00m\u001b[38;5;124m\"\u001b[39m)\n\u001b[1;32m---> 15\u001b[0m     customers_df \u001b[38;5;241m=\u001b[39m \u001b[43mpd\u001b[49m\u001b[38;5;241;43m.\u001b[39;49m\u001b[43mread_sql_query\u001b[49m\u001b[43m(\u001b[49m\u001b[38;5;124;43mf\u001b[39;49m\u001b[38;5;124;43m\"\u001b[39;49m\u001b[38;5;124;43mSELECT * FROM \u001b[39;49m\u001b[38;5;132;43;01m{\u001b[39;49;00m\u001b[38;5;28;43mself\u001b[39;49m\u001b[38;5;241;43m.\u001b[39;49m\u001b[43mconfig\u001b[49m\u001b[38;5;241;43m.\u001b[39;49m\u001b[43mcustomers\u001b[49m\u001b[38;5;132;43;01m}\u001b[39;49;00m\u001b[38;5;124;43m\"\u001b[39;49m\u001b[43m,\u001b[49m\u001b[43m \u001b[49m\u001b[43mconn\u001b[49m\u001b[43m)\u001b[49m\n\u001b[0;32m     17\u001b[0m     logger\u001b[38;5;241m.\u001b[39minfo(\u001b[38;5;124mf\u001b[39m\u001b[38;5;124m\"\u001b[39m\u001b[38;5;124mReading products table: \u001b[39m\u001b[38;5;132;01m{\u001b[39;00m\u001b[38;5;28mself\u001b[39m\u001b[38;5;241m.\u001b[39mconfig\u001b[38;5;241m.\u001b[39mproducts\u001b[38;5;132;01m}\u001b[39;00m\u001b[38;5;124m\"\u001b[39m)\n\u001b[0;32m     18\u001b[0m     products_df \u001b[38;5;241m=\u001b[39m pd\u001b[38;5;241m.\u001b[39mread_sql_query(\u001b[38;5;124mf\u001b[39m\u001b[38;5;124m\"\u001b[39m\u001b[38;5;124mSELECT * FROM \u001b[39m\u001b[38;5;132;01m{\u001b[39;00m\u001b[38;5;28mself\u001b[39m\u001b[38;5;241m.\u001b[39mconfig\u001b[38;5;241m.\u001b[39mproducts\u001b[38;5;132;01m}\u001b[39;00m\u001b[38;5;124m\"\u001b[39m, conn)\n",
      "File \u001b[1;32mc:\\Users\\RICH-FILES\\anacoda4\\envs\\bankprod\\lib\\site-packages\\pandas\\io\\sql.py:526\u001b[0m, in \u001b[0;36mread_sql_query\u001b[1;34m(sql, con, index_col, coerce_float, params, parse_dates, chunksize, dtype, dtype_backend)\u001b[0m\n\u001b[0;32m    523\u001b[0m \u001b[38;5;28;01massert\u001b[39;00m dtype_backend \u001b[38;5;129;01mis\u001b[39;00m \u001b[38;5;129;01mnot\u001b[39;00m lib\u001b[38;5;241m.\u001b[39mno_default\n\u001b[0;32m    525\u001b[0m \u001b[38;5;28;01mwith\u001b[39;00m pandasSQL_builder(con) \u001b[38;5;28;01mas\u001b[39;00m pandas_sql:\n\u001b[1;32m--> 526\u001b[0m     \u001b[38;5;28;01mreturn\u001b[39;00m \u001b[43mpandas_sql\u001b[49m\u001b[38;5;241;43m.\u001b[39;49m\u001b[43mread_query\u001b[49m\u001b[43m(\u001b[49m\n\u001b[0;32m    527\u001b[0m \u001b[43m        \u001b[49m\u001b[43msql\u001b[49m\u001b[43m,\u001b[49m\n\u001b[0;32m    528\u001b[0m \u001b[43m        \u001b[49m\u001b[43mindex_col\u001b[49m\u001b[38;5;241;43m=\u001b[39;49m\u001b[43mindex_col\u001b[49m\u001b[43m,\u001b[49m\n\u001b[0;32m    529\u001b[0m \u001b[43m        \u001b[49m\u001b[43mparams\u001b[49m\u001b[38;5;241;43m=\u001b[39;49m\u001b[43mparams\u001b[49m\u001b[43m,\u001b[49m\n\u001b[0;32m    530\u001b[0m \u001b[43m        \u001b[49m\u001b[43mcoerce_float\u001b[49m\u001b[38;5;241;43m=\u001b[39;49m\u001b[43mcoerce_float\u001b[49m\u001b[43m,\u001b[49m\n\u001b[0;32m    531\u001b[0m \u001b[43m        \u001b[49m\u001b[43mparse_dates\u001b[49m\u001b[38;5;241;43m=\u001b[39;49m\u001b[43mparse_dates\u001b[49m\u001b[43m,\u001b[49m\n\u001b[0;32m    532\u001b[0m \u001b[43m        \u001b[49m\u001b[43mchunksize\u001b[49m\u001b[38;5;241;43m=\u001b[39;49m\u001b[43mchunksize\u001b[49m\u001b[43m,\u001b[49m\n\u001b[0;32m    533\u001b[0m \u001b[43m        \u001b[49m\u001b[43mdtype\u001b[49m\u001b[38;5;241;43m=\u001b[39;49m\u001b[43mdtype\u001b[49m\u001b[43m,\u001b[49m\n\u001b[0;32m    534\u001b[0m \u001b[43m        \u001b[49m\u001b[43mdtype_backend\u001b[49m\u001b[38;5;241;43m=\u001b[39;49m\u001b[43mdtype_backend\u001b[49m\u001b[43m,\u001b[49m\n\u001b[0;32m    535\u001b[0m \u001b[43m    \u001b[49m\u001b[43m)\u001b[49m\n",
      "File \u001b[1;32mc:\\Users\\RICH-FILES\\anacoda4\\envs\\bankprod\\lib\\site-packages\\pandas\\io\\sql.py:2738\u001b[0m, in \u001b[0;36mSQLiteDatabase.read_query\u001b[1;34m(self, sql, index_col, coerce_float, parse_dates, params, chunksize, dtype, dtype_backend)\u001b[0m\n\u001b[0;32m   2727\u001b[0m \u001b[38;5;28;01mdef\u001b[39;00m\u001b[38;5;250m \u001b[39m\u001b[38;5;21mread_query\u001b[39m(\n\u001b[0;32m   2728\u001b[0m     \u001b[38;5;28mself\u001b[39m,\n\u001b[0;32m   2729\u001b[0m     sql,\n\u001b[1;32m   (...)\u001b[0m\n\u001b[0;32m   2736\u001b[0m     dtype_backend: DtypeBackend \u001b[38;5;241m|\u001b[39m Literal[\u001b[38;5;124m\"\u001b[39m\u001b[38;5;124mnumpy\u001b[39m\u001b[38;5;124m\"\u001b[39m] \u001b[38;5;241m=\u001b[39m \u001b[38;5;124m\"\u001b[39m\u001b[38;5;124mnumpy\u001b[39m\u001b[38;5;124m\"\u001b[39m,\n\u001b[0;32m   2737\u001b[0m ) \u001b[38;5;241m-\u001b[39m\u001b[38;5;241m>\u001b[39m DataFrame \u001b[38;5;241m|\u001b[39m Iterator[DataFrame]:\n\u001b[1;32m-> 2738\u001b[0m     cursor \u001b[38;5;241m=\u001b[39m \u001b[38;5;28;43mself\u001b[39;49m\u001b[38;5;241;43m.\u001b[39;49m\u001b[43mexecute\u001b[49m\u001b[43m(\u001b[49m\u001b[43msql\u001b[49m\u001b[43m,\u001b[49m\u001b[43m \u001b[49m\u001b[43mparams\u001b[49m\u001b[43m)\u001b[49m\n\u001b[0;32m   2739\u001b[0m     columns \u001b[38;5;241m=\u001b[39m [col_desc[\u001b[38;5;241m0\u001b[39m] \u001b[38;5;28;01mfor\u001b[39;00m col_desc \u001b[38;5;129;01min\u001b[39;00m cursor\u001b[38;5;241m.\u001b[39mdescription]\n\u001b[0;32m   2741\u001b[0m     \u001b[38;5;28;01mif\u001b[39;00m chunksize \u001b[38;5;129;01mis\u001b[39;00m \u001b[38;5;129;01mnot\u001b[39;00m \u001b[38;5;28;01mNone\u001b[39;00m:\n",
      "File \u001b[1;32mc:\\Users\\RICH-FILES\\anacoda4\\envs\\bankprod\\lib\\site-packages\\pandas\\io\\sql.py:2686\u001b[0m, in \u001b[0;36mSQLiteDatabase.execute\u001b[1;34m(self, sql, params)\u001b[0m\n\u001b[0;32m   2683\u001b[0m     \u001b[38;5;28;01mraise\u001b[39;00m ex \u001b[38;5;28;01mfrom\u001b[39;00m\u001b[38;5;250m \u001b[39m\u001b[38;5;21;01minner_exc\u001b[39;00m\n\u001b[0;32m   2685\u001b[0m ex \u001b[38;5;241m=\u001b[39m DatabaseError(\u001b[38;5;124mf\u001b[39m\u001b[38;5;124m\"\u001b[39m\u001b[38;5;124mExecution failed on sql \u001b[39m\u001b[38;5;124m'\u001b[39m\u001b[38;5;132;01m{\u001b[39;00msql\u001b[38;5;132;01m}\u001b[39;00m\u001b[38;5;124m'\u001b[39m\u001b[38;5;124m: \u001b[39m\u001b[38;5;132;01m{\u001b[39;00mexc\u001b[38;5;132;01m}\u001b[39;00m\u001b[38;5;124m\"\u001b[39m)\n\u001b[1;32m-> 2686\u001b[0m \u001b[38;5;28;01mraise\u001b[39;00m ex \u001b[38;5;28;01mfrom\u001b[39;00m\u001b[38;5;250m \u001b[39m\u001b[38;5;21;01mexc\u001b[39;00m\n",
      "\u001b[1;31mDatabaseError\u001b[0m: Execution failed on sql 'SELECT * FROM customers': no such table: customers"
     ]
    }
   ],
   "source": [
    "try:\n",
    "    config = ConfigurationManager()\n",
    "    data_generation_config = config.get_data_generation_config()\n",
    "    data_gen = DataGeneration(config= data_generation_config)\n",
    "    data_gen.generate_customer_data()\n",
    "    data_gen.save_to_csv()\n",
    "    data_gen.save_to_db()\n",
    "    print(\"Data Generation Complete\")\n",
    "except Exception as e:\n",
    "    raise e\n",
    "    \n",
    "   \n",
    "    \n",
    "    \n",
    "    \n",
    "    \n",
    "  "
   ]
  },
  {
   "cell_type": "code",
   "execution_count": null,
   "id": "a4a6ca05",
   "metadata": {},
   "outputs": [],
   "source": []
  },
  {
   "cell_type": "code",
   "execution_count": null,
   "id": "f93ecb76",
   "metadata": {},
   "outputs": [],
   "source": []
  },
  {
   "cell_type": "code",
   "execution_count": null,
   "id": "a9ba4fec",
   "metadata": {},
   "outputs": [],
   "source": []
  },
  {
   "cell_type": "code",
   "execution_count": null,
   "id": "b7c8b1b7",
   "metadata": {},
   "outputs": [],
   "source": []
  },
  {
   "cell_type": "code",
   "execution_count": null,
   "id": "8ea94700",
   "metadata": {},
   "outputs": [],
   "source": []
  },
  {
   "cell_type": "code",
   "execution_count": null,
   "id": "7189c3f0",
   "metadata": {},
   "outputs": [],
   "source": []
  },
  {
   "cell_type": "code",
   "execution_count": null,
   "id": "f4b62e14",
   "metadata": {},
   "outputs": [],
   "source": []
  },
  {
   "cell_type": "code",
   "execution_count": null,
   "id": "feaf53b7",
   "metadata": {},
   "outputs": [],
   "source": []
  },
  {
   "cell_type": "code",
   "execution_count": null,
   "id": "2263646d",
   "metadata": {},
   "outputs": [],
   "source": []
  },
  {
   "cell_type": "code",
   "execution_count": null,
   "id": "af3eccae",
   "metadata": {},
   "outputs": [],
   "source": []
  },
  {
   "cell_type": "code",
   "execution_count": null,
   "id": "5248dc95",
   "metadata": {},
   "outputs": [],
   "source": []
  },
  {
   "cell_type": "code",
   "execution_count": null,
   "id": "dba50203",
   "metadata": {},
   "outputs": [],
   "source": []
  },
  {
   "cell_type": "code",
   "execution_count": null,
   "id": "47780d07",
   "metadata": {},
   "outputs": [],
   "source": []
  },
  {
   "cell_type": "code",
   "execution_count": null,
   "id": "4eacc086",
   "metadata": {},
   "outputs": [],
   "source": []
  },
  {
   "cell_type": "code",
   "execution_count": null,
   "id": "97029125",
   "metadata": {},
   "outputs": [],
   "source": []
  },
  {
   "cell_type": "code",
   "execution_count": null,
   "id": "159571cd",
   "metadata": {},
   "outputs": [],
   "source": []
  },
  {
   "cell_type": "code",
   "execution_count": null,
   "id": "1b0452a4",
   "metadata": {},
   "outputs": [],
   "source": []
  }
 ],
 "metadata": {
  "kernelspec": {
   "display_name": "bankprod",
   "language": "python",
   "name": "python3"
  },
  "language_info": {
   "codemirror_mode": {
    "name": "ipython",
    "version": 3
   },
   "file_extension": ".py",
   "mimetype": "text/x-python",
   "name": "python",
   "nbconvert_exporter": "python",
   "pygments_lexer": "ipython3",
   "version": "3.10.16"
  }
 },
 "nbformat": 4,
 "nbformat_minor": 5
}
