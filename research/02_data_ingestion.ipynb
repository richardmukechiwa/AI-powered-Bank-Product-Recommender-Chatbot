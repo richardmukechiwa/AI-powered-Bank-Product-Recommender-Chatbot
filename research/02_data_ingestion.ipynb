{
 "cells": [
  {
   "cell_type": "code",
   "execution_count": 3,
   "id": "c9f1860e",
   "metadata": {},
   "outputs": [],
   "source": [
    "import os"
   ]
  },
  {
   "cell_type": "code",
   "execution_count": 4,
   "id": "955af0c9",
   "metadata": {},
   "outputs": [
    {
     "data": {
      "text/plain": [
       "'c:\\\\Users\\\\RICH-FILES\\\\Desktop\\\\ml\\\\AI-powered-Bank-Product-Recommender-Chatbot\\\\research'"
      ]
     },
     "execution_count": 4,
     "metadata": {},
     "output_type": "execute_result"
    }
   ],
   "source": [
    "%pwd"
   ]
  },
  {
   "cell_type": "code",
   "execution_count": 5,
   "id": "3a0f49d6",
   "metadata": {},
   "outputs": [],
   "source": [
    "os.chdir(\"../.\")"
   ]
  },
  {
   "cell_type": "code",
   "execution_count": 6,
   "id": "bdf00406",
   "metadata": {},
   "outputs": [
    {
     "data": {
      "text/plain": [
       "'c:\\\\Users\\\\RICH-FILES\\\\Desktop\\\\ml\\\\AI-powered-Bank-Product-Recommender-Chatbot'"
      ]
     },
     "execution_count": 6,
     "metadata": {},
     "output_type": "execute_result"
    }
   ],
   "source": [
    "%pwd"
   ]
  },
  {
   "cell_type": "code",
   "execution_count": 7,
   "id": "a9883dc3",
   "metadata": {},
   "outputs": [],
   "source": [
    "project_dir = \"C:/Users/RICH-FILES/Desktop/ml/AI-powered-Bank-Product-Recommender-Chatbot\"\n",
    "os.chdir(project_dir)"
   ]
  },
  {
   "cell_type": "code",
   "execution_count": 8,
   "id": "cf8f1457",
   "metadata": {},
   "outputs": [],
   "source": [
    "from dataclasses import dataclass\n",
    "from pathlib import Path\n",
    "\n",
    "\n",
    "    \n",
    "@dataclass(frozen=True)\n",
    "class DataIngestionConfig:\n",
    "    root_dir: Path\n",
    "    local_data_file: Path\n",
    "    export_csv_path: Path\n",
    "    table_name: str\n",
    "    \n",
    "    \n",
    "\n",
    "    "
   ]
  },
  {
   "cell_type": "code",
   "execution_count": 9,
   "id": "df5d7eb0",
   "metadata": {},
   "outputs": [],
   "source": [
    "from BankProducts.constants import *\n",
    "from BankProducts.utils.common import read_yaml, create_directories"
   ]
  },
  {
   "cell_type": "code",
   "execution_count": 10,
   "id": "3109e887",
   "metadata": {},
   "outputs": [],
   "source": [
    "class ConfigurationManager:\n",
    "    def __init__(\n",
    "        self,\n",
    "        config_filepath = CONFIG_FILE_PATH,    \n",
    "        params_filepath = PARAMS_FILE_PATH,\n",
    "        #schema_filepath: str = SCHEMA_FILE_PATH,\n",
    "        ):\n",
    "       \n",
    "        self.config = read_yaml(config_filepath)\n",
    "        self.params = read_yaml(params_filepath)\n",
    "        #self.schema = read_yaml(schema_filepath)        \n",
    "    \n",
    "        create_directories([self.config.artifacts_root])\n",
    "    \n",
    "    def get_data_ingestion_config(self) -> DataIngestionConfig:\n",
    "        config = self.config.data_ingestion\n",
    "    \n",
    "    \n",
    "        create_directories([self.config.artifacts_root])\n",
    "        \n",
    "        data_ingestion_config = DataIngestionConfig(\n",
    "            root_dir=Path(config.root_dir),\n",
    "            local_data_file=Path(config.local_data_file),\n",
    "            export_csv_path=Path(config.export_csv_path),\n",
    "            table_name=config.table_name\n",
    "            \n",
    "            \n",
    "        )\n",
    "        \n",
    "        return data_ingestion_config"
   ]
  },
  {
   "cell_type": "code",
   "execution_count": 11,
   "id": "0b6f679d",
   "metadata": {},
   "outputs": [],
   "source": [
    "# Import necessary libraries\n",
    "import pandas as pd\n",
    "from pathlib import Path\n",
    "from sqlalchemy import create_engine\n",
    "from BankProducts import logger\n",
    "from dotenv import load_dotenv\n",
    "import os\n",
    "from BankProducts.utils.common import get_size\n",
    "from sqlalchemy import text "
   ]
  },
  {
   "cell_type": "code",
   "execution_count": 12,
   "id": "4b8c1b43",
   "metadata": {},
   "outputs": [],
   "source": [
    "class DataIngestion:\n",
    "    def __init__(self, config: DataIngestionConfig):\n",
    "        self.config = config\n",
    "        \n",
    "        self.engine = self._create_engine_from_env()\n",
    "\n",
    "    def _create_engine_from_env(self):\n",
    "        \"\"\"Load DB credentials and return SQLAlchemy engine.\"\"\"\n",
    "        load_dotenv()\n",
    "        db_user = os.getenv(\"DB_USER\")\n",
    "        db_password = os.getenv(\"DB_PASSWORD\")\n",
    "        db_host = os.getenv(\"DB_HOST\")\n",
    "        db_port = os.getenv(\"DB_PORT\")\n",
    "        db_name = os.getenv(\"DB_NAME\")\n",
    "\n",
    "        return create_engine(f\"postgresql+psycopg2://{db_user}:{db_password}@{db_host}:{db_port}/{db_name}\")\n",
    "\n",
    "    def initiate_data_ingestion(self):\n",
    "        \"\"\"Load local CSV into PostgreSQL database.\"\"\"\n",
    "        logger.info(\"Starting data ingestion process...\")\n",
    "\n",
    "        # Check if file exists\n",
    "        csv_path = self.config.local_data_file\n",
    "        if not os.path.exists(csv_path):\n",
    "            logger.error(\"CSV file not found. Please check the file path.\")\n",
    "            return\n",
    "\n",
    "        try:\n",
    "            df = pd.read_csv(csv_path)\n",
    "            df.to_sql(\"bank_transactions\", self.engine, if_exists=\"replace\", index=False)\n",
    "            logger.info(\"Dataset successfully loaded into PostgreSQL.\")\n",
    "        except Exception as e:\n",
    "            logger.error(f\"Failed to load data into PostgreSQL: {e}\")\n",
    "\n",
    "    def extract_and_save_data(self):\n",
    "        \"\"\"Fetch data from DB and save to CSV.\"\"\"\n",
    "        logger.info(\"Extracting and saving data...\")\n",
    "\n",
    "        query = \"SELECT * FROM bank_transactions;\"\n",
    "\n",
    "        try:\n",
    "            with self.engine.connect() as connection:\n",
    "                result = connection.execute(text(\"SELECT to_regclass('bank_transactions')\"))\n",
    "                table_exists = result.scalar() is not None\n",
    "\n",
    "            if not table_exists:\n",
    "                logger.error(\"Table 'bank_transactions' does not exist in the database.\")\n",
    "                return\n",
    "\n",
    "            logger.info(\"Fetching data from the 'bank_transactions' table...\")\n",
    "            df = pd.read_sql(query, self.engine)\n",
    "            output_path = self.config.export_csv_path\n",
    "            df.to_csv(output_path, index=False)\n",
    "            logger.info(f\"Data successfully exported to '{output_path}'.\")\n",
    "\n",
    "        except Exception as e:\n",
    "            logger.error(f\"Error while extracting data from database: {e}\")\n"
   ]
  },
  {
   "cell_type": "code",
   "execution_count": 13,
   "id": "f05dd0a3",
   "metadata": {},
   "outputs": [
    {
     "name": "stdout",
     "output_type": "stream",
     "text": [
      "[2025-06-02 22:33:09,760: INFO: common: yaml file: config\\config.yaml loaded successfully]\n",
      "[2025-06-02 22:33:09,768: INFO: common: yaml file: params.yaml loaded successfully]\n",
      "[2025-06-02 22:33:09,771: INFO: common: created directory at: artifacts]\n",
      "[2025-06-02 22:33:09,772: INFO: common: created directory at: artifacts]\n",
      "[2025-06-02 22:33:09,908: INFO: 1616883339: Extracting and saving data...]\n",
      "[2025-06-02 22:33:10,124: INFO: 1616883339: Fetching data from the 'bank_transactions' table...]\n",
      "[2025-06-02 22:33:10,628: INFO: 1616883339: Data successfully exported to 'artifacts\\data_ingestion\\customer_data.csv'.]\n"
     ]
    }
   ],
   "source": [
    "try:\n",
    "    config = ConfigurationManager()\n",
    "    data_ingestion_config = config.get_data_ingestion_config()\n",
    "    data_ingestion = DataIngestion(config=data_ingestion_config)\n",
    "    #data_ingestion.initiate_data_ingestion()\n",
    "    data_ingestion.extract_and_save_data()\n",
    "    \n",
    "except Exception as e:\n",
    "    logger.exception(e)\n",
    "    raise e\n"
   ]
  },
  {
   "cell_type": "code",
   "execution_count": 14,
   "id": "9eb5e36d",
   "metadata": {},
   "outputs": [
    {
     "name": "stdout",
     "output_type": "stream",
     "text": [
      "   transactionid  customerid transactiondate transactiontype        amount  \\\n",
      "0              1        8270      2025-01-29    Card Payment   6980.185223   \n",
      "1              2        1860      2023-02-10         Deposit  10786.371850   \n",
      "2              3        6390      2024-03-07        Transfer   3982.761111   \n",
      "3              4        6191      2023-07-04      Withdrawal  12408.644140   \n",
      "4              5        6734      2025-02-05             Fee   1868.260998   \n",
      "\n",
      "    productcategory productsubcategory branchcity  branchlat  branchlong  \\\n",
      "0  Checking Account               Gold    Seville    37.3891     -5.9845   \n",
      "1          Mortgage               Gold     Murcia    37.9847     -1.1287   \n",
      "2              Loan           Platinum     Malaga    36.7213     -4.4214   \n",
      "3          Mortgage           Standard    Seville    37.3891     -5.9845   \n",
      "4  Checking Account           Platinum     Murcia    37.9847     -1.1287   \n",
      "\n",
      "  channel currency  creditcardfees  insurancefees  latepaymentamount  \\\n",
      "0  Branch      EUR             0.0           0.00                0.0   \n",
      "1  Branch      EUR             0.0           0.00                0.0   \n",
      "2     ATM      EUR             0.0          92.46                0.0   \n",
      "3     ATM      EUR             0.0           0.00                0.0   \n",
      "4  Mobile      USD             0.0           0.00                0.0   \n",
      "\n",
      "   customerscore  monthlyincome        customersegment  \\\n",
      "0            839        5767.68  Middle Income Segment   \n",
      "1            683        2441.00     Low Income Segment   \n",
      "2            500        9957.08    High Income Segment   \n",
      "3            392        1545.80     Low Income Segment   \n",
      "4            368        5825.27  Middle Income Segment   \n",
      "\n",
      "                    recommendedoffer  \n",
      "0           Mid-tier Savings Booster  \n",
      "1  Financial Literacy Program Access  \n",
      "2        Premium Investment Services  \n",
      "3  Financial Literacy Program Access  \n",
      "4           Mid-tier Savings Booster  \n"
     ]
    }
   ],
   "source": [
    "import pandas as pd\n",
    "df = pd.read_csv(data_ingestion_config.export_csv_path)\n",
    "print(df.head())"
   ]
  },
  {
   "cell_type": "code",
   "execution_count": null,
   "id": "0d703ea1",
   "metadata": {},
   "outputs": [],
   "source": []
  },
  {
   "cell_type": "code",
   "execution_count": null,
   "id": "5045f9f7",
   "metadata": {},
   "outputs": [],
   "source": []
  },
  {
   "cell_type": "code",
   "execution_count": null,
   "id": "83afc801",
   "metadata": {},
   "outputs": [],
   "source": []
  },
  {
   "cell_type": "code",
   "execution_count": null,
   "id": "3d73fe94",
   "metadata": {},
   "outputs": [],
   "source": []
  },
  {
   "cell_type": "code",
   "execution_count": null,
   "id": "291bada0",
   "metadata": {},
   "outputs": [],
   "source": []
  },
  {
   "cell_type": "code",
   "execution_count": null,
   "id": "40f41390",
   "metadata": {},
   "outputs": [],
   "source": []
  },
  {
   "cell_type": "code",
   "execution_count": null,
   "id": "3fb32ada",
   "metadata": {},
   "outputs": [],
   "source": []
  }
 ],
 "metadata": {
  "kernelspec": {
   "display_name": "bankprod",
   "language": "python",
   "name": "python3"
  },
  "language_info": {
   "codemirror_mode": {
    "name": "ipython",
    "version": 3
   },
   "file_extension": ".py",
   "mimetype": "text/x-python",
   "name": "python",
   "nbconvert_exporter": "python",
   "pygments_lexer": "ipython3",
   "version": "3.10.16"
  }
 },
 "nbformat": 4,
 "nbformat_minor": 5
}
