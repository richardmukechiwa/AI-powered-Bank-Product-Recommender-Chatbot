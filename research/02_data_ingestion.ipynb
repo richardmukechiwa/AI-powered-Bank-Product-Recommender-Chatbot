{
 "cells": [
  {
   "cell_type": "code",
   "execution_count": 67,
   "id": "c9f1860e",
   "metadata": {},
   "outputs": [],
   "source": [
    "import os"
   ]
  },
  {
   "cell_type": "code",
   "execution_count": 68,
   "id": "955af0c9",
   "metadata": {},
   "outputs": [
    {
     "data": {
      "text/plain": [
       "'C:\\\\Users\\\\RICH-FILES\\\\Desktop\\\\ml\\\\AI-powered-Bank-Product-Recommender-Chatbot'"
      ]
     },
     "execution_count": 68,
     "metadata": {},
     "output_type": "execute_result"
    }
   ],
   "source": [
    "%pwd"
   ]
  },
  {
   "cell_type": "code",
   "execution_count": 69,
   "id": "3a0f49d6",
   "metadata": {},
   "outputs": [],
   "source": [
    "os.chdir(\"../.\")"
   ]
  },
  {
   "cell_type": "code",
   "execution_count": 70,
   "id": "bdf00406",
   "metadata": {},
   "outputs": [
    {
     "data": {
      "text/plain": [
       "'C:\\\\Users\\\\RICH-FILES\\\\Desktop\\\\ml'"
      ]
     },
     "execution_count": 70,
     "metadata": {},
     "output_type": "execute_result"
    }
   ],
   "source": [
    "%pwd"
   ]
  },
  {
   "cell_type": "code",
   "execution_count": 71,
   "id": "a9883dc3",
   "metadata": {},
   "outputs": [],
   "source": [
    "project_dir = \"C:/Users/RICH-FILES/Desktop/ml/AI-powered-Bank-Product-Recommender-Chatbot\"\n",
    "os.chdir(project_dir)"
   ]
  },
  {
   "cell_type": "code",
   "execution_count": null,
   "id": "cf8f1457",
   "metadata": {},
   "outputs": [],
   "source": [
    "from dataclasses import dataclass\n",
    "from pathlib import Path\n",
    "\n",
    "\n",
    "    \n",
    "@dataclass(frozen=True)\n",
    "class DataIngestionConfig:\n",
    "    root_dir: Path\n",
    "    local_data_file: Path\n",
    "    #export_csv_path: Path\n",
    "    output_path: Path\n",
    "    table_name: str\n",
    "    \n",
    "    \n",
    "\n",
    "    "
   ]
  },
  {
   "cell_type": "code",
   "execution_count": 73,
   "id": "df5d7eb0",
   "metadata": {},
   "outputs": [],
   "source": [
    "from BankProducts.constants import *\n",
    "from BankProducts.utils.common import read_yaml, create_directories"
   ]
  },
  {
   "cell_type": "code",
   "execution_count": null,
   "id": "3109e887",
   "metadata": {},
   "outputs": [],
   "source": [
    "class ConfigurationManager:\n",
    "    def __init__(\n",
    "        self,\n",
    "        config_filepath = CONFIG_FILE_PATH,    \n",
    "        params_filepath = PARAMS_FILE_PATH,\n",
    "        schema_filepath: str = SCHEMA_FILE_PATH,\n",
    "        ):\n",
    "       \n",
    "        self.config = read_yaml(config_filepath)\n",
    "        self.params = read_yaml(params_filepath)\n",
    "        self.schema = read_yaml(schema_filepath)        \n",
    "    \n",
    "        create_directories([self.config.artifacts_root])\n",
    "    \n",
    "    def get_data_ingestion_config(self) -> DataIngestionConfig:\n",
    "        config = self.config.data_ingestion\n",
    "    \n",
    "    \n",
    "        create_directories([self.config.artifacts_root])\n",
    "        \n",
    "        data_ingestion_config = DataIngestionConfig(\n",
    "            root_dir=Path(config.root_dir),\n",
    "            local_data_file=Path(config.local_data_file),\n",
    "            #export_csv_path=Path(config.export_csv_path),\n",
    "            output_path=Path(config.output_path),\n",
    "            table_name=config.table_name\n",
    "            \n",
    "            \n",
    "        )\n",
    "        \n",
    "        return data_ingestion_config"
   ]
  },
  {
   "cell_type": "code",
   "execution_count": 75,
   "id": "0b6f679d",
   "metadata": {},
   "outputs": [],
   "source": [
    "# Import necessary libraries\n",
    "import pandas as pd\n",
    "from pathlib import Path\n",
    "from sqlalchemy import create_engine\n",
    "from BankProducts import logger\n",
    "from dotenv import load_dotenv\n",
    "import os\n",
    "from BankProducts.utils.common import get_size\n",
    "from sqlalchemy import text "
   ]
  },
  {
   "cell_type": "code",
   "execution_count": 76,
   "id": "4b8c1b43",
   "metadata": {},
   "outputs": [],
   "source": [
    "class DataIngestion:\n",
    "    def __init__(self, config: DataIngestionConfig):\n",
    "        self.config = config\n",
    "        \n",
    "        self.engine = self._create_engine_from_env()\n",
    "\n",
    "    def _create_engine_from_env(self):\n",
    "        \"\"\"Load DB credentials and return SQLAlchemy engine.\"\"\"\n",
    "        load_dotenv()\n",
    "        db_user = os.getenv(\"DB_USER\")\n",
    "        db_password = os.getenv(\"DB_PASSWORD\")\n",
    "        db_host = os.getenv(\"DB_HOST\")\n",
    "        db_port = os.getenv(\"DB_PORT\")\n",
    "        db_name = os.getenv(\"DB_NAME\")\n",
    "\n",
    "        return create_engine(f\"postgresql+psycopg2://{db_user}:{db_password}@{db_host}:{db_port}/{db_name}\")\n",
    "\n",
    "    def initiate_data_ingestion(self):\n",
    "        \"\"\"Load local CSV into PostgreSQL database.\"\"\"\n",
    "        logger.info(\"Starting data ingestion process...\")\n",
    "\n",
    "        # Check if file exists\n",
    "        csv_path = self.config.local_data_file\n",
    "        if not os.path.exists(csv_path):\n",
    "            logger.error(\"CSV file not found. Please check the file path.\")\n",
    "            return\n",
    "\n",
    "        try:\n",
    "            df = pd.read_csv(csv_path)\n",
    "            df.to_sql(\"bank_transactions\", self.engine, if_exists=\"replace\", index=False)\n",
    "            logger.info(\"Dataset successfully loaded into PostgreSQL.\")\n",
    "        except Exception as e:\n",
    "            logger.error(f\"Failed to load data into PostgreSQL: {e}\")\n",
    "\n",
    "    def extract_and_save_data(self):\n",
    "        \"\"\"Fetch data from DB and save to CSV.\"\"\"\n",
    "        logger.info(\"Extracting and saving data...\")\n",
    "\n",
    "        query = \"SELECT * FROM bank_transactions;\"\n",
    "\n",
    "        try:\n",
    "            with self.engine.connect() as connection:\n",
    "                result = connection.execute(text(\"SELECT to_regclass('bank_transactions')\"))\n",
    "                table_exists = result.scalar() is not None\n",
    "\n",
    "            if not table_exists:\n",
    "                logger.error(\"Table 'bank_transactions' does not exist in the database.\")\n",
    "                return\n",
    "\n",
    "            logger.info(\"Fetching data from the 'bank_transactions' table...\")\n",
    "            df = pd.read_sql(query, self.engine)\n",
    "            output_path = self.config.output_path\n",
    "            if not output_path.parent.exists():\n",
    "                output_path.parent.mkdir(parents=True, exist_ok=True)   \n",
    "            df.to_csv(self.config.output_path, index=False)\n",
    "            logger.info(f\"Data successfully exported to '{output_path}'.\")\n",
    "\n",
    "        except Exception as e:\n",
    "            logger.error(f\"Error while extracting data from database: {e}\")\n"
   ]
  },
  {
   "cell_type": "code",
   "execution_count": 77,
   "id": "f05dd0a3",
   "metadata": {},
   "outputs": [
    {
     "name": "stdout",
     "output_type": "stream",
     "text": [
      "[2025-06-09 01:03:53,729: INFO: common: yaml file: config\\config.yaml loaded successfully]\n",
      "[2025-06-09 01:03:53,736: INFO: common: yaml file: params.yaml loaded successfully]\n",
      "[2025-06-09 01:03:53,742: INFO: common: yaml file: schema.yaml loaded successfully]\n",
      "[2025-06-09 01:03:53,745: INFO: common: created directory at: artifacts]\n",
      "[2025-06-09 01:03:53,747: INFO: common: created directory at: artifacts]\n",
      "[2025-06-09 01:03:53,763: ERROR: 4071215377: \"'ConfigBox' object has no attribute 'export_csv_path'\"]\n",
      "Traceback (most recent call last):\n",
      "  File \"box\\box.py\", line 503, in box.box.Box.__getitem__\n",
      "KeyError: 'export_csv_path'\n",
      "\n",
      "The above exception was the direct cause of the following exception:\n",
      "\n",
      "Traceback (most recent call last):\n",
      "  File \"box\\box.py\", line 536, in box.box.Box.__getattr__\n",
      "  File \"box\\box.py\", line 524, in box.box.Box.__getitem__\n",
      "box.exceptions.BoxKeyError: \"'export_csv_path'\"\n",
      "\n",
      "During handling of the above exception, another exception occurred:\n",
      "\n",
      "Traceback (most recent call last):\n",
      "  File \"box\\box.py\", line 538, in box.box.Box.__getattr__\n",
      "AttributeError: 'ConfigBox' object has no attribute 'export_csv_path'\n",
      "\n",
      "The above exception was the direct cause of the following exception:\n",
      "\n",
      "Traceback (most recent call last):\n",
      "  File \"box\\config_box.py\", line 28, in box.config_box.ConfigBox.__getattr__\n",
      "  File \"box\\box.py\", line 552, in box.box.Box.__getattr__\n",
      "box.exceptions.BoxKeyError: \"'ConfigBox' object has no attribute 'export_csv_path'\"\n",
      "\n",
      "During handling of the above exception, another exception occurred:\n",
      "\n",
      "Traceback (most recent call last):\n",
      "  File \"box\\box.py\", line 503, in box.box.Box.__getitem__\n",
      "KeyError: 'export_csv_path'\n",
      "\n",
      "The above exception was the direct cause of the following exception:\n",
      "\n",
      "Traceback (most recent call last):\n",
      "  File \"box\\box.py\", line 536, in box.box.Box.__getattr__\n",
      "  File \"box\\box.py\", line 524, in box.box.Box.__getitem__\n",
      "box.exceptions.BoxKeyError: \"'export_csv_path'\"\n",
      "\n",
      "During handling of the above exception, another exception occurred:\n",
      "\n",
      "Traceback (most recent call last):\n",
      "  File \"box\\box.py\", line 538, in box.box.Box.__getattr__\n",
      "AttributeError: 'ConfigBox' object has no attribute 'export_csv_path'\n",
      "\n",
      "The above exception was the direct cause of the following exception:\n",
      "\n",
      "Traceback (most recent call last):\n",
      "  File \"C:\\Users\\RICH-FILES\\AppData\\Local\\Temp\\ipykernel_14224\\4071215377.py\", line 3, in <module>\n",
      "    data_ingestion_config = config.get_data_ingestion_config()\n",
      "  File \"C:\\Users\\RICH-FILES\\AppData\\Local\\Temp\\ipykernel_14224\\3309296863.py\", line 24, in get_data_ingestion_config\n",
      "    export_csv_path=Path(config.export_csv_path),\n",
      "  File \"box\\config_box.py\", line 30, in box.config_box.ConfigBox.__getattr__\n",
      "  File \"box\\box.py\", line 552, in box.box.Box.__getattr__\n",
      "box.exceptions.BoxKeyError: \"'ConfigBox' object has no attribute 'export_csv_path'\"\n"
     ]
    },
    {
     "ename": "BoxKeyError",
     "evalue": "\"'ConfigBox' object has no attribute 'export_csv_path'\"",
     "output_type": "error",
     "traceback": [
      "\u001b[1;31m---------------------------------------------------------------------------\u001b[0m",
      "\u001b[1;31mKeyError\u001b[0m                                  Traceback (most recent call last)",
      "File \u001b[1;32mc:\\Users\\RICH-FILES\\anacoda4\\envs\\bankprod\\lib\\site-packages\\box\\box.py:503\u001b[0m, in \u001b[0;36mbox.box.Box.__getitem__\u001b[1;34m()\u001b[0m\n",
      "\u001b[1;31mKeyError\u001b[0m: 'export_csv_path'",
      "\nThe above exception was the direct cause of the following exception:\n",
      "\u001b[1;31mBoxKeyError\u001b[0m                               Traceback (most recent call last)",
      "File \u001b[1;32mc:\\Users\\RICH-FILES\\anacoda4\\envs\\bankprod\\lib\\site-packages\\box\\box.py:536\u001b[0m, in \u001b[0;36mbox.box.Box.__getattr__\u001b[1;34m()\u001b[0m\n",
      "File \u001b[1;32mc:\\Users\\RICH-FILES\\anacoda4\\envs\\bankprod\\lib\\site-packages\\box\\box.py:524\u001b[0m, in \u001b[0;36mbox.box.Box.__getitem__\u001b[1;34m()\u001b[0m\n",
      "\u001b[1;31mBoxKeyError\u001b[0m: \"'export_csv_path'\"",
      "\nDuring handling of the above exception, another exception occurred:\n",
      "\u001b[1;31mAttributeError\u001b[0m                            Traceback (most recent call last)",
      "File \u001b[1;32mc:\\Users\\RICH-FILES\\anacoda4\\envs\\bankprod\\lib\\site-packages\\box\\box.py:538\u001b[0m, in \u001b[0;36mbox.box.Box.__getattr__\u001b[1;34m()\u001b[0m\n",
      "\u001b[1;31mAttributeError\u001b[0m: 'ConfigBox' object has no attribute 'export_csv_path'",
      "\nThe above exception was the direct cause of the following exception:\n",
      "\u001b[1;31mBoxKeyError\u001b[0m                               Traceback (most recent call last)",
      "File \u001b[1;32mc:\\Users\\RICH-FILES\\anacoda4\\envs\\bankprod\\lib\\site-packages\\box\\config_box.py:28\u001b[0m, in \u001b[0;36mbox.config_box.ConfigBox.__getattr__\u001b[1;34m()\u001b[0m\n",
      "File \u001b[1;32mc:\\Users\\RICH-FILES\\anacoda4\\envs\\bankprod\\lib\\site-packages\\box\\box.py:552\u001b[0m, in \u001b[0;36mbox.box.Box.__getattr__\u001b[1;34m()\u001b[0m\n",
      "\u001b[1;31mBoxKeyError\u001b[0m: \"'ConfigBox' object has no attribute 'export_csv_path'\"",
      "\nDuring handling of the above exception, another exception occurred:\n",
      "\u001b[1;31mKeyError\u001b[0m                                  Traceback (most recent call last)",
      "File \u001b[1;32mc:\\Users\\RICH-FILES\\anacoda4\\envs\\bankprod\\lib\\site-packages\\box\\box.py:503\u001b[0m, in \u001b[0;36mbox.box.Box.__getitem__\u001b[1;34m()\u001b[0m\n",
      "\u001b[1;31mKeyError\u001b[0m: 'export_csv_path'",
      "\nThe above exception was the direct cause of the following exception:\n",
      "\u001b[1;31mBoxKeyError\u001b[0m                               Traceback (most recent call last)",
      "File \u001b[1;32mc:\\Users\\RICH-FILES\\anacoda4\\envs\\bankprod\\lib\\site-packages\\box\\box.py:536\u001b[0m, in \u001b[0;36mbox.box.Box.__getattr__\u001b[1;34m()\u001b[0m\n",
      "File \u001b[1;32mc:\\Users\\RICH-FILES\\anacoda4\\envs\\bankprod\\lib\\site-packages\\box\\box.py:524\u001b[0m, in \u001b[0;36mbox.box.Box.__getitem__\u001b[1;34m()\u001b[0m\n",
      "\u001b[1;31mBoxKeyError\u001b[0m: \"'export_csv_path'\"",
      "\nDuring handling of the above exception, another exception occurred:\n",
      "\u001b[1;31mAttributeError\u001b[0m                            Traceback (most recent call last)",
      "File \u001b[1;32mc:\\Users\\RICH-FILES\\anacoda4\\envs\\bankprod\\lib\\site-packages\\box\\box.py:538\u001b[0m, in \u001b[0;36mbox.box.Box.__getattr__\u001b[1;34m()\u001b[0m\n",
      "\u001b[1;31mAttributeError\u001b[0m: 'ConfigBox' object has no attribute 'export_csv_path'",
      "\nThe above exception was the direct cause of the following exception:\n",
      "\u001b[1;31mBoxKeyError\u001b[0m                               Traceback (most recent call last)",
      "Cell \u001b[1;32mIn[77], line 10\u001b[0m\n\u001b[0;32m      8\u001b[0m \u001b[38;5;28;01mexcept\u001b[39;00m \u001b[38;5;167;01mException\u001b[39;00m \u001b[38;5;28;01mas\u001b[39;00m e:\n\u001b[0;32m      9\u001b[0m     logger\u001b[38;5;241m.\u001b[39mexception(e)\n\u001b[1;32m---> 10\u001b[0m     \u001b[38;5;28;01mraise\u001b[39;00m e\n",
      "Cell \u001b[1;32mIn[77], line 3\u001b[0m\n\u001b[0;32m      1\u001b[0m \u001b[38;5;28;01mtry\u001b[39;00m:\n\u001b[0;32m      2\u001b[0m     config \u001b[38;5;241m=\u001b[39m ConfigurationManager()\n\u001b[1;32m----> 3\u001b[0m     data_ingestion_config \u001b[38;5;241m=\u001b[39m \u001b[43mconfig\u001b[49m\u001b[38;5;241;43m.\u001b[39;49m\u001b[43mget_data_ingestion_config\u001b[49m\u001b[43m(\u001b[49m\u001b[43m)\u001b[49m\n\u001b[0;32m      4\u001b[0m     data_ingestion \u001b[38;5;241m=\u001b[39m DataIngestion(config\u001b[38;5;241m=\u001b[39mdata_ingestion_config)\n\u001b[0;32m      5\u001b[0m     \u001b[38;5;66;03m#data_ingestion.initiate_data_ingestion()\u001b[39;00m\n",
      "Cell \u001b[1;32mIn[74], line 24\u001b[0m, in \u001b[0;36mConfigurationManager.get_data_ingestion_config\u001b[1;34m(self)\u001b[0m\n\u001b[0;32m     16\u001b[0m config \u001b[38;5;241m=\u001b[39m \u001b[38;5;28mself\u001b[39m\u001b[38;5;241m.\u001b[39mconfig\u001b[38;5;241m.\u001b[39mdata_ingestion\n\u001b[0;32m     19\u001b[0m create_directories([\u001b[38;5;28mself\u001b[39m\u001b[38;5;241m.\u001b[39mconfig\u001b[38;5;241m.\u001b[39martifacts_root])\n\u001b[0;32m     21\u001b[0m data_ingestion_config \u001b[38;5;241m=\u001b[39m DataIngestionConfig(\n\u001b[0;32m     22\u001b[0m     root_dir\u001b[38;5;241m=\u001b[39mPath(config\u001b[38;5;241m.\u001b[39mroot_dir),\n\u001b[0;32m     23\u001b[0m     local_data_file\u001b[38;5;241m=\u001b[39mPath(config\u001b[38;5;241m.\u001b[39mlocal_data_file),\n\u001b[1;32m---> 24\u001b[0m     export_csv_path\u001b[38;5;241m=\u001b[39mPath(\u001b[43mconfig\u001b[49m\u001b[38;5;241;43m.\u001b[39;49m\u001b[43mexport_csv_path\u001b[49m),\n\u001b[0;32m     25\u001b[0m     output_path\u001b[38;5;241m=\u001b[39mPath(config\u001b[38;5;241m.\u001b[39moutput_path),\n\u001b[0;32m     26\u001b[0m     table_name\u001b[38;5;241m=\u001b[39mconfig\u001b[38;5;241m.\u001b[39mtable_name\n\u001b[0;32m     27\u001b[0m     \n\u001b[0;32m     28\u001b[0m     \n\u001b[0;32m     29\u001b[0m )\n\u001b[0;32m     31\u001b[0m \u001b[38;5;28;01mreturn\u001b[39;00m data_ingestion_config\n",
      "File \u001b[1;32mc:\\Users\\RICH-FILES\\anacoda4\\envs\\bankprod\\lib\\site-packages\\box\\config_box.py:30\u001b[0m, in \u001b[0;36mbox.config_box.ConfigBox.__getattr__\u001b[1;34m()\u001b[0m\n",
      "File \u001b[1;32mc:\\Users\\RICH-FILES\\anacoda4\\envs\\bankprod\\lib\\site-packages\\box\\box.py:552\u001b[0m, in \u001b[0;36mbox.box.Box.__getattr__\u001b[1;34m()\u001b[0m\n",
      "\u001b[1;31mBoxKeyError\u001b[0m: \"'ConfigBox' object has no attribute 'export_csv_path'\""
     ]
    }
   ],
   "source": [
    "try:\n",
    "    config = ConfigurationManager()\n",
    "    data_ingestion_config = config.get_data_ingestion_config()\n",
    "    data_ingestion = DataIngestion(config=data_ingestion_config)\n",
    "    #data_ingestion.initiate_data_ingestion()\n",
    "    data_ingestion.extract_and_save_data()\n",
    "    \n",
    "except Exception as e:\n",
    "    logger.exception(e)\n",
    "    raise e\n"
   ]
  },
  {
   "cell_type": "code",
   "execution_count": null,
   "id": "83afc801",
   "metadata": {},
   "outputs": [],
   "source": []
  },
  {
   "cell_type": "code",
   "execution_count": null,
   "id": "3d73fe94",
   "metadata": {},
   "outputs": [],
   "source": []
  },
  {
   "cell_type": "code",
   "execution_count": null,
   "id": "291bada0",
   "metadata": {},
   "outputs": [],
   "source": []
  },
  {
   "cell_type": "code",
   "execution_count": null,
   "id": "40f41390",
   "metadata": {},
   "outputs": [],
   "source": []
  },
  {
   "cell_type": "code",
   "execution_count": null,
   "id": "3fb32ada",
   "metadata": {},
   "outputs": [],
   "source": []
  }
 ],
 "metadata": {
  "kernelspec": {
   "display_name": "bankprod",
   "language": "python",
   "name": "python3"
  },
  "language_info": {
   "codemirror_mode": {
    "name": "ipython",
    "version": 3
   },
   "file_extension": ".py",
   "mimetype": "text/x-python",
   "name": "python",
   "nbconvert_exporter": "python",
   "pygments_lexer": "ipython3",
   "version": "3.10.16"
  }
 },
 "nbformat": 4,
 "nbformat_minor": 5
}
