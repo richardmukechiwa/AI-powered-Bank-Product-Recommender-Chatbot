{
 "cells": [
  {
   "cell_type": "code",
   "execution_count": 37,
   "id": "c9f1860e",
   "metadata": {},
   "outputs": [],
   "source": [
    "import os"
   ]
  },
  {
   "cell_type": "code",
   "execution_count": 38,
   "id": "955af0c9",
   "metadata": {},
   "outputs": [
    {
     "data": {
      "text/plain": [
       "'C:\\\\Users\\\\RICH-FILES\\\\Desktop\\\\ml\\\\AI-powered-Bank-Product-Recommender-Chatbot'"
      ]
     },
     "execution_count": 38,
     "metadata": {},
     "output_type": "execute_result"
    }
   ],
   "source": [
    "%pwd"
   ]
  },
  {
   "cell_type": "code",
   "execution_count": 39,
   "id": "3a0f49d6",
   "metadata": {},
   "outputs": [],
   "source": [
    "os.chdir(\"../.\")"
   ]
  },
  {
   "cell_type": "code",
   "execution_count": 40,
   "id": "bdf00406",
   "metadata": {},
   "outputs": [
    {
     "data": {
      "text/plain": [
       "'C:\\\\Users\\\\RICH-FILES\\\\Desktop\\\\ml'"
      ]
     },
     "execution_count": 40,
     "metadata": {},
     "output_type": "execute_result"
    }
   ],
   "source": [
    "%pwd"
   ]
  },
  {
   "cell_type": "code",
   "execution_count": 41,
   "id": "a9883dc3",
   "metadata": {},
   "outputs": [],
   "source": [
    "project_dir = \"C:/Users/RICH-FILES/Desktop/ml/AI-powered-Bank-Product-Recommender-Chatbot\"\n",
    "os.chdir(project_dir)"
   ]
  },
  {
   "cell_type": "code",
   "execution_count": 42,
   "id": "cf8f1457",
   "metadata": {},
   "outputs": [],
   "source": [
    "from dataclasses import dataclass\n",
    "from pathlib import Path\n",
    "\n",
    "\n",
    "    \n",
    "@dataclass(frozen=True)\n",
    "class DataIngestionConfig:\n",
    "    root_dir: Path\n",
    "    raw_data_dir: Path\n",
    "    data_file: Path\n",
    "    customers_csv: Path\n",
    "    products_csv: Path\n",
    "    customers_table: str\n",
    "    products_table: str\n",
    "\n",
    "    "
   ]
  },
  {
   "cell_type": "code",
   "execution_count": 43,
   "id": "df5d7eb0",
   "metadata": {},
   "outputs": [],
   "source": [
    "from BankProducts.constants import *\n",
    "from BankProducts.utils.common import read_yaml, create_directories"
   ]
  },
  {
   "cell_type": "code",
   "execution_count": 44,
   "id": "3109e887",
   "metadata": {},
   "outputs": [],
   "source": [
    "class ConfigurationManager:\n",
    "    def __init__(\n",
    "        self,\n",
    "        config_filepath = CONFIG_FILE_PATH,    \n",
    "        params_filepath = PARAMS_FILE_PATH,\n",
    "        #schema_filepath: str = SCHEMA_FILE_PATH,\n",
    "        ):\n",
    "       \n",
    "        self.config = read_yaml(config_filepath)\n",
    "        self.params = read_yaml(params_filepath)\n",
    "        #self.schema = read_yaml(schema_filepath)        \n",
    "    \n",
    "        create_directories([self.config.artifacts_root])\n",
    "    \n",
    "    def get_data_ingestion_config(self) -> DataIngestionConfig:\n",
    "        config = self.config.data_ingestion\n",
    "        table_config = self.config.data_generation.table\n",
    "    \n",
    "        create_directories([self.config.artifacts_root])\n",
    "        \n",
    "        data_ingestion_config = DataIngestionConfig(\n",
    "            root_dir=Path(config.root_dir),\n",
    "            raw_data_dir=Path(config.raw_data_dir),\n",
    "            customers_table=table_config.customers,\n",
    "            products_table=table_config.products,\n",
    "            data_file=Path(config.data_file),\n",
    "            customers_csv=Path(config.customers_csv),\n",
    "            products_csv=Path(config.products_csv)\n",
    "            \n",
    "        )\n",
    "        \n",
    "        return data_ingestion_config"
   ]
  },
  {
   "cell_type": "code",
   "execution_count": 45,
   "id": "0b6f679d",
   "metadata": {},
   "outputs": [],
   "source": [
    "import os\n",
    "import logging\n",
    "import sqlite3\n",
    "import pandas as pd\n",
    "from pathlib import Path\n",
    "from sqlalchemy import create_engine\n",
    "from BankProducts import logger"
   ]
  },
  {
   "cell_type": "code",
   "execution_count": 46,
   "id": "4b8c1b43",
   "metadata": {},
   "outputs": [],
   "source": [
    "class DataIngestion:\n",
    "    def __init__(self, config: DataIngestionConfig):\n",
    "        self.config = config\n",
    "\n",
    "    def extract_and_save_data(self):\n",
    "        \"\"\"Extract customers and products data from SQLite DB and save as CSV.\"\"\"\n",
    "        logging.info(f\"Connecting to database: {self.config.data_file}\")\n",
    "        conn = sqlite3.connect(self.config.data_file)\n",
    "\n",
    "        try:\n",
    "            customers_df = pd.read_sql_query(f\"SELECT * FROM {self.config.customers_table}\", conn)\n",
    "            products_df = pd.read_sql_query(f\"SELECT * FROM {self.config.products_table}\", conn)\n",
    "            logging.info(f\"Successfully read tables {self.config.customers_table} and {self.config.products_table}\")\n",
    "        finally:\n",
    "            conn.close()\n",
    "            logging.info(\"Database connection closed.\")\n",
    "\n",
    "        # Ensure directories exist\n",
    "        Path(self.config.raw_data_dir).mkdir(parents=True, exist_ok=True)\n",
    "\n",
    "        # Save to CSV at correct file paths\n",
    "        customers_df.to_csv(self.config.customers_csv, index=False)\n",
    "        products_df.to_csv(self.config.products_csv, index=False)\n",
    "        logging.info(f\"Customers data saved to: {self.config.customers_csv}\")\n",
    "        logging.info(f\"Products data saved to: {self.config.products_csv}\")\n",
    "\n",
    "        return customers_df, products_df\n"
   ]
  },
  {
   "cell_type": "code",
   "execution_count": 47,
   "id": "f05dd0a3",
   "metadata": {},
   "outputs": [
    {
     "name": "stdout",
     "output_type": "stream",
     "text": [
      "[2025-05-24 14:56:25,527: INFO: common: yaml file: config\\config.yaml loaded successfully]\n",
      "[2025-05-24 14:56:25,548: INFO: common: yaml file: params.yaml loaded successfully]\n",
      "[2025-05-24 14:56:25,564: INFO: common: created directory at: artifacts]\n",
      "[2025-05-24 14:56:25,566: INFO: common: created directory at: artifacts]\n",
      "[2025-05-24 14:56:25,567: INFO: 4158832910: Connecting to database: artifacts\\data_generation\\bank_products_recommender.db]\n",
      "[2025-05-24 14:56:25,984: INFO: 4158832910: Successfully read tables customers and products]\n",
      "[2025-05-24 14:56:25,987: INFO: 4158832910: Database connection closed.]\n",
      "[2025-05-24 14:56:26,256: INFO: 4158832910: Customers data saved to: artifacts\\data_ingestion\\raw_data\\bank_customers.csv]\n",
      "[2025-05-24 14:56:26,257: INFO: 4158832910: Products data saved to: artifacts\\data_ingestion\\raw_data\\product_catalog.csv]\n"
     ]
    }
   ],
   "source": [
    "try:\n",
    "    config = ConfigurationManager()\n",
    "    data_ingestion_config = config.get_data_ingestion_config()\n",
    "    data_ingestion = DataIngestion(config=data_ingestion_config)\n",
    "    data_ingestion.extract_and_save_data()\n",
    "except Exception as e:\n",
    "    logger.exception(e)\n",
    "    raise e\n"
   ]
  },
  {
   "cell_type": "code",
   "execution_count": null,
   "id": "9eb5e36d",
   "metadata": {},
   "outputs": [],
   "source": []
  },
  {
   "cell_type": "code",
   "execution_count": null,
   "id": "0d703ea1",
   "metadata": {},
   "outputs": [],
   "source": []
  },
  {
   "cell_type": "code",
   "execution_count": null,
   "id": "5045f9f7",
   "metadata": {},
   "outputs": [],
   "source": []
  },
  {
   "cell_type": "code",
   "execution_count": null,
   "id": "83afc801",
   "metadata": {},
   "outputs": [],
   "source": []
  },
  {
   "cell_type": "code",
   "execution_count": null,
   "id": "3d73fe94",
   "metadata": {},
   "outputs": [],
   "source": []
  },
  {
   "cell_type": "code",
   "execution_count": null,
   "id": "291bada0",
   "metadata": {},
   "outputs": [],
   "source": []
  },
  {
   "cell_type": "code",
   "execution_count": null,
   "id": "40f41390",
   "metadata": {},
   "outputs": [],
   "source": []
  },
  {
   "cell_type": "code",
   "execution_count": null,
   "id": "3fb32ada",
   "metadata": {},
   "outputs": [],
   "source": []
  }
 ],
 "metadata": {
  "kernelspec": {
   "display_name": "bankprod",
   "language": "python",
   "name": "python3"
  },
  "language_info": {
   "codemirror_mode": {
    "name": "ipython",
    "version": 3
   },
   "file_extension": ".py",
   "mimetype": "text/x-python",
   "name": "python",
   "nbconvert_exporter": "python",
   "pygments_lexer": "ipython3",
   "version": "3.10.16"
  }
 },
 "nbformat": 4,
 "nbformat_minor": 5
}
