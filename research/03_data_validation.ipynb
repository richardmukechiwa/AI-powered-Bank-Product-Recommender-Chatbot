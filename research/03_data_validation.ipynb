{
 "cells": [
  {
   "cell_type": "code",
   "execution_count": 1,
   "id": "afaa322e",
   "metadata": {},
   "outputs": [],
   "source": [
    "import os"
   ]
  },
  {
   "cell_type": "code",
   "execution_count": 2,
   "id": "a1c19ad7",
   "metadata": {},
   "outputs": [
    {
     "data": {
      "text/plain": [
       "'c:\\\\Users\\\\RICH-FILES\\\\Desktop\\\\ml\\\\AI-powered-Bank-Product-Recommender-Chatbot\\\\research'"
      ]
     },
     "execution_count": 2,
     "metadata": {},
     "output_type": "execute_result"
    }
   ],
   "source": [
    "%pwd\n"
   ]
  },
  {
   "cell_type": "code",
   "execution_count": 3,
   "metadata": {},
   "outputs": [],
   "source": [
    "os.chdir('../.')"
   ]
  },
  {
   "cell_type": "code",
   "execution_count": 4,
   "metadata": {},
   "outputs": [
    {
     "data": {
      "text/plain": [
       "'c:\\\\Users\\\\RICH-FILES\\\\Desktop\\\\ml\\\\AI-powered-Bank-Product-Recommender-Chatbot'"
      ]
     },
     "execution_count": 4,
     "metadata": {},
     "output_type": "execute_result"
    }
   ],
   "source": [
    "%pwd"
   ]
  },
  {
   "cell_type": "code",
   "execution_count": 5,
   "id": "f3a454a5",
   "metadata": {},
   "outputs": [],
   "source": [
    "project_dir = \"C:/Users/RICH-FILES/Desktop/ml/AI-powered-Bank-Product-Recommender-Chatbot\"\n",
    "os.chdir(project_dir)"
   ]
  },
  {
   "cell_type": "code",
   "execution_count": 6,
   "metadata": {},
   "outputs": [],
   "source": [
    "from dataclasses import dataclass\n",
    "from pathlib import Path\n",
    "\n",
    "@dataclass(frozen=True)\n",
    "class TablesConfig:\n",
    "    customers: str\n",
    "    products: str\n",
    "\n",
    "@dataclass(frozen=True)\n",
    "class DataGenerationConfig:\n",
    "    num_customers: int\n",
    "    gen_root_dir: Path\n",
    "    data_dir: Path\n",
    "    output_dir: Path\n",
    "    customers_filename: Path\n",
    "    products_filename: Path\n",
    "    db_file: Path\n",
    "    table: TablesConfig\n"
   ]
  },
  {
   "cell_type": "code",
   "execution_count": 7,
   "id": "a096c8bc",
   "metadata": {},
   "outputs": [],
   "source": [
    "from BankProducts.constants import *\n",
    "from BankProducts.utils.common import read_yaml, create_directories"
   ]
  },
  {
   "cell_type": "code",
   "execution_count": 8,
   "metadata": {},
   "outputs": [],
   "source": [
    "# create configuration manager \n",
    "class ConfigurationManager: \n",
    "    def __init__(\n",
    "        self,\n",
    "        config_filepath = CONFIG_FILE_PATH,\n",
    "        params_filepath = PARAMS_FILE_PATH, \n",
    "        #schema_filepath = SCHEMA_FILE_PATH,\n",
    "        ):\n",
    "        self.config = read_yaml(config_filepath)\n",
    "        self.params = read_yaml(params_filepath)\n",
    "        #self.schema = read_yaml(schema_filepath)\n",
    "        \n",
    "        create_directories([self.config.artifacts_root])\n",
    "        \n",
    "    def get_data_generation_config(self)-> DataGenerationConfig:\n",
    "        \"\"\"\n",
    "         This method is responsible for creating the data generation configuration\"\"\"\n",
    "    \n",
    "        config = self.config.data_generation\n",
    "        \n",
    "        \n",
    "        create_directories([self.config.artifacts_root])\n",
    "        \n",
    "        data_generation_config = DataGenerationConfig(\n",
    "            num_customers = config.num_customers,\n",
    "            output_dir = Path(config.output_dir),\n",
    "            customers_filename = config.customers_filename,\n",
    "            products_filename = config.products_filename,\n",
    "            gen_root_dir = Path(config.gen_root_dir),\n",
    "            data_dir  = Path(config.data_dir),\n",
    "            db_file = Path(config.db_file),\n",
    "            table= config.table    \n",
    "            \n",
    "            )\n",
    "        \n",
    "        return data_generation_config\n",
    "        \n",
    "        \n",
    "        "
   ]
  },
  {
   "cell_type": "code",
   "execution_count": 9,
   "metadata": {},
   "outputs": [],
   "source": [
    "import pandas as pd\n",
    "import sqlite3\n",
    "from pathlib import Path\n",
    "from BankProducts import  logger"
   ]
  },
  {
   "cell_type": "code",
   "execution_count": 10,
   "id": "310f0987",
   "metadata": {},
   "outputs": [],
   "source": [
    "class DataValidation:\n",
    "    def __init__(self, config: DataGenerationConfig):\n",
    "        self.config = config\n",
    "        \n",
    "    def validate_file_exists(self, path: Path, name: str):\n",
    "        path = Path(path)\n",
    "        if not path.is_absolute():\n",
    "            path = self.config.gen_root_dir / path\n",
    "        if not path.exists():\n",
    "            raise FileNotFoundError(f\"{name} not found at: {path}\")\n",
    "        print(f\" {name} exists at {path}\")\n",
    "\n",
    "    def validate_csv_not_empty(self, path: Path, name: str):\n",
    "        path= Path(path)\n",
    "        if not path.is_absolute():\n",
    "            path = self.config.gen_root_dir / path\n",
    "        df = pd.read_csv(path)\n",
    "        if df.empty:\n",
    "            raise ValueError(f\"{name} is empty.\")\n",
    "        print(f\" {name} is not empty with {len(df)} rows\")\n",
    "\n",
    "    def validate_database_tables(self):\n",
    "        expected = self.config.table\n",
    "        with sqlite3.connect(self.config.db_file) as conn:\n",
    "            result = conn.execute(\"SELECT name FROM sqlite_master WHERE type='table';\")\n",
    "            actual_tables = {row[0] for row in result.fetchall()}\n",
    "\n",
    "        missing = []\n",
    "        for table in [expected.customers, expected.products]:\n",
    "            if table not in actual_tables:\n",
    "                missing.append(table)\n",
    "\n",
    "        if missing:\n",
    "            raise ValueError(f\"Missing tables: {missing}\")\n",
    "        print(f\" All expected tables exist in the DB: {expected.customers}, {expected.products}\")\n",
    "        logger.info(f\"Data validation completed successfully.\")\n"
   ]
  },
  {
   "cell_type": "code",
   "execution_count": 11,
   "id": "cb775a7a",
   "metadata": {},
   "outputs": [
    {
     "name": "stdout",
     "output_type": "stream",
     "text": [
      "[2025-05-25 19:06:03,992: INFO: common: yaml file: config\\config.yaml loaded successfully]\n",
      "[2025-05-25 19:06:03,997: INFO: common: yaml file: params.yaml loaded successfully]\n",
      "[2025-05-25 19:06:03,999: INFO: common: created directory at: artifacts]\n",
      "[2025-05-25 19:06:04,001: INFO: common: created directory at: artifacts]\n",
      " Customers CSV exists at artifacts\\data_generation\\bank_customers.csv\n",
      " Customers CSV is not empty with 15000 rows\n",
      " Products CSV exists at artifacts\\data_generation\\product_catalog.csv\n",
      " Products CSV is not empty with 5 rows\n",
      " All expected tables exist in the DB: customers, products\n",
      "[2025-05-25 19:06:04,064: INFO: 3303433552: Data validation completed successfully.]\n"
     ]
    }
   ],
   "source": [
    "try:\n",
    "    config = ConfigurationManager()\n",
    "    data_gen_config = config.get_data_generation_config()\n",
    "    \n",
    "    # Validate CSV files\n",
    "    data_validation = DataValidation(config=data_gen_config)\n",
    "    data_validation.validate_file_exists(data_gen_config.customers_filename, \"Customers CSV\")\n",
    "    data_validation.validate_csv_not_empty(data_gen_config.customers_filename, \"Customers CSV\")\n",
    "    \n",
    "    data_validation.validate_file_exists(data_gen_config.products_filename, \"Products CSV\")\n",
    "    data_validation.validate_csv_not_empty(data_gen_config.products_filename, \"Products CSV\")\n",
    "    \n",
    "    \n",
    "    # Validate database tables\n",
    "    data_validation.validate_database_tables()\n",
    "except Exception as e:\n",
    "    print(f\"Validation failed: {e}\")\n",
    "# The code above is a complete example of how to validate the existence and content of CSV files and database tables."
   ]
  },
  {
   "cell_type": "code",
   "execution_count": null,
   "metadata": {},
   "outputs": [],
   "source": []
  },
  {
   "cell_type": "code",
   "execution_count": null,
   "metadata": {},
   "outputs": [],
   "source": []
  },
  {
   "cell_type": "code",
   "execution_count": null,
   "metadata": {},
   "outputs": [],
   "source": []
  },
  {
   "cell_type": "code",
   "execution_count": null,
   "metadata": {},
   "outputs": [],
   "source": []
  },
  {
   "cell_type": "code",
   "execution_count": null,
   "metadata": {},
   "outputs": [],
   "source": []
  },
  {
   "cell_type": "code",
   "execution_count": null,
   "metadata": {},
   "outputs": [],
   "source": []
  }
 ],
 "metadata": {
  "kernelspec": {
   "display_name": "bankprod",
   "language": "python",
   "name": "python3"
  },
  "language_info": {
   "codemirror_mode": {
    "name": "ipython",
    "version": 3
   },
   "file_extension": ".py",
   "mimetype": "text/x-python",
   "name": "python",
   "nbconvert_exporter": "python",
   "pygments_lexer": "ipython3",
   "version": "3.10.16"
  }
 },
 "nbformat": 4,
 "nbformat_minor": 5
}
