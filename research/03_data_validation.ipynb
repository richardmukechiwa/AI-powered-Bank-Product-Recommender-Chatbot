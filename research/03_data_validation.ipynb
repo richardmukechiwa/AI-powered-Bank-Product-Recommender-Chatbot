{
 "cells": [
  {
   "cell_type": "code",
   "execution_count": 463,
   "id": "afaa322e",
   "metadata": {},
   "outputs": [],
   "source": [
    "import os"
   ]
  },
  {
   "cell_type": "code",
   "execution_count": 464,
   "id": "a1c19ad7",
   "metadata": {},
   "outputs": [
    {
     "data": {
      "text/plain": [
       "'C:\\\\Users\\\\RICH-FILES\\\\Desktop\\\\ml\\\\AI-powered-Bank-Product-Recommender-Chatbot'"
      ]
     },
     "execution_count": 464,
     "metadata": {},
     "output_type": "execute_result"
    }
   ],
   "source": [
    "%pwd\n"
   ]
  },
  {
   "cell_type": "code",
   "execution_count": 465,
   "metadata": {},
   "outputs": [],
   "source": [
    "os.chdir('../.')"
   ]
  },
  {
   "cell_type": "code",
   "execution_count": 466,
   "metadata": {},
   "outputs": [
    {
     "data": {
      "text/plain": [
       "'C:\\\\Users\\\\RICH-FILES\\\\Desktop\\\\ml'"
      ]
     },
     "execution_count": 466,
     "metadata": {},
     "output_type": "execute_result"
    }
   ],
   "source": [
    "%pwd"
   ]
  },
  {
   "cell_type": "code",
   "execution_count": 467,
   "id": "f3a454a5",
   "metadata": {},
   "outputs": [],
   "source": [
    "project_dir = \"C:/Users/RICH-FILES/Desktop/ml/AI-powered-Bank-Product-Recommender-Chatbot\"\n",
    "os.chdir(project_dir)"
   ]
  },
  {
   "cell_type": "code",
   "execution_count": 468,
   "metadata": {},
   "outputs": [],
   "source": [
    "from dataclasses import dataclass\n",
    "from pathlib import Path\n",
    "\n",
    "\n",
    "@dataclass(frozen=True)\n",
    "class DataValidationConfig:\n",
    "    val_root_dir: Path\n",
    "    STATUS_FILE: str\n",
    "    customer_data: Path\n",
    "    all_schema: dict\n",
    "    customer_data: Path\n",
    "    \n",
    "\n",
    "\n",
    "\n"
   ]
  },
  {
   "cell_type": "code",
   "execution_count": 469,
   "id": "a096c8bc",
   "metadata": {},
   "outputs": [],
   "source": [
    "from BankProducts.constants import *\n",
    "from BankProducts.utils.common import read_yaml, create_directories"
   ]
  },
  {
   "cell_type": "code",
   "execution_count": 470,
   "metadata": {},
   "outputs": [],
   "source": [
    "class ConfigurationManager:\n",
    "    def __init__(\n",
    "        self,\n",
    "        config_filepath = CONFIG_FILE_PATH,\n",
    "        params_filepath = PARAMS_FILE_PATH,\n",
    "        schema_filepath = SCHEMA_FILE_PATH):\n",
    "\n",
    "        self.config = read_yaml(config_filepath)\n",
    "        self.params = read_yaml(params_filepath)\n",
    "        self.schema = read_yaml(schema_filepath)\n",
    "\n",
    "        create_directories([self.config.artifacts_root])\n",
    "\n",
    "\n",
    "    \n",
    "    def get_data_validation_config(self) -> DataValidationConfig:\n",
    "        config = self.config.data_validation\n",
    "        schema = self.schema.COLUMNS\n",
    "\n",
    "        create_directories([self.config.artifacts_root])\n",
    "\n",
    "        data_validation_config = DataValidationConfig(\n",
    "            val_root_dir=Path(config.val_root_dir),\n",
    "            STATUS_FILE=Path(config.STATUS_FILE),\n",
    "            customer_data=Path(config.customer_data),\n",
    "            all_schema=schema,\n",
    "        )\n",
    "\n",
    "        return data_validation_config\n",
    "        \n",
    "        "
   ]
  },
  {
   "cell_type": "code",
   "execution_count": 471,
   "metadata": {},
   "outputs": [],
   "source": [
    "import os\n",
    "import pandas as pd\n",
    "from pathlib import Path\n",
    "from BankProducts import  logger"
   ]
  },
  {
   "cell_type": "code",
   "execution_count": null,
   "id": "310f0987",
   "metadata": {},
   "outputs": [],
   "source": [
    "class DataValidation:\n",
    "    def __init__(self, config: DataValidationConfig):\n",
    "        self.config = config\n",
    "        logger.info(f\"Data Validation started \")\n",
    "        \n",
    "    def validate_all_columns(self) -> bool:\n",
    "        try:\n",
    "            data = pd.read_csv(self.config.customer_data)\n",
    "            if data.empty:\n",
    "                raise ValueError(\"Customer data is empty.\")\n",
    "            all_cols = set(data.columns)\n",
    "            all_schema = set(self.config.all_schema.keys())\n",
    "\n",
    "            # Check for missing columns in data\n",
    "            missing_in_data = all_schema - all_cols\n",
    "            # Check for extra columns in data\n",
    "            extra_in_data = all_cols - all_schema\n",
    "\n",
    "            validation_status = True\n",
    "            if missing_in_data or extra_in_data:\n",
    "                validation_status = False\n",
    "\n",
    "            with open(self.config.STATUS_FILE, 'w') as f:\n",
    "                f.write(f\"Validation status: {validation_status}\\n\")\n",
    "                if missing_in_data:\n",
    "                    f.write(f\"Missing columns in data: {missing_in_data}\\n\")\n",
    "                if extra_in_data:\n",
    "                    f.write(f\"Extra columns in data: {extra_in_data}\\n\")\n",
    "\n",
    "            logger.info(f\"All columns validation status: {validation_status}\")\n",
    "            return validation_status\n",
    "\n",
    "        except Exception as e:\n",
    "            raise e\n",
    "    "
   ]
  },
  {
   "cell_type": "code",
   "execution_count": 473,
   "id": "cb775a7a",
   "metadata": {},
   "outputs": [
    {
     "name": "stdout",
     "output_type": "stream",
     "text": [
      "[2025-06-01 23:12:32,642: INFO: common: yaml file: config\\config.yaml loaded successfully]\n",
      "[2025-06-01 23:12:32,650: INFO: common: yaml file: params.yaml loaded successfully]\n",
      "[2025-06-01 23:12:32,656: INFO: common: yaml file: schema.yaml loaded successfully]\n",
      "[2025-06-01 23:12:32,659: INFO: common: created directory at: artifacts]\n",
      "[2025-06-01 23:12:32,660: INFO: common: created directory at: artifacts]\n",
      "[2025-06-01 23:12:32,661: INFO: 1637499087: Data Validation started ]\n",
      "[2025-06-01 23:12:32,811: INFO: 1637499087: All columns validation status: False]\n"
     ]
    }
   ],
   "source": [
    "try:\n",
    "    config = ConfigurationManager()\n",
    "    data_validation_config = config.get_data_validation_config()\n",
    "    \n",
    "    # Validate CSV files\n",
    "    data_validation = DataValidation(config=data_validation_config)\n",
    "    #data_validation.validate_file_exists(path=\"artifacts/data_validation/status.txt\", name=\"STATUS_FILE\")       \n",
    "    #data_validation.validate_csv_not_empty()\n",
    "    data_validation.validate_all_columns()\n",
    "    \n",
    "except Exception as e:\n",
    "    print(f\"Validation failed: {e}\")\n",
    "# The code above is a complete example of how to validate the existence and content of CSV files and database tables."
   ]
  },
  {
   "cell_type": "code",
   "execution_count": null,
   "metadata": {},
   "outputs": [],
   "source": []
  },
  {
   "cell_type": "code",
   "execution_count": null,
   "metadata": {},
   "outputs": [],
   "source": []
  },
  {
   "cell_type": "code",
   "execution_count": null,
   "metadata": {},
   "outputs": [],
   "source": []
  },
  {
   "cell_type": "code",
   "execution_count": null,
   "metadata": {},
   "outputs": [],
   "source": []
  },
  {
   "cell_type": "code",
   "execution_count": null,
   "metadata": {},
   "outputs": [],
   "source": []
  },
  {
   "cell_type": "code",
   "execution_count": null,
   "metadata": {},
   "outputs": [],
   "source": []
  }
 ],
 "metadata": {
  "kernelspec": {
   "display_name": "bankprod",
   "language": "python",
   "name": "python3"
  },
  "language_info": {
   "codemirror_mode": {
    "name": "ipython",
    "version": 3
   },
   "file_extension": ".py",
   "mimetype": "text/x-python",
   "name": "python",
   "nbconvert_exporter": "python",
   "pygments_lexer": "ipython3",
   "version": "3.10.16"
  }
 },
 "nbformat": 4,
 "nbformat_minor": 5
}
