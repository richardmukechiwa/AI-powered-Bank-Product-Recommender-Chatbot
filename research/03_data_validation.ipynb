{
 "cells": [
  {
   "cell_type": "code",
   "execution_count": 144,
   "id": "afaa322e",
   "metadata": {},
   "outputs": [],
   "source": [
    "import os"
   ]
  },
  {
   "cell_type": "code",
   "execution_count": 145,
   "id": "a1c19ad7",
   "metadata": {},
   "outputs": [
    {
     "data": {
      "text/plain": [
       "'C:\\\\Users\\\\RICH-FILES\\\\Desktop\\\\ml\\\\AI-powered-Bank-Product-Recommender-Chatbot'"
      ]
     },
     "execution_count": 145,
     "metadata": {},
     "output_type": "execute_result"
    }
   ],
   "source": [
    "%pwd\n"
   ]
  },
  {
   "cell_type": "code",
   "execution_count": 146,
   "metadata": {},
   "outputs": [],
   "source": [
    "os.chdir('../.')"
   ]
  },
  {
   "cell_type": "code",
   "execution_count": 147,
   "metadata": {},
   "outputs": [
    {
     "data": {
      "text/plain": [
       "'C:\\\\Users\\\\RICH-FILES\\\\Desktop\\\\ml'"
      ]
     },
     "execution_count": 147,
     "metadata": {},
     "output_type": "execute_result"
    }
   ],
   "source": [
    "%pwd"
   ]
  },
  {
   "cell_type": "code",
   "execution_count": 148,
   "id": "f3a454a5",
   "metadata": {},
   "outputs": [],
   "source": [
    "project_dir = \"C:/Users/RICH-FILES/Desktop/ml/AI-powered-Bank-Product-Recommender-Chatbot\"\n",
    "os.chdir(project_dir)"
   ]
  },
  {
   "cell_type": "code",
   "execution_count": 149,
   "metadata": {},
   "outputs": [],
   "source": [
    "from dataclasses import dataclass\n",
    "from pathlib import Path\n",
    "\n",
    "\n",
    "@dataclass(frozen=True)\n",
    "class DataValidationConfig:\n",
    "    val_root_dir: Path\n",
    "    STATUS_FILE: str\n",
    "    customer_data: Path\n",
    "    all_schema: dict\n",
    "    customer_data: Path\n",
    "    \n",
    "\n",
    "\n",
    "\n"
   ]
  },
  {
   "cell_type": "code",
   "execution_count": 150,
   "id": "a096c8bc",
   "metadata": {},
   "outputs": [],
   "source": [
    "from BankProducts.constants import *\n",
    "from BankProducts.utils.common import read_yaml, create_directories"
   ]
  },
  {
   "cell_type": "code",
   "execution_count": 151,
   "metadata": {},
   "outputs": [],
   "source": [
    "class ConfigurationManager:\n",
    "    def __init__(\n",
    "        self,\n",
    "        config_filepath = CONFIG_FILE_PATH,\n",
    "        params_filepath = PARAMS_FILE_PATH,\n",
    "        schema_filepath = SCHEMA_FILE_PATH):\n",
    "\n",
    "        self.config = read_yaml(config_filepath)\n",
    "        self.params = read_yaml(params_filepath)\n",
    "        self.schema = read_yaml(schema_filepath)\n",
    "\n",
    "        create_directories([self.config.artifacts_root])\n",
    "\n",
    "\n",
    "    \n",
    "    def get_data_validation_config(self) -> DataValidationConfig:\n",
    "        config = self.config.data_validation\n",
    "        schema = self.schema.COLUMNS\n",
    "\n",
    "        create_directories([self.config.artifacts_root])\n",
    "\n",
    "        data_validation_config = DataValidationConfig(\n",
    "            val_root_dir=Path(config.val_root_dir),\n",
    "            STATUS_FILE=Path(config.STATUS_FILE),\n",
    "            customer_data=Path(config.customer_data),\n",
    "            all_schema=schema,\n",
    "        )\n",
    "\n",
    "        return data_validation_config\n",
    "        \n",
    "        "
   ]
  },
  {
   "cell_type": "code",
   "execution_count": 152,
   "metadata": {},
   "outputs": [],
   "source": [
    "import os\n",
    "import pandas as pd\n",
    "from pathlib import Path\n",
    "from BankProducts import  logger"
   ]
  },
  {
   "cell_type": "code",
   "execution_count": 153,
   "id": "310f0987",
   "metadata": {},
   "outputs": [],
   "source": [
    "class DataValidation:\n",
    "    def __init__(self, config: DataValidationConfig):\n",
    "        self.config = config\n",
    "        logger.info(\"Data Validation started\")\n",
    "\n",
    "    def validate_all_columns(self) -> bool:\n",
    "        try:\n",
    "            data = pd.read_csv(self.config.customer_data)\n",
    "            logger.info(f\"Data loaded from {self.config.customer_data}\")\n",
    "\n",
    "            # Normalize column names to lowercase\n",
    "            data.columns = data.columns.str.lower()\n",
    "            schema_cols = {col.lower(): dtype for col, dtype in self.config.all_schema.items()}\n",
    "\n",
    "            # Optional: Convert datetime columns\n",
    "            if 'transactiondate' in data.columns:\n",
    "                data['transactiondate'] = pd.to_datetime(data['transactiondate'])\n",
    "\n",
    "            if data.empty:\n",
    "                logger.warning(\"Data is empty\")\n",
    "                raise ValueError(\"Customer data is empty.\")\n",
    "\n",
    "            logger.info(f\"Data shape: {data.shape}\")\n",
    "\n",
    "            data_cols = set(data.columns)\n",
    "            schema_keys = set(schema_cols.keys())\n",
    "\n",
    "            missing_in_data = schema_keys - data_cols\n",
    "            extra_in_data = data_cols - schema_keys\n",
    "\n",
    "            validation_status = not missing_in_data and not extra_in_data\n",
    "\n",
    "            with open(self.config.STATUS_FILE, 'w') as f:\n",
    "                f.write(f\"Validation status: {validation_status}\\n\")\n",
    "                if missing_in_data:\n",
    "                    f.write(f\"Missing columns: {missing_in_data}\\n\")\n",
    "                if extra_in_data:\n",
    "                    f.write(f\"Extra columns: {extra_in_data}\\n\")\n",
    "\n",
    "            logger.info(f\"Validation completed. Status: {validation_status}\")\n",
    "            return validation_status\n",
    "\n",
    "        except Exception as e:\n",
    "            logger.exception(\"Exception occurred during data validation\")\n",
    "            raise e\n"
   ]
  },
  {
   "cell_type": "code",
   "execution_count": 154,
   "id": "cb775a7a",
   "metadata": {},
   "outputs": [
    {
     "name": "stdout",
     "output_type": "stream",
     "text": [
      "[2025-06-04 21:27:49,071: INFO: common: yaml file: config\\config.yaml loaded successfully]\n",
      "[2025-06-04 21:27:49,079: INFO: common: yaml file: params.yaml loaded successfully]\n",
      "[2025-06-04 21:27:49,089: INFO: common: yaml file: schema.yaml loaded successfully]\n",
      "[2025-06-04 21:27:49,092: INFO: common: created directory at: artifacts]\n",
      "[2025-06-04 21:27:49,093: INFO: common: created directory at: artifacts]\n",
      "[2025-06-04 21:27:49,095: INFO: 2874540167: Data Validation started]\n"
     ]
    },
    {
     "name": "stdout",
     "output_type": "stream",
     "text": [
      "[2025-06-04 21:27:49,224: INFO: 2874540167: Data loaded from artifacts\\data_ingestion\\customer_data.csv]\n",
      "[2025-06-04 21:27:49,247: INFO: 2874540167: Data shape: (20000, 19)]\n",
      "[2025-06-04 21:27:49,251: INFO: 2874540167: Validation completed. Status: True]\n",
      "Data validation completed successfully.\n"
     ]
    }
   ],
   "source": [
    "try:\n",
    "    config = ConfigurationManager()\n",
    "    data_validation_config = config.get_data_validation_config()\n",
    "    \n",
    "    # Validate CSV files\n",
    "    data_validation = DataValidation(config=data_validation_config)\n",
    "    data_validation.validate_all_columns()\n",
    "    print(\"Data validation completed successfully.\")\n",
    "    \n",
    "except Exception as e:\n",
    "    print(f\"Validation failed: {e}\")\n",
    "# The code above is a complete example of how to validate the existence and content of CSV files and database tables."
   ]
  },
  {
   "cell_type": "code",
   "execution_count": null,
   "metadata": {},
   "outputs": [],
   "source": []
  },
  {
   "cell_type": "code",
   "execution_count": null,
   "metadata": {},
   "outputs": [],
   "source": []
  },
  {
   "cell_type": "code",
   "execution_count": null,
   "metadata": {},
   "outputs": [],
   "source": []
  },
  {
   "cell_type": "code",
   "execution_count": null,
   "metadata": {},
   "outputs": [],
   "source": []
  },
  {
   "cell_type": "code",
   "execution_count": null,
   "metadata": {},
   "outputs": [],
   "source": []
  }
 ],
 "metadata": {
  "kernelspec": {
   "display_name": "bankprod",
   "language": "python",
   "name": "python3"
  },
  "language_info": {
   "codemirror_mode": {
    "name": "ipython",
    "version": 3
   },
   "file_extension": ".py",
   "mimetype": "text/x-python",
   "name": "python",
   "nbconvert_exporter": "python",
   "pygments_lexer": "ipython3",
   "version": "3.10.16"
  }
 },
 "nbformat": 4,
 "nbformat_minor": 5
}
