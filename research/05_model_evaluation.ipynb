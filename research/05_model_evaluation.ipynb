{
 "cells": [
  {
   "cell_type": "code",
   "execution_count": 56,
   "id": "a42ec141",
   "metadata": {},
   "outputs": [],
   "source": [
    "import os"
   ]
  },
  {
   "cell_type": "code",
   "execution_count": 57,
   "metadata": {},
   "outputs": [
    {
     "data": {
      "text/plain": [
       "'C:\\\\Users\\\\RICH-FILES\\\\Desktop\\\\ml\\\\AI-powered-Bank-Product-Recommender-Chatbot'"
      ]
     },
     "execution_count": 57,
     "metadata": {},
     "output_type": "execute_result"
    }
   ],
   "source": [
    "%pwd"
   ]
  },
  {
   "cell_type": "code",
   "execution_count": 58,
   "metadata": {},
   "outputs": [],
   "source": [
    "os.chdir(\"../.\")"
   ]
  },
  {
   "cell_type": "code",
   "execution_count": 59,
   "id": "cc54f688",
   "metadata": {},
   "outputs": [
    {
     "data": {
      "text/plain": [
       "'C:\\\\Users\\\\RICH-FILES\\\\Desktop\\\\ml'"
      ]
     },
     "execution_count": 59,
     "metadata": {},
     "output_type": "execute_result"
    }
   ],
   "source": [
    "%pwd"
   ]
  },
  {
   "cell_type": "code",
   "execution_count": 60,
   "id": "0430e424",
   "metadata": {},
   "outputs": [],
   "source": [
    "project_dir = \"C:/Users/RICH-FILES/Desktop/ml/AI-powered-Bank-Product-Recommender-Chatbot\"\n",
    "os.chdir(project_dir)"
   ]
  },
  {
   "cell_type": "code",
   "execution_count": 61,
   "metadata": {},
   "outputs": [],
   "source": [
    "from dataclasses import dataclass\n",
    "from pathlib import Path\n",
    "\n",
    "@dataclass(frozen=True)\n",
    "class ModelEvaluationConfig:\n",
    "    root_dir: Path\n",
    "    test_data_path: Path\n",
    "    model_path: Path\n",
    "    metric_file_name: Path\n",
    "    target_column: str\n",
    "    params: dict[str, str]\n",
    "    grid_search_model_path: Path\n",
    "    train_data_path: Path\n",
    "    encoded_target_label: Path\n",
    "    \n",
    "     \n",
    "    "
   ]
  },
  {
   "cell_type": "code",
   "execution_count": 62,
   "metadata": {},
   "outputs": [],
   "source": [
    "from BankProducts.constants import *\n",
    "from BankProducts.utils.common  import read_yaml, create_directories\n",
    "from BankProducts   import logger\n",
    "\n"
   ]
  },
  {
   "cell_type": "code",
   "execution_count": 63,
   "metadata": {},
   "outputs": [],
   "source": [
    "class ConfigurationManager:\n",
    "    def __init__(\n",
    "        self,\n",
    "        config_filepath = CONFIG_FILE_PATH,\n",
    "        params_filepath = PARAMS_FILE_PATH,\n",
    "        schema_filepath = SCHEMA_FILE_PATH):\n",
    "\n",
    "        self.config = read_yaml(config_filepath)\n",
    "        self.params = read_yaml(params_filepath)\n",
    "        self.schema = read_yaml(schema_filepath)\n",
    "\n",
    "        create_directories([self.config.artifacts_root])\n",
    "\n",
    "\n",
    "    def get_model_evaluation_config(self) -> ModelEvaluationConfig:\n",
    "        config = self.config.model_evaluation   \n",
    "        params = self.params.random_forest\n",
    "        schema =  self.schema.target_column\n",
    "\n",
    "        create_directories([self.config.artifacts_root])\n",
    "\n",
    "        model_evaluation_config = ModelEvaluationConfig(\n",
    "            root_dir=Path(config.root_dir),\n",
    "            test_data_path=Path(config.test_data_path),\n",
    "            model_path=Path(config.model_path),\n",
    "            metric_file_name=Path(config.metric_file_name),\n",
    "            target_column=schema.name,\n",
    "            params=params,\n",
    "            grid_search_model_path= Path(config.grid_search_model_path),\n",
    "            train_data_path=Path(config.train_data_path),\n",
    "            encoded_target_label= Path(config.encoded_target_label)\n",
    "            \n",
    "            \n",
    "           \n",
    "            \n",
    "        )\n",
    "\n",
    "        return model_evaluation_config"
   ]
  },
  {
   "cell_type": "code",
   "execution_count": 64,
   "id": "e720637b",
   "metadata": {},
   "outputs": [],
   "source": [
    "from sklearn.metrics import accuracy_score, precision_score, recall_score, f1_score, confusion_matrix, classification_report, ConfusionMatrixDisplay\n",
    "import pandas as pd\n",
    "from BankProducts import logger\n",
    "import seaborn as sns\n",
    "from matplotlib import pyplot as plt\n",
    "import tempfile\n",
    "import mlflow\n",
    "import joblib\n",
    "from sklearn.preprocessing import LabelEncoder\n",
    "from BankProducts.utils.common import save_json\n",
    "from urllib.parse import urlparse\n",
    "import warnings\n",
    "warnings.filterwarnings(\"ignore\", category=UserWarning, module='_distutils_hack')\n",
    "\n"
   ]
  },
  {
   "cell_type": "code",
   "execution_count": 65,
   "metadata": {},
   "outputs": [],
   "source": [
    "from sklearn.model_selection import cross_val_score\n",
    "\n",
    "class ModelEvaluation:\n",
    "    def __init__(self, config):\n",
    "        self.config = config\n",
    "        \n",
    "         \n",
    "    \n",
    "    def eval_metrics(self, actual, pred):\n",
    "        accuracy = accuracy_score(actual, pred)\n",
    "        precision = precision_score(actual, pred, average='weighted')\n",
    "        recall = recall_score(actual, pred, average='weighted')\n",
    "        f1 = f1_score(actual, pred, average='weighted')\n",
    "        return accuracy, precision, recall, f1\n",
    "\n",
    "    def log_confusion_matrix(self, actual, predicted, class_names):\n",
    "        cm = confusion_matrix(actual, predicted)\n",
    "        plt.figure(figsize=(8, 6))\n",
    "        sns.heatmap(cm, annot=True, fmt='d', cmap=\"Blues\",\n",
    "                    xticklabels=class_names, yticklabels=class_names)\n",
    "        plt.xlabel(\"Predicted\")\n",
    "        plt.ylabel(\"Actual\")\n",
    "        plt.title(\"Confusion Matrix\")\n",
    "        temp_img_path = tempfile.NamedTemporaryFile(suffix=\".png\", delete=False).name\n",
    "        plt.savefig(temp_img_path)\n",
    "        plt.close()\n",
    "        mlflow.log_artifact(temp_img_path, artifact_path=\"confusion_matrix\")\n",
    "\n",
    "    def log_classification_report(self, actual, predicted, class_names):\n",
    "        report = classification_report(actual, predicted, target_names=class_names)\n",
    "        temp_txt_path = tempfile.NamedTemporaryFile(suffix=\".txt\", delete=False).name\n",
    "        with open(temp_txt_path, \"w\") as f:\n",
    "            f.write(report)\n",
    "        mlflow.log_artifact(temp_txt_path, artifact_path=\"bank_products_recommender\")\n",
    "\n",
    "    def log_into_mlflow(self):\n",
    "        test_data = pd.read_csv(self.config.test_data_path)\n",
    "        test_x = test_data.drop(columns=[self.config.target_column])\n",
    "        test_y = test_data[self.config.target_column]\n",
    "        \n",
    "\n",
    "        # Encode the target variable\n",
    "        le = joblib.load(self.config.encoded_target_label)\n",
    "        test_y_encoded = le.transform(test_y)\n",
    "\n",
    "        logger.info(\"Loading model from path: %s\", self.config.model_path)\n",
    "        pipeline = joblib.load(self.config.model_path)\n",
    "\n",
    "        tracking_url_type_store = urlparse(mlflow.get_tracking_uri()).scheme\n",
    "        mlflow.set_experiment(\"Product Recommender\")\n",
    "\n",
    "        if mlflow.active_run():\n",
    "            mlflow.end_run()\n",
    "\n",
    "        with mlflow.start_run():\n",
    "            predicted = pipeline.predict(test_x)\n",
    "\n",
    "            accuracy, precision, recall, f1 = self.eval_metrics(test_y_encoded, predicted)\n",
    "            \n",
    "             # evaluate the model\n",
    "            rf_report = classification_report(test_y_encoded, predicted)\n",
    "            rf_cm = confusion_matrix(test_y_encoded, predicted)   \n",
    "            rf_accuracy = accuracy_score(test_y_encoded, predicted)   \n",
    "            \n",
    "            #create Confusion Matrix Display\n",
    "            cm_display = ConfusionMatrixDisplay(confusion_matrix=rf_cm, display_labels=le.classes_)\n",
    "                    \n",
    "            plt.title(\"Classifier Matrix\")\n",
    "            cm_display.plot()\n",
    "            plt.xticks(rotation=180)\n",
    "            \n",
    "            \n",
    "\n",
    "            logger.info(f\"Classification Report:\\n{rf_report}\")\n",
    "            logger.info(f\"Confusion Matrix:\\n{rf_cm}\") \n",
    "            logger.info(f\"sAccuracy: {rf_accuracy}\")\n",
    "            \n",
    "\n",
    "            scores = {\n",
    "                \"model_name\": \"logistic_classifier\",\n",
    "                \"accuracy\": accuracy,\n",
    "                \"precision\": precision,\n",
    "                \"recall\": recall,\n",
    "                \"f1_score\": f1\n",
    "            }\n",
    "            \n",
    "            # Ensure directory exists\n",
    "            Path(self.config.metric_file_name).parent.mkdir(parents=True, exist_ok=True)\n",
    "\n",
    "            save_json(Path(self.config.metric_file_name), data=scores)\n",
    "            \n",
    "            logger.info(\"Metrics saved to: %s\", self.config.metric_file_name)\n",
    "            \n",
    "            logger.info(\"Logging accuracy\")\n",
    "            mlflow.log_metric(\"accuracy\", accuracy)\n",
    "\n",
    "            logger.info(\"Logging precision\")\n",
    "            mlflow.log_metric(\"precision\", precision)\n",
    "\n",
    "            logger.info(\"Logging recall\")\n",
    "            mlflow.log_metric(\"recall\", recall)\n",
    "\n",
    "            logger.info(\"Logging f1_score\")\n",
    "            mlflow.log_metric(\"f1_score\", f1)\n",
    "\n",
    "            logger.info(\"Setting class_names\")\n",
    "            class_names = le.classes_\n",
    "\n",
    "            logger.info(\"Logging confusion matrix\")\n",
    "            self.log_confusion_matrix(test_y_encoded, predicted, class_names)\n",
    "\n",
    "            logger.info(\"Logging classification report\")\n",
    "            self.log_classification_report(test_y_encoded, predicted, class_names)\n",
    "            \n",
    "            \n",
    "            logger.info(\"Tracking URI scheme: %s\", tracking_url_type_store)\n",
    "            logger.info(\"Tracking URI: %s\", mlflow.get_tracking_uri())\n",
    "\n",
    "\n",
    "            #if tracking_url_type_store != \"file\":\n",
    "                #mlflow.sklearn.log_model(pipeline, \"pipeline\", registered_model_name=\"product recommender\")\n",
    "            #else:\n",
    "                #mlflow.sklearn.log_model(pipeline, \"pipeline\")\n",
    "              \n",
    "            logger.info(\"mlflow model logged successfully.\")\n",
    "            \n",
    "            \n",
    "            \n",
    "            \n",
    "\n",
    "    # perform a Grid Search to find the best model\n",
    "    \n",
    "    def perform_grid_search(self):\n",
    "        from sklearn.model_selection import GridSearchCV\n",
    "        from sklearn.pipeline import Pipeline\n",
    "        from sklearn.linear_model import LogisticRegression\n",
    "        from sklearn.preprocessing import StandardScaler, OneHotEncoder\n",
    "        from sklearn.compose import ColumnTransformer\n",
    "\n",
    "        # Load **training** data\n",
    "        train_data = pd.read_csv(self.config.train_data_path)  # <-- FIXED from test_data_path\n",
    "        X_train = train_data.drop(columns=[self.config.target_column])\n",
    "        y_train = train_data[self.config.target_column]\n",
    "\n",
    "        # Identify features\n",
    "        numeric_features = X_train.select_dtypes(include=['int64', 'float64']).columns.tolist()\n",
    "        categorical_features = X_train.select_dtypes(include=['object']).columns.tolist()\n",
    "\n",
    "        # Preprocessing\n",
    "        preprocessor = ColumnTransformer(\n",
    "            transformers=[\n",
    "                ('num', StandardScaler(), numeric_features),\n",
    "                ('cat', OneHotEncoder(handle_unknown='ignore'), categorical_features)\n",
    "            ])\n",
    "\n",
    "        # Pipeline\n",
    "        model = LogisticRegression(random_state=42, max_iter=1000)  # Ensure convergence\n",
    "        pipeline = Pipeline(steps=[('preprocessor', preprocessor), ('log_regression', model)])\n",
    "\n",
    "        #  Define hyperparameter grid (note the prefix 'log_regression__' for pipeline)\n",
    "        param_grid = {\n",
    "            'log_regression__C': [0.01, 0.1, 1, 10, 100],\n",
    "            'log_regression__penalty': ['l2'],\n",
    "            'log_regression__solver': ['lbfgs', 'liblinear']\n",
    "        }\n",
    "\n",
    "        # Grid Search\n",
    "        grid_search = GridSearchCV(pipeline, param_grid, cv=5, scoring='accuracy', verbose=1)\n",
    "        grid_search.fit(X_train, y_train)\n",
    "\n",
    "        logger.info(\"Best parameters found: %s\", grid_search.best_params_)\n",
    "\n",
    "        # Save the best model\n",
    "        joblib.dump(grid_search.best_estimator_, self.config.grid_search_model_path)\n",
    "        logger.info(\"Best model saved to: %s\", self.config.grid_search_model_path)\n",
    "\n",
    "        # Feature importance not supported for LogisticRegression directly here\n",
    "        importance_df = pd.DataFrame()  # Not applicable unless using coefficients manually\n",
    "\n",
    "        return importance_df\n"
   ]
  },
  {
   "cell_type": "code",
   "execution_count": 66,
   "metadata": {},
   "outputs": [
    {
     "name": "stdout",
     "output_type": "stream",
     "text": [
      "[2025-06-13 23:32:21,509: INFO: common: yaml file: config\\config.yaml loaded successfully]\n",
      "[2025-06-13 23:32:21,517: INFO: common: yaml file: params.yaml loaded successfully]\n",
      "[2025-06-13 23:32:21,557: INFO: common: yaml file: schema.yaml loaded successfully]\n",
      "[2025-06-13 23:32:21,560: INFO: common: created directory at: artifacts]\n",
      "[2025-06-13 23:32:21,561: INFO: common: created directory at: artifacts]\n",
      "[2025-06-13 23:32:22,074: INFO: 1625736662: Loading model from path: artifacts\\model_training\\random.joblib]\n",
      "[2025-06-13 23:32:23,081: INFO: 1625736662: Classification Report:\n",
      "              precision    recall  f1-score   support\n",
      "\n",
      "           0       0.99      0.99      0.99       800\n",
      "           1       0.99      0.98      0.98      1071\n",
      "           2       0.97      1.00      0.99       552\n",
      "           3       1.00      0.96      0.98      1530\n",
      "           4       0.89      1.00      0.94       270\n",
      "           5       0.95      1.00      0.98       544\n",
      "           6       1.00      0.99      0.99      1233\n",
      "\n",
      "    accuracy                           0.98      6000\n",
      "   macro avg       0.97      0.99      0.98      6000\n",
      "weighted avg       0.98      0.98      0.98      6000\n",
      "]\n",
      "[2025-06-13 23:32:23,131: INFO: 1625736662: Confusion Matrix:\n",
      "[[ 795    0    5    0    0    0    0]\n",
      " [   0 1045   11    1    0   14    0]\n",
      " [   0    0  552    0    0    0    0]\n",
      " [   9   10    0 1472   33    0    6]\n",
      " [   0    0    0    0  270    0    0]\n",
      " [   0    0    0    0    0  544    0]\n",
      " [   0    0    0    5    0   12 1216]]]\n",
      "[2025-06-13 23:32:23,133: INFO: 1625736662: sAccuracy: 0.9823333333333333]\n",
      "[2025-06-13 23:32:23,151: INFO: common: json file saved at: artifacts\\model_evaluation\\metrics.json]\n",
      "[2025-06-13 23:32:23,155: INFO: 1625736662: Metrics saved to: artifacts\\model_evaluation\\metrics.json]\n",
      "[2025-06-13 23:32:23,156: INFO: 1625736662: Logging accuracy]\n",
      "[2025-06-13 23:32:23,182: INFO: 1625736662: Logging precision]\n",
      "[2025-06-13 23:32:23,193: INFO: 1625736662: Logging recall]\n",
      "[2025-06-13 23:32:23,201: INFO: 1625736662: Logging f1_score]\n",
      "[2025-06-13 23:32:23,208: INFO: 1625736662: Setting class_names]\n",
      "[2025-06-13 23:32:23,209: INFO: 1625736662: Logging confusion matrix]\n",
      "[2025-06-13 23:32:24,662: INFO: 1625736662: Logging classification report]\n",
      "[2025-06-13 23:32:24,696: INFO: 1625736662: Tracking URI scheme: file]\n",
      "[2025-06-13 23:32:24,697: INFO: 1625736662: Tracking URI: file:///C:/Users/RICH-FILES/Desktop/ml/AI-powered-Bank-Product-Recommender-Chatbot/mlruns]\n",
      "[2025-06-13 23:32:24,717: INFO: 1625736662: mlflow model logged successfully.]\n",
      "Fitting 5 folds for each of 10 candidates, totalling 50 fits\n",
      "[2025-06-13 23:32:49,263: INFO: 1625736662: Best parameters found: {'log_regression__C': 100, 'log_regression__penalty': 'l2', 'log_regression__solver': 'liblinear'}]\n",
      "[2025-06-13 23:32:49,268: INFO: 1625736662: Best model saved to: artifacts\\model_training\\grid_search_model.joblib]\n"
     ]
    },
    {
     "data": {
      "image/png": "[encoded data removed]",
      "text/plain": [
       "<Figure size 640x480 with 1 Axes>"
      ]
     },
     "metadata": {},
     "output_type": "display_data"
    },
    {
     "data": {
      "image/png": "[encoded data removed]",
      "text/plain": [
       "<Figure size 640x480 with 2 Axes>"
      ]
     },
     "metadata": {},
     "output_type": "display_data"
    }
   ],
   "source": [
    "try:\n",
    "    config = ConfigurationManager()\n",
    "    model_evaluation_config = config.get_model_evaluation_config()\n",
    "    eval = ModelEvaluation(config=model_evaluation_config)\n",
    "    eval.log_into_mlflow()\n",
    "    #eval.validate_model()\n",
    "    eval.perform_grid_search()  \n",
    "    \n",
    "    \n",
    "\n",
    "except Exception as e:\n",
    "    print(f\"An error occurred: {e}\")\n",
    "    \n",
    "    \n",
    "    "
   ]
  },
  {
   "cell_type": "code",
   "execution_count": null,
   "id": "9469ccb1",
   "metadata": {},
   "outputs": [],
   "source": []
  },
  {
   "cell_type": "code",
   "execution_count": null,
   "id": "6710aab1",
   "metadata": {},
   "outputs": [],
   "source": []
  },
  {
   "cell_type": "code",
   "execution_count": null,
   "metadata": {},
   "outputs": [],
   "source": []
  },
  {
   "cell_type": "code",
   "execution_count": null,
   "id": "19386016",
   "metadata": {},
   "outputs": [],
   "source": []
  },
  {
   "cell_type": "code",
   "execution_count": null,
   "id": "fcaa7a66",
   "metadata": {},
   "outputs": [],
   "source": []
  },
  {
   "cell_type": "code",
   "execution_count": null,
   "metadata": {},
   "outputs": [],
   "source": []
  },
  {
   "cell_type": "code",
   "execution_count": null,
   "id": "4ea8dca5",
   "metadata": {},
   "outputs": [],
   "source": []
  },
  {
   "cell_type": "code",
   "execution_count": null,
   "metadata": {},
   "outputs": [],
   "source": []
  },
  {
   "cell_type": "code",
   "execution_count": null,
   "id": "55592b65",
   "metadata": {},
   "outputs": [],
   "source": []
  },
  {
   "cell_type": "code",
   "execution_count": null,
   "id": "fc40b527",
   "metadata": {},
   "outputs": [],
   "source": []
  },
  {
   "cell_type": "code",
   "execution_count": null,
   "metadata": {},
   "outputs": [],
   "source": []
  },
  {
   "cell_type": "code",
   "execution_count": null,
   "id": "e06341f7",
   "metadata": {},
   "outputs": [],
   "source": []
  }
 ],
 "metadata": {
  "kernelspec": {
   "display_name": "bankprod",
   "language": "python",
   "name": "python3"
  },
  "language_info": {
   "codemirror_mode": {
    "name": "ipython",
    "version": 3
   },
   "file_extension": ".py",
   "mimetype": "text/x-python",
   "name": "python",
   "nbconvert_exporter": "python",
   "pygments_lexer": "ipython3",
   "version": "3.10.16"
  }
 },
 "nbformat": 4,
 "nbformat_minor": 5
}
