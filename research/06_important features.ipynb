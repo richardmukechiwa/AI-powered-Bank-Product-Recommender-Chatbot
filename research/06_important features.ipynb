{
 "cells": [
  {
   "cell_type": "code",
   "execution_count": 78,
   "id": "1cf18cc0",
   "metadata": {},
   "outputs": [],
   "source": [
    "import os"
   ]
  },
  {
   "cell_type": "code",
   "execution_count": 79,
   "id": "c41edd58",
   "metadata": {},
   "outputs": [
    {
     "data": {
      "text/plain": [
       "'C:\\\\Users\\\\RICH-FILES\\\\Desktop\\\\ml\\\\AI-powered-Bank-Product-Recommender-Chatbot'"
      ]
     },
     "execution_count": 79,
     "metadata": {},
     "output_type": "execute_result"
    }
   ],
   "source": [
    "%pwd"
   ]
  },
  {
   "cell_type": "code",
   "execution_count": 80,
   "id": "3caec5d0",
   "metadata": {},
   "outputs": [],
   "source": [
    "os.chdir('../.')"
   ]
  },
  {
   "cell_type": "code",
   "execution_count": 81,
   "id": "7c5d1f5e",
   "metadata": {},
   "outputs": [
    {
     "data": {
      "text/plain": [
       "'C:\\\\Users\\\\RICH-FILES\\\\Desktop\\\\ml'"
      ]
     },
     "execution_count": 81,
     "metadata": {},
     "output_type": "execute_result"
    }
   ],
   "source": [
    "%pwd"
   ]
  },
  {
   "cell_type": "code",
   "execution_count": 82,
   "id": "99f58a15",
   "metadata": {},
   "outputs": [],
   "source": [
    "project_dir = \"C:/Users/RICH-FILES/Desktop/ml/AI-powered-Bank-Product-Recommender-Chatbot\"\n",
    "os.chdir(project_dir)"
   ]
  },
  {
   "cell_type": "code",
   "execution_count": 83,
   "id": "04d2c621",
   "metadata": {},
   "outputs": [],
   "source": [
    "from dataclasses import dataclass\n",
    "from pathlib import Path\n",
    "\n",
    "@dataclass(frozen=True)\n",
    "class FeatureImportanceConfig:\n",
    "    \"\"\"Configuration for feature importance analysis.\n",
    "    \"\"\"\n",
    "    root_dir: Path\n",
    "    grid_search_model: Path\n",
    "    training_data_path: Path\n",
    "    test_data_path: Path\n",
    "    feature_importance_file: Path\n",
    "    target_column: str\n",
    "    \n",
    "    \n",
    "    \n",
    "    "
   ]
  },
  {
   "cell_type": "code",
   "execution_count": 84,
   "id": "a0b6cceb",
   "metadata": {},
   "outputs": [],
   "source": [
    "from BankProducts.constants import *\n",
    "from BankProducts.utils.common import read_yaml, create_directories\n",
    "from BankProducts import logger"
   ]
  },
  {
   "cell_type": "code",
   "execution_count": 85,
   "id": "9753d58e",
   "metadata": {},
   "outputs": [],
   "source": [
    "class ConfigurationManager:\n",
    "    def __init__(\n",
    "        self,\n",
    "        config_filepath = CONFIG_FILE_PATH,\n",
    "        params_filepath = PARAMS_FILE_PATH,\n",
    "        schema_filepath = SCHEMA_FILE_PATH):\n",
    "\n",
    "        self.config = read_yaml(config_filepath)\n",
    "        self.params = read_yaml(params_filepath)\n",
    "        self.schema = read_yaml(schema_filepath)\n",
    "\n",
    "        create_directories([self.config.artifacts_root])\n",
    "        \n",
    "    def get_feature_importance_config(self) -> FeatureImportanceConfig:\n",
    "        config = self.config.feature_importance \n",
    "        schema = self.schema.target_column\n",
    "        params= self.params\n",
    "        \n",
    "        create_directories([self.config.artifacts_root])\n",
    "       \n",
    "        \n",
    "        feature_importance_config = FeatureImportanceConfig(\n",
    "            root_dir=Path(config.root_dir),\n",
    "            grid_search_model=Path(config.grid_search_model),\n",
    "            training_data_path=Path(config.training_data_path),\n",
    "            test_data_path=Path(config.test_data_path),\n",
    "            feature_importance_file=Path(config.feature_importance_file),\n",
    "            target_column= schema.name\n",
    "            \n",
    "        )\n",
    "        logger.info(f\"Feature Importance Config: {feature_importance_config}\")\n",
    "        return feature_importance_config\n",
    "        \n",
    "        "
   ]
  },
  {
   "cell_type": "code",
   "execution_count": 86,
   "id": "f0ad2645",
   "metadata": {},
   "outputs": [],
   "source": [
    "import pandas as pd"
   ]
  },
  {
   "cell_type": "code",
   "execution_count": 87,
   "id": "419ab903",
   "metadata": {},
   "outputs": [],
   "source": [
    "class FeatureImportance:\n",
    "    def __init__(self, config: FeatureImportanceConfig):\n",
    "        self.config = config\n",
    "\n",
    "    def important_feature(self):\n",
    "        import joblib\n",
    "        import shap\n",
    "        import pandas as pd\n",
    "        import numpy as np\n",
    "        import os\n",
    "        import matplotlib.pyplot as plt\n",
    "\n",
    "        logger.info(\"Starting SHAP feature importance calculation...\")\n",
    "\n",
    "        # Load data\n",
    "        test_data = pd.read_csv(self.config.test_data_path)\n",
    "        test_x = test_data.drop(self.config.target_column, axis=1)\n",
    "\n",
    "        # Load model and preprocessor\n",
    "        pipeline = joblib.load(self.config.grid_search_model)\n",
    "        preprocessor = pipeline.named_steps['preprocessor']\n",
    "        model = pipeline.named_steps['log_regression']\n",
    "\n",
    "        # Transform data\n",
    "        X_processed = preprocessor.transform(test_x)\n",
    "\n",
    "        # Get feature names\n",
    "        try:\n",
    "            feature_names = preprocessor.get_feature_names_out()\n",
    "        except AttributeError:\n",
    "            num_features = preprocessor.transformers_[0][2]\n",
    "            cat_encoder = preprocessor.transformers_[1][1]\n",
    "            cat_features = cat_encoder.get_feature_names_out(preprocessor.transformers_[1][2])\n",
    "            feature_names = np.concatenate([num_features, cat_features])\n",
    "\n",
    "        X_df = pd.DataFrame(\n",
    "            X_processed.toarray() if hasattr(X_processed, 'toarray') else X_processed,\n",
    "            columns=feature_names\n",
    "        )\n",
    "\n",
    "        # SHAP Explainer\n",
    "        explainer = shap.LinearExplainer(model, X_df, feature_perturbation=\"interventional\")\n",
    "        shap_values = explainer.shap_values(X_df)\n",
    "\n",
    "        # Handle binary or multiclass\n",
    "        # Handle binary or multiclass\n",
    "        shap_abs = np.abs(shap_values)\n",
    "\n",
    "        if shap_abs.ndim == 3:\n",
    "            # Multiclass: (samples, features, classes) → average over classes\n",
    "            shap_mean = shap_abs.mean(axis=2)\n",
    "            shap_df = pd.DataFrame(shap_mean, columns=X_df.columns)\n",
    "        else:\n",
    "            shap_df = pd.DataFrame(shap_abs, columns=X_df.columns)\n",
    "\n",
    "        shap_importance = shap_df.mean().sort_values(ascending=False)\n",
    "\n",
    "\n",
    "        # Log top features\n",
    "        print(\"Top Important Features:\")\n",
    "        print(shap_importance.head(10))\n",
    "\n",
    "        # Create folder for plots\n",
    "        plots_dir = self.config.feature_importance_file.parent / \"plots\"\n",
    "        os.makedirs(plots_dir, exist_ok=True)\n",
    "\n",
    "        # 1. Bar Plot\n",
    "        plt.figure(figsize=(10, 6))\n",
    "        shap_importance.head(20).plot(kind='barh')\n",
    "        plt.title(\"Top 20 Feature Importances (Mean SHAP Value)\")\n",
    "        plt.gca().invert_yaxis()\n",
    "        plt.tight_layout()\n",
    "        bar_plot_path = plots_dir / \"shap_bar_plot.png\"\n",
    "        plt.savefig(bar_plot_path)\n",
    "        plt.close()\n",
    "\n",
    "        # 2. Beeswarm Plot\n",
    "        plt.figure(figsize=(12, 6))\n",
    "        shap.summary_plot(shap_values, X_df, plot_type=\"dot\", show=False)\n",
    "        beeswarm_path = plots_dir / \"shap_beeswarm_plot.png\"\n",
    "        plt.savefig(beeswarm_path, bbox_inches='tight')\n",
    "        plt.close()\n",
    "\n",
    "        # (Optional) 3. Force Plot for a single prediction\n",
    "        # Uncomment to save interactive HTML\n",
    "        # force_plot = shap.plots.force(explainer.expected_value, shap_values[0], X_df.iloc[0])\n",
    "        # shap.save_html(str(plots_dir / \"shap_force_plot.html\"), force_plot)\n",
    "\n",
    "        # Save SHAP importance to JSON\n",
    "        shap_importance.to_json(self.config.feature_importance_file)\n",
    "        logger.info(f\"SHAP values saved to {self.config.feature_importance_file}\")\n",
    "        logger.info(f\"SHAP bar plot saved to {bar_plot_path}\")\n",
    "        logger.info(f\"SHAP beeswarm plot saved to {beeswarm_path}\")\n",
    "\n",
    "        return shap_importance\n",
    "\n"
   ]
  },
  {
   "cell_type": "code",
   "execution_count": 88,
   "id": "60c1ff6b",
   "metadata": {},
   "outputs": [
    {
     "name": "stdout",
     "output_type": "stream",
     "text": [
      "[2025-06-13 23:33:03,337: INFO: common: yaml file: config\\config.yaml loaded successfully]\n",
      "[2025-06-13 23:33:03,375: INFO: common: yaml file: params.yaml loaded successfully]\n"
     ]
    },
    {
     "name": "stdout",
     "output_type": "stream",
     "text": [
      "[2025-06-13 23:33:03,399: INFO: common: yaml file: schema.yaml loaded successfully]\n",
      "[2025-06-13 23:33:03,406: INFO: common: created directory at: artifacts]\n",
      "[2025-06-13 23:33:03,409: INFO: common: created directory at: artifacts]\n",
      "[2025-06-13 23:33:03,411: INFO: 1520614144: Feature Importance Config: FeatureImportanceConfig(root_dir=WindowsPath('artifacts/feature_importance'), grid_search_model=WindowsPath('artifacts/model_training/grid_search_model.joblib'), training_data_path=WindowsPath('artifacts/data_transformation/train_data.csv'), test_data_path=WindowsPath('artifacts/data_transformation/test_data.csv'), feature_importance_file=WindowsPath('artifacts/feature_importance/feature_importance.json'), target_column='recommendedoffer')]\n",
      "[2025-06-13 23:33:03,414: INFO: 1332980845: Starting SHAP feature importance calculation...]\n"
     ]
    },
    {
     "name": "stderr",
     "output_type": "stream",
     "text": [
      "c:\\Users\\RICH-FILES\\anacoda4\\envs\\bankprod\\lib\\site-packages\\shap\\explainers\\_linear.py:99: FutureWarning: The feature_perturbation option is now deprecated in favor of using the appropriate masker (maskers.Independent, maskers.Partition or maskers.Impute).\n",
      "  warnings.warn(wmsg, FutureWarning)\n"
     ]
    },
    {
     "name": "stdout",
     "output_type": "stream",
     "text": [
      "Top Important Features:\n",
      "num__monthlyincome                       23.776206\n",
      "cat__productcategory_Savings Account      5.618137\n",
      "cat__productcategory_Credit Card          4.943945\n",
      "cat__productcategory_Mortgage             3.873505\n",
      "cat__productcategory_Loan                 3.554549\n",
      "cat__productcategory_Checking Account     3.444262\n",
      "cat__most_used_channel_ATM                2.506376\n",
      "cat__most_used_channel_Branch             2.152710\n",
      "cat__productsubcategory_Student           1.488896\n",
      "cat__most_used_channel_Mobile             1.483481\n",
      "dtype: float64\n",
      "[2025-06-13 23:33:08,891: INFO: 1332980845: SHAP values saved to artifacts\\feature_importance\\feature_importance.json]\n",
      "[2025-06-13 23:33:08,892: INFO: 1332980845: SHAP bar plot saved to artifacts\\feature_importance\\plots\\shap_bar_plot.png]\n",
      "[2025-06-13 23:33:08,893: INFO: 1332980845: SHAP beeswarm plot saved to artifacts\\feature_importance\\plots\\shap_beeswarm_plot.png]\n",
      "[2025-06-13 23:33:08,896: INFO: 516678016: Feature importance saved to artifacts\\feature_importance\\feature_importance.json]\n"
     ]
    },
    {
     "data": {
      "text/plain": [
       "<Figure size 1200x600 with 0 Axes>"
      ]
     },
     "metadata": {},
     "output_type": "display_data"
    }
   ],
   "source": [
    "try:\n",
    "    config = ConfigurationManager()\n",
    "    feature_importance_config = config.get_feature_importance_config()\n",
    "    feature_imp = FeatureImportance(config = feature_importance_config)\n",
    "\n",
    "    feature_imp.important_feature()\n",
    "    \n",
    "    logger.info(f\"Feature importance saved to {feature_importance_config.feature_importance_file}\")\n",
    "except Exception as e:\n",
    "    logger.exception(f\"An error occurred: {e}\")\n",
    "    raise e \n"
   ]
  },
  {
   "cell_type": "code",
   "execution_count": null,
   "id": "846d8a33",
   "metadata": {},
   "outputs": [],
   "source": []
  },
  {
   "cell_type": "code",
   "execution_count": null,
   "id": "eb6211c0",
   "metadata": {},
   "outputs": [],
   "source": []
  },
  {
   "cell_type": "code",
   "execution_count": null,
   "id": "a6ec6934",
   "metadata": {},
   "outputs": [],
   "source": []
  }
 ],
 "metadata": {
  "kernelspec": {
   "display_name": "bankprod",
   "language": "python",
   "name": "python3"
  },
  "language_info": {
   "codemirror_mode": {
    "name": "ipython",
    "version": 3
   },
   "file_extension": ".py",
   "mimetype": "text/x-python",
   "name": "python",
   "nbconvert_exporter": "python",
   "pygments_lexer": "ipython3",
   "version": "3.10.16"
  }
 },
 "nbformat": 4,
 "nbformat_minor": 5
}
