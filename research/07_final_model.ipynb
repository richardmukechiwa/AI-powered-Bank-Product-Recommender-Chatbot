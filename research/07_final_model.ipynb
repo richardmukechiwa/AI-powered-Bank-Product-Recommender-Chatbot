{
 "cells": [
  {
   "cell_type": "code",
   "execution_count": 276,
   "id": "24a3b945",
   "metadata": {},
   "outputs": [],
   "source": [
    "import os"
   ]
  },
  {
   "cell_type": "code",
   "execution_count": 277,
   "id": "a20fbea2",
   "metadata": {},
   "outputs": [
    {
     "data": {
      "text/plain": [
       "'C:\\\\Users\\\\RICH-FILES\\\\Desktop\\\\ml\\\\AI-powered-Bank-Product-Recommender-Chatbot'"
      ]
     },
     "execution_count": 277,
     "metadata": {},
     "output_type": "execute_result"
    }
   ],
   "source": [
    "%pwd"
   ]
  },
  {
   "cell_type": "code",
   "execution_count": 278,
   "id": "28656653",
   "metadata": {},
   "outputs": [],
   "source": [
    "os.chdir(\"../.\")"
   ]
  },
  {
   "cell_type": "code",
   "execution_count": 279,
   "metadata": {},
   "outputs": [
    {
     "data": {
      "text/plain": [
       "'C:\\\\Users\\\\RICH-FILES\\\\Desktop\\\\ml'"
      ]
     },
     "execution_count": 279,
     "metadata": {},
     "output_type": "execute_result"
    }
   ],
   "source": [
    "%pwd"
   ]
  },
  {
   "cell_type": "code",
   "execution_count": 280,
   "id": "1dc4e131",
   "metadata": {},
   "outputs": [],
   "source": [
    "project_dir = \"C:/Users/RICH-FILES/Desktop/ml/AI-powered-Bank-Product-Recommender-Chatbot\"\n",
    "os.chdir(project_dir)"
   ]
  },
  {
   "cell_type": "code",
   "execution_count": 281,
   "id": "d2b15198",
   "metadata": {},
   "outputs": [],
   "source": [
    "from dataclasses import dataclass\n",
    "from pathlib import Path\n",
    "\n",
    "@dataclass(frozen=True)\n",
    "class FinalModelConfig: \n",
    "    \"\"\"Configuration for the final model\"\"\"\n",
    "    \n",
    "    training_data: Path\n",
    "    testing_data: Path\n",
    "    final_model: Path\n",
    "    \n",
    "    "
   ]
  },
  {
   "cell_type": "code",
   "execution_count": 282,
   "id": "30f6b6d1",
   "metadata": {},
   "outputs": [],
   "source": [
    "from BankProducts.constants import *\n",
    "from BankProducts.utils.common import read_yaml, create_directories\n"
   ]
  },
  {
   "cell_type": "code",
   "execution_count": null,
   "id": "9d9eca79",
   "metadata": {},
   "outputs": [],
   "source": [
    "class ConfigurationManager:\n",
    "    def __init__(\n",
    "        self,\n",
    "        config_filepath = CONFIG_FILE_PATH,    \n",
    "        params_filepath = PARAMS_FILE_PATH,\n",
    "        schema_filepath = SCHEMA_FILE_PATH,\n",
    "        ):\n",
    "       \n",
    "        self.config = read_yaml(config_filepath)\n",
    "        self.params = read_yaml(params_filepath)\n",
    "        self.schema = read_yaml(schema_filepath)        \n",
    "    \n",
    "        create_directories([self.config.artifacts_root])\n",
    "        \n",
    "    def get_final_model_config(self)-> FinalModelConfig:\n",
    "        \"\"\"Returns the final model configuration.\"\"\"\n",
    "        config = self.config.retrained_model\n",
    "        params = self.params.logistic_regression\n",
    "        schema = self.schema.target_column\n",
    "        \n",
    "        create_directories([self.config.artifacts_root])\n",
    "        \n",
    "        final_model_config = FinalModelConfig(\n",
    "          \n",
    "           target_column=schema.name,\n",
    "           training_data= Path(config.training_data),\n",
    "           testing_data= Path(config.testing_data),\n",
    "           final_model= Path(config.final_model),\n",
    "           \n",
    "           \n",
    "                         \n",
    "            \n",
    "        )\n",
    "        \n",
    "        \n",
    "        \n",
    "        return final_model_config   \n",
    "        "
   ]
  },
  {
   "cell_type": "code",
   "execution_count": 284,
   "id": "c30293da",
   "metadata": {},
   "outputs": [],
   "source": [
    "from sklearn.linear_model import LogisticRegression\n",
    "import pandas as pd\n",
    "import numpy as np\n",
    "from BankProducts import logger"
   ]
  },
  {
   "cell_type": "code",
   "execution_count": 285,
   "metadata": {},
   "outputs": [],
   "source": [
    "class FinalModel:\n",
    "    def __init__(self, config: FinalModelConfig):\n",
    "        self.config = config\n",
    "        \n",
    "    def final_training(self):\n",
    "        \n",
    "        os.makedirs(os.path.dirname(self.config.train_data), exist_ok=True)\n",
    "        \n",
    "        df = pd.read_csv(self.config.training_data)\n",
    "        \n",
    "        \n",
    "        df.head()\n",
    "        \n",
    "        # Correct column selection using a list\n",
    "        data = df[[\"monthlyincome\", \"productcategory\", \"most_channel_used\", \n",
    "                   \"productsubcategory\", \"amount\", \"recommendedoffer\"]]\n",
    "        \n",
    "        # Drop target column to get training features\n",
    "        X_train = df.drop(columns=[self.config.target_column])\n",
    "        \n",
    "        print(data.head())\n",
    "        print(X_train.head())\n",
    "        \n",
    "        return data, df\n",
    "    \n"
   ]
  },
  {
   "cell_type": "code",
   "execution_count": 286,
   "id": "f9de6a81",
   "metadata": {},
   "outputs": [
    {
     "name": "stdout",
     "output_type": "stream",
     "text": [
      "[2025-06-13 23:59:45,584: INFO: common: yaml file: config\\config.yaml loaded successfully]\n",
      "[2025-06-13 23:59:45,590: INFO: common: yaml file: params.yaml loaded successfully]\n",
      "[2025-06-13 23:59:45,596: INFO: common: yaml file: schema.yaml loaded successfully]\n",
      "[2025-06-13 23:59:45,598: INFO: common: created directory at: artifacts]\n",
      "[2025-06-13 23:59:45,600: INFO: common: created directory at: artifacts]\n",
      "[2025-06-13 23:59:45,601: ERROR: 710817675: An error occurred: FinalModelConfig.__init__() got an unexpected keyword argument 'target_column']\n",
      "Traceback (most recent call last):\n",
      "  File \"C:\\Users\\RICH-FILES\\AppData\\Local\\Temp\\ipykernel_1408\\710817675.py\", line 3, in <module>\n",
      "    final_model_config = config.get_final_model_config()\n",
      "  File \"C:\\Users\\RICH-FILES\\AppData\\Local\\Temp\\ipykernel_1408\\212132842.py\", line 22, in get_final_model_config\n",
      "    final_model_config = FinalModelConfig(\n",
      "TypeError: FinalModelConfig.__init__() got an unexpected keyword argument 'target_column'\n"
     ]
    },
    {
     "ename": "TypeError",
     "evalue": "FinalModelConfig.__init__() got an unexpected keyword argument 'target_column'",
     "output_type": "error",
     "traceback": [
      "\u001b[1;31m---------------------------------------------------------------------------\u001b[0m",
      "\u001b[1;31mTypeError\u001b[0m                                 Traceback (most recent call last)",
      "Cell \u001b[1;32mIn[286], line 10\u001b[0m\n\u001b[0;32m      8\u001b[0m \u001b[38;5;28;01mexcept\u001b[39;00m \u001b[38;5;167;01mException\u001b[39;00m \u001b[38;5;28;01mas\u001b[39;00m e:\n\u001b[0;32m      9\u001b[0m     logger\u001b[38;5;241m.\u001b[39mexception(\u001b[38;5;124mf\u001b[39m\u001b[38;5;124m\"\u001b[39m\u001b[38;5;124mAn error occurred: \u001b[39m\u001b[38;5;132;01m{\u001b[39;00me\u001b[38;5;132;01m}\u001b[39;00m\u001b[38;5;124m\"\u001b[39m)\n\u001b[1;32m---> 10\u001b[0m     \u001b[38;5;28;01mraise\u001b[39;00m e \n",
      "Cell \u001b[1;32mIn[286], line 3\u001b[0m\n\u001b[0;32m      1\u001b[0m \u001b[38;5;28;01mtry\u001b[39;00m:\n\u001b[0;32m      2\u001b[0m     config \u001b[38;5;241m=\u001b[39m ConfigurationManager()\n\u001b[1;32m----> 3\u001b[0m     final_model_config \u001b[38;5;241m=\u001b[39m \u001b[43mconfig\u001b[49m\u001b[38;5;241;43m.\u001b[39;49m\u001b[43mget_final_model_config\u001b[49m\u001b[43m(\u001b[49m\u001b[43m)\u001b[49m\n\u001b[0;32m      4\u001b[0m     fin_model \u001b[38;5;241m=\u001b[39m FinalModel(config \u001b[38;5;241m=\u001b[39m final_model_config)\n\u001b[0;32m      6\u001b[0m     fin_model\u001b[38;5;241m.\u001b[39mfinal_training()\n",
      "Cell \u001b[1;32mIn[283], line 22\u001b[0m, in \u001b[0;36mConfigurationManager.get_final_model_config\u001b[1;34m(self)\u001b[0m\n\u001b[0;32m     18\u001b[0m schema \u001b[38;5;241m=\u001b[39m \u001b[38;5;28mself\u001b[39m\u001b[38;5;241m.\u001b[39mschema\u001b[38;5;241m.\u001b[39mtarget_column\n\u001b[0;32m     20\u001b[0m create_directories([\u001b[38;5;28mself\u001b[39m\u001b[38;5;241m.\u001b[39mconfig\u001b[38;5;241m.\u001b[39martifacts_root])\n\u001b[1;32m---> 22\u001b[0m final_model_config \u001b[38;5;241m=\u001b[39m \u001b[43mFinalModelConfig\u001b[49m\u001b[43m(\u001b[49m\n\u001b[0;32m     23\u001b[0m \u001b[43m  \u001b[49m\n\u001b[0;32m     24\u001b[0m \u001b[43m   \u001b[49m\u001b[43mtarget_column\u001b[49m\u001b[38;5;241;43m=\u001b[39;49m\u001b[43mschema\u001b[49m\u001b[38;5;241;43m.\u001b[39;49m\u001b[43mname\u001b[49m\u001b[43m,\u001b[49m\n\u001b[0;32m     25\u001b[0m \u001b[43m   \u001b[49m\u001b[43mtraining_data\u001b[49m\u001b[38;5;241;43m=\u001b[39;49m\u001b[43m \u001b[49m\u001b[43mPath\u001b[49m\u001b[43m(\u001b[49m\u001b[43mconfig\u001b[49m\u001b[38;5;241;43m.\u001b[39;49m\u001b[43mtraining_data\u001b[49m\u001b[43m)\u001b[49m\u001b[43m,\u001b[49m\n\u001b[0;32m     26\u001b[0m \u001b[43m   \u001b[49m\u001b[43mtesting_data\u001b[49m\u001b[38;5;241;43m=\u001b[39;49m\u001b[43m \u001b[49m\u001b[43mPath\u001b[49m\u001b[43m(\u001b[49m\u001b[43mconfig\u001b[49m\u001b[38;5;241;43m.\u001b[39;49m\u001b[43mtesting_data\u001b[49m\u001b[43m)\u001b[49m\u001b[43m,\u001b[49m\n\u001b[0;32m     27\u001b[0m \u001b[43m   \u001b[49m\u001b[43mfinal_model\u001b[49m\u001b[38;5;241;43m=\u001b[39;49m\u001b[43m \u001b[49m\u001b[43mPath\u001b[49m\u001b[43m(\u001b[49m\u001b[43mconfig\u001b[49m\u001b[38;5;241;43m.\u001b[39;49m\u001b[43mfinal_model\u001b[49m\u001b[43m)\u001b[49m\u001b[43m,\u001b[49m\n\u001b[0;32m     28\u001b[0m \u001b[43m   \u001b[49m\n\u001b[0;32m     29\u001b[0m \u001b[43m   \u001b[49m\n\u001b[0;32m     30\u001b[0m \u001b[43m                 \u001b[49m\n\u001b[0;32m     31\u001b[0m \u001b[43m    \u001b[49m\n\u001b[0;32m     32\u001b[0m \u001b[43m\u001b[49m\u001b[43m)\u001b[49m\n\u001b[0;32m     36\u001b[0m \u001b[38;5;28;01mreturn\u001b[39;00m final_model_config\n",
      "\u001b[1;31mTypeError\u001b[0m: FinalModelConfig.__init__() got an unexpected keyword argument 'target_column'"
     ]
    }
   ],
   "source": [
    "try:\n",
    "    config = ConfigurationManager()\n",
    "    final_model_config = config.get_final_model_config()\n",
    "    fin_model = FinalModel(config = final_model_config)\n",
    "\n",
    "    fin_model.final_training()\n",
    "    \n",
    "except Exception as e:\n",
    "    logger.exception(f\"An error occurred: {e}\")\n",
    "    raise e \n"
   ]
  },
  {
   "cell_type": "code",
   "execution_count": null,
   "id": "e3d412cc",
   "metadata": {},
   "outputs": [],
   "source": []
  },
  {
   "cell_type": "code",
   "execution_count": null,
   "id": "b4178aa6",
   "metadata": {},
   "outputs": [],
   "source": []
  },
  {
   "cell_type": "code",
   "execution_count": null,
   "id": "5b7713e0",
   "metadata": {},
   "outputs": [],
   "source": []
  },
  {
   "cell_type": "code",
   "execution_count": null,
   "id": "196bb7e3",
   "metadata": {},
   "outputs": [],
   "source": []
  },
  {
   "cell_type": "code",
   "execution_count": null,
   "id": "b31d02b1",
   "metadata": {},
   "outputs": [],
   "source": []
  }
 ],
 "metadata": {
  "kernelspec": {
   "display_name": "bankprod",
   "language": "python",
   "name": "python3"
  },
  "language_info": {
   "codemirror_mode": {
    "name": "ipython",
    "version": 3
   },
   "file_extension": ".py",
   "mimetype": "text/x-python",
   "name": "python",
   "nbconvert_exporter": "python",
   "pygments_lexer": "ipython3",
   "version": "3.10.16"
  }
 },
 "nbformat": 4,
 "nbformat_minor": 5
}
