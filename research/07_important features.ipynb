{
 "cells": [
  {
   "cell_type": "code",
   "execution_count": 188,
   "id": "1cf18cc0",
   "metadata": {},
   "outputs": [],
   "source": [
    "import os"
   ]
  },
  {
   "cell_type": "code",
   "execution_count": 189,
   "id": "c41edd58",
   "metadata": {},
   "outputs": [
    {
     "data": {
      "text/plain": [
       "'C:\\\\Users\\\\RICH-FILES\\\\Desktop\\\\ml\\\\AI-powered-Bank-Product-Recommender-Chatbot'"
      ]
     },
     "execution_count": 189,
     "metadata": {},
     "output_type": "execute_result"
    }
   ],
   "source": [
    "%pwd"
   ]
  },
  {
   "cell_type": "code",
   "execution_count": 190,
   "id": "3caec5d0",
   "metadata": {},
   "outputs": [],
   "source": [
    "os.chdir('../.')"
   ]
  },
  {
   "cell_type": "code",
   "execution_count": 191,
   "id": "7c5d1f5e",
   "metadata": {},
   "outputs": [
    {
     "data": {
      "text/plain": [
       "'C:\\\\Users\\\\RICH-FILES\\\\Desktop\\\\ml'"
      ]
     },
     "execution_count": 191,
     "metadata": {},
     "output_type": "execute_result"
    }
   ],
   "source": [
    "%pwd"
   ]
  },
  {
   "cell_type": "code",
   "execution_count": 192,
   "id": "99f58a15",
   "metadata": {},
   "outputs": [],
   "source": [
    "project_dir = \"C:/Users/RICH-FILES/Desktop/ml/AI-powered-Bank-Product-Recommender-Chatbot\"\n",
    "os.chdir(project_dir)"
   ]
  },
  {
   "cell_type": "code",
   "execution_count": 193,
   "id": "04d2c621",
   "metadata": {},
   "outputs": [],
   "source": [
    "from dataclasses import dataclass\n",
    "from pathlib import Path\n",
    "\n",
    "@dataclass(frozen=True)\n",
    "class FeatureImportanceConfig:\n",
    "    \"\"\"Configuration for feature importance analysis.\n",
    "    \"\"\"\n",
    "    root_dir: Path\n",
    "    grid_search_model: Path\n",
    "    training_data_path: Path\n",
    "    test_data_path: Path\n",
    "    feature_importance_file: Path\n",
    "    \n",
    "    \n",
    "    \n",
    "    "
   ]
  },
  {
   "cell_type": "code",
   "execution_count": 194,
   "id": "a0b6cceb",
   "metadata": {},
   "outputs": [],
   "source": [
    "from BankProducts.constants import *\n",
    "from BankProducts.utils.common import read_yaml, create_directories\n",
    "from BankProducts import logger"
   ]
  },
  {
   "cell_type": "code",
   "execution_count": 195,
   "id": "9753d58e",
   "metadata": {},
   "outputs": [],
   "source": [
    "class ConfigurationManager:\n",
    "    def __init__(\n",
    "        self,\n",
    "        config_filepath = CONFIG_FILE_PATH,\n",
    "        params_filepath = PARAMS_FILE_PATH,\n",
    "        schema_filepath = SCHEMA_FILE_PATH):\n",
    "\n",
    "        self.config = read_yaml(config_filepath)\n",
    "        self.params = read_yaml(params_filepath)\n",
    "        self.schema = read_yaml(schema_filepath)\n",
    "\n",
    "        create_directories([self.config.artifacts_root])\n",
    "        \n",
    "    def get_feature_importance_config(self) -> FeatureImportanceConfig:\n",
    "        config = self.config.feature_importance \n",
    "        \n",
    "        create_directories([self.config.artifacts_root])\n",
    "       \n",
    "        \n",
    "        feature_importance_config = FeatureImportanceConfig(\n",
    "            root_dir=Path(config.root_dir),\n",
    "            grid_search_model=Path(config.grid_search_model),\n",
    "            training_data_path=Path(config.training_data_path),\n",
    "            test_data_path=Path(config.test_data_path),\n",
    "            feature_importance_file=Path(config.feature_importance_file)\n",
    "        )\n",
    "        logger.info(f\"Feature Importance Config: {feature_importance_config}\")\n",
    "        return feature_importance_config\n",
    "        \n",
    "        "
   ]
  },
  {
   "cell_type": "code",
   "execution_count": 196,
   "id": "c34542bb",
   "metadata": {},
   "outputs": [],
   "source": [
    "\n",
    "import pandas as pd\n",
    "import shap"
   ]
  },
  {
   "cell_type": "code",
   "execution_count": 197,
   "id": "419ab903",
   "metadata": {},
   "outputs": [],
   "source": [
    "class FeatureImportance:\n",
    "    def __init__(self, config: FeatureImportanceConfig):\n",
    "        self.config = config\n",
    "        self.pipeline = None\n",
    "        self.X_train = None\n",
    "        self.X_test = None\n",
    "        self.y_train = None\n",
    "        self.y_test = None\n",
    "        self.processor = None\n",
    "\n",
    "    def load_data(self):\n",
    "        \"\"\"Load training and test data.\"\"\"\n",
    "        self.X_train = pd.read_csv(self.config.training_data_path)\n",
    "        self.X_test = pd.read_csv(self.config.test_data_path)\n",
    "        logger.info(\"Data loaded successfully.\")\n",
    "        \n",
    "        \n",
    "    def load_model(self):\n",
    "        import joblib\n",
    "        import logging\n",
    "        logger = logging.getLogger(__name__)\n",
    "\n",
    "        # Load pipeline\n",
    "        self.pipeline = joblib.load(self.config.grid_search_model)\n",
    "\n",
    "        # Extract steps\n",
    "        self.model = self.pipeline.named_steps['classifier']\n",
    "        self.processor = self.pipeline.named_steps['preprocessor']\n",
    "\n",
    "        # Transform training data\n",
    "        X_transformed = self.processor.transform(self.X_train)\n",
    "        if hasattr(X_transformed, \"toarray\"):\n",
    "            self.X_train = X_transformed.toarray()\n",
    "        else:\n",
    "            self.X_train = X_transformed\n",
    "\n",
    "        # Get feature names\n",
    "        self.feature_names = self.processor.get_feature_names_out()\n",
    "\n",
    "        logger.info(\"Model loaded successfully.\")\n",
    "\n",
    "    def shap_analysis(self, top_n: int = 20):\n",
    "        import shap\n",
    "        import pandas as pd\n",
    "        import numpy as np\n",
    "        import matplotlib.pyplot as plt\n",
    "\n",
    "        explainer = shap.TreeExplainer(self.model)\n",
    "        shap_values = explainer.shap_values(self.X_train)\n",
    "\n",
    "        # Handle multiclass SHAP (shape: [samples, features, classes])\n",
    "        if isinstance(shap_values, list) or len(shap_values.shape) == 3:\n",
    "            # Take absolute SHAP, mean over classes, then mean over samples\n",
    "            shap_values_mean = np.abs(shap_values).mean(axis=0).mean(axis=0)  # shape: (features,)\n",
    "        else:\n",
    "            shap_values_mean = np.abs(shap_values).mean(axis=0)  # binary or regression\n",
    "\n",
    "        # Create Series for feature importances\n",
    "        feature_importance = pd.Series(shap_values_mean, index=self.feature_names).sort_values(ascending=False)\n",
    "\n",
    "        # Logging\n",
    "        logger.info(f\"Top {top_n} important features by SHAP values:\")\n",
    "        for i, (feature, score) in enumerate(feature_importance.head(top_n).items(), start=1):\n",
    "            logger.info(f\"{i}. {feature}: {score:.4f}\")\n",
    "\n",
    "        # SHAP summary plot\n",
    "        shap.summary_plot(shap_values, self.X_train, feature_names=self.feature_names, show=False)\n",
    "        plt.tight_layout()\n",
    "        plt.savefig(\"artifacts/feature_importance/shap_summary_plot.png\", dpi=300)\n",
    "        plt.close()\n",
    "\n",
    "        # Bar chart for top N\n",
    "        top_features = feature_importance.head(top_n)\n",
    "        plt.figure(figsize=(10, 6))\n",
    "        top_features.plot(kind=\"barh\", color=\"skyblue\")\n",
    "        plt.gca().invert_yaxis()\n",
    "        plt.title(f\"Top {top_n} SHAP Feature Importances\")\n",
    "        plt.xlabel(\"Mean |SHAP value|\")\n",
    "        plt.tight_layout()\n",
    "        plt.savefig(\"artifacts/feature_importance/shap_top_features_bar.png\", dpi=300)\n",
    "        plt.close()\n",
    "\n",
    "        return feature_importance\n",
    "\n",
    "\n",
    "\n",
    "                \n",
    "        #def mape(y_true, y_pred):\n",
    "            #y_true, y_pred = np.array(y_true), np.array(y_pred)\n",
    "            #return np.mean(np.abs((y_true - y_pred) / np.maximum(y_true, 1)))\n",
    "\n",
    "        #mape_value = mape(y_encoded, y_pred_selected) * 100\n",
    "        #print(f\"MAPE with selected features: {mape_value:.2f} %\")\n",
    "\n",
    "        #logger.info(\"Top important features selected using SHAP.\")\n",
    "        return feature_importance\n",
    "    "
   ]
  },
  {
   "cell_type": "code",
   "execution_count": 198,
   "id": "60c1ff6b",
   "metadata": {},
   "outputs": [
    {
     "name": "stdout",
     "output_type": "stream",
     "text": [
      "[2025-05-26 22:34:07,498: INFO: common: yaml file: config\\config.yaml loaded successfully]\n",
      "[2025-05-26 22:34:07,503: INFO: common: yaml file: params.yaml loaded successfully]\n",
      "[2025-05-26 22:34:07,508: INFO: common: yaml file: schema.yaml loaded successfully]\n",
      "[2025-05-26 22:34:07,509: INFO: common: created directory at: artifacts]\n",
      "[2025-05-26 22:34:07,511: INFO: common: created directory at: artifacts]\n",
      "[2025-05-26 22:34:07,512: INFO: 2574497744: Feature Importance Config: FeatureImportanceConfig(root_dir=WindowsPath('artifacts/feature_importance'), grid_search_model=WindowsPath('artifacts/model_training/grid_search_model.joblib'), training_data_path=WindowsPath('artifacts/data_transformation/train_data.csv'), test_data_path=WindowsPath('artifacts/data_transformation/test_data.csv'), feature_importance_file=WindowsPath('artifacts/feature_importance/feature_importance.json'))]\n",
      "[2025-05-26 22:34:07,527: INFO: 535375605: Data loaded successfully.]\n",
      "[2025-05-26 22:34:07,582: INFO: 535375605: Model loaded successfully.]\n"
     ]
    },
    {
     "name": "stdout",
     "output_type": "stream",
     "text": [
      "[2025-05-26 22:34:09,330: ERROR: 3472536603: An error occurred: Length of values (5) does not match length of index (464)]\n",
      "Traceback (most recent call last):\n",
      "  File \"C:\\Users\\RICH-FILES\\AppData\\Local\\Temp\\ipykernel_3968\\3472536603.py\", line 7, in <module>\n",
      "    feature_importance = feature_imp.shap_analysis()\n",
      "  File \"C:\\Users\\RICH-FILES\\AppData\\Local\\Temp\\ipykernel_3968\\535375605.py\", line 59, in shap_analysis\n",
      "    feature_importance = pd.Series(shap_values_mean, index=self.feature_names).sort_values(ascending=False)\n",
      "  File \"c:\\Users\\RICH-FILES\\anacoda4\\envs\\bankprod\\lib\\site-packages\\pandas\\core\\series.py\", line 575, in __init__\n",
      "    com.require_length_match(data, index)\n",
      "  File \"c:\\Users\\RICH-FILES\\anacoda4\\envs\\bankprod\\lib\\site-packages\\pandas\\core\\common.py\", line 573, in require_length_match\n",
      "    raise ValueError(\n",
      "ValueError: Length of values (5) does not match length of index (464)\n"
     ]
    },
    {
     "ename": "ValueError",
     "evalue": "Length of values (5) does not match length of index (464)",
     "output_type": "error",
     "traceback": [
      "\u001b[1;31m---------------------------------------------------------------------------\u001b[0m",
      "\u001b[1;31mValueError\u001b[0m                                Traceback (most recent call last)",
      "Cell \u001b[1;32mIn[198], line 13\u001b[0m\n\u001b[0;32m     11\u001b[0m \u001b[38;5;28;01mexcept\u001b[39;00m \u001b[38;5;167;01mException\u001b[39;00m \u001b[38;5;28;01mas\u001b[39;00m e:\n\u001b[0;32m     12\u001b[0m     logger\u001b[38;5;241m.\u001b[39mexception(\u001b[38;5;124mf\u001b[39m\u001b[38;5;124m\"\u001b[39m\u001b[38;5;124mAn error occurred: \u001b[39m\u001b[38;5;132;01m{\u001b[39;00me\u001b[38;5;132;01m}\u001b[39;00m\u001b[38;5;124m\"\u001b[39m)\n\u001b[1;32m---> 13\u001b[0m     \u001b[38;5;28;01mraise\u001b[39;00m e \n",
      "Cell \u001b[1;32mIn[198], line 7\u001b[0m\n\u001b[0;32m      5\u001b[0m feature_imp\u001b[38;5;241m.\u001b[39mload_data()\n\u001b[0;32m      6\u001b[0m feature_imp\u001b[38;5;241m.\u001b[39mload_model()\n\u001b[1;32m----> 7\u001b[0m feature_importance \u001b[38;5;241m=\u001b[39m \u001b[43mfeature_imp\u001b[49m\u001b[38;5;241;43m.\u001b[39;49m\u001b[43mshap_analysis\u001b[49m\u001b[43m(\u001b[49m\u001b[43m)\u001b[49m\n\u001b[0;32m      8\u001b[0m \u001b[38;5;66;03m# Save as CSV or JSON depending on your config\u001b[39;00m\n\u001b[0;32m      9\u001b[0m feature_importance\u001b[38;5;241m.\u001b[39mto_csv(feature_importance_config\u001b[38;5;241m.\u001b[39mfeature_importance_file, header\u001b[38;5;241m=\u001b[39m\u001b[38;5;28;01mTrue\u001b[39;00m)\n",
      "Cell \u001b[1;32mIn[197], line 59\u001b[0m, in \u001b[0;36mFeatureImportance.shap_analysis\u001b[1;34m(self, top_n)\u001b[0m\n\u001b[0;32m     56\u001b[0m     shap_values_mean \u001b[38;5;241m=\u001b[39m np\u001b[38;5;241m.\u001b[39mabs(shap_values)\u001b[38;5;241m.\u001b[39mmean(axis\u001b[38;5;241m=\u001b[39m\u001b[38;5;241m0\u001b[39m)  \u001b[38;5;66;03m# binary or regression\u001b[39;00m\n\u001b[0;32m     58\u001b[0m \u001b[38;5;66;03m# Create Series for feature importances\u001b[39;00m\n\u001b[1;32m---> 59\u001b[0m feature_importance \u001b[38;5;241m=\u001b[39m \u001b[43mpd\u001b[49m\u001b[38;5;241;43m.\u001b[39;49m\u001b[43mSeries\u001b[49m\u001b[43m(\u001b[49m\u001b[43mshap_values_mean\u001b[49m\u001b[43m,\u001b[49m\u001b[43m \u001b[49m\u001b[43mindex\u001b[49m\u001b[38;5;241;43m=\u001b[39;49m\u001b[38;5;28;43mself\u001b[39;49m\u001b[38;5;241;43m.\u001b[39;49m\u001b[43mfeature_names\u001b[49m\u001b[43m)\u001b[49m\u001b[38;5;241m.\u001b[39msort_values(ascending\u001b[38;5;241m=\u001b[39m\u001b[38;5;28;01mFalse\u001b[39;00m)\n\u001b[0;32m     61\u001b[0m \u001b[38;5;66;03m# Logging\u001b[39;00m\n\u001b[0;32m     62\u001b[0m logger\u001b[38;5;241m.\u001b[39minfo(\u001b[38;5;124mf\u001b[39m\u001b[38;5;124m\"\u001b[39m\u001b[38;5;124mTop \u001b[39m\u001b[38;5;132;01m{\u001b[39;00mtop_n\u001b[38;5;132;01m}\u001b[39;00m\u001b[38;5;124m important features by SHAP values:\u001b[39m\u001b[38;5;124m\"\u001b[39m)\n",
      "File \u001b[1;32mc:\\Users\\RICH-FILES\\anacoda4\\envs\\bankprod\\lib\\site-packages\\pandas\\core\\series.py:575\u001b[0m, in \u001b[0;36mSeries.__init__\u001b[1;34m(self, data, index, dtype, name, copy, fastpath)\u001b[0m\n\u001b[0;32m    573\u001b[0m     index \u001b[38;5;241m=\u001b[39m default_index(\u001b[38;5;28mlen\u001b[39m(data))\n\u001b[0;32m    574\u001b[0m \u001b[38;5;28;01melif\u001b[39;00m is_list_like(data):\n\u001b[1;32m--> 575\u001b[0m     \u001b[43mcom\u001b[49m\u001b[38;5;241;43m.\u001b[39;49m\u001b[43mrequire_length_match\u001b[49m\u001b[43m(\u001b[49m\u001b[43mdata\u001b[49m\u001b[43m,\u001b[49m\u001b[43m \u001b[49m\u001b[43mindex\u001b[49m\u001b[43m)\u001b[49m\n\u001b[0;32m    577\u001b[0m \u001b[38;5;66;03m# create/copy the manager\u001b[39;00m\n\u001b[0;32m    578\u001b[0m \u001b[38;5;28;01mif\u001b[39;00m \u001b[38;5;28misinstance\u001b[39m(data, (SingleBlockManager, SingleArrayManager)):\n",
      "File \u001b[1;32mc:\\Users\\RICH-FILES\\anacoda4\\envs\\bankprod\\lib\\site-packages\\pandas\\core\\common.py:573\u001b[0m, in \u001b[0;36mrequire_length_match\u001b[1;34m(data, index)\u001b[0m\n\u001b[0;32m    569\u001b[0m \u001b[38;5;250m\u001b[39m\u001b[38;5;124;03m\"\"\"\u001b[39;00m\n\u001b[0;32m    570\u001b[0m \u001b[38;5;124;03mCheck the length of data matches the length of the index.\u001b[39;00m\n\u001b[0;32m    571\u001b[0m \u001b[38;5;124;03m\"\"\"\u001b[39;00m\n\u001b[0;32m    572\u001b[0m \u001b[38;5;28;01mif\u001b[39;00m \u001b[38;5;28mlen\u001b[39m(data) \u001b[38;5;241m!=\u001b[39m \u001b[38;5;28mlen\u001b[39m(index):\n\u001b[1;32m--> 573\u001b[0m     \u001b[38;5;28;01mraise\u001b[39;00m \u001b[38;5;167;01mValueError\u001b[39;00m(\n\u001b[0;32m    574\u001b[0m         \u001b[38;5;124m\"\u001b[39m\u001b[38;5;124mLength of values \u001b[39m\u001b[38;5;124m\"\u001b[39m\n\u001b[0;32m    575\u001b[0m         \u001b[38;5;124mf\u001b[39m\u001b[38;5;124m\"\u001b[39m\u001b[38;5;124m(\u001b[39m\u001b[38;5;132;01m{\u001b[39;00m\u001b[38;5;28mlen\u001b[39m(data)\u001b[38;5;132;01m}\u001b[39;00m\u001b[38;5;124m) \u001b[39m\u001b[38;5;124m\"\u001b[39m\n\u001b[0;32m    576\u001b[0m         \u001b[38;5;124m\"\u001b[39m\u001b[38;5;124mdoes not match length of index \u001b[39m\u001b[38;5;124m\"\u001b[39m\n\u001b[0;32m    577\u001b[0m         \u001b[38;5;124mf\u001b[39m\u001b[38;5;124m\"\u001b[39m\u001b[38;5;124m(\u001b[39m\u001b[38;5;132;01m{\u001b[39;00m\u001b[38;5;28mlen\u001b[39m(index)\u001b[38;5;132;01m}\u001b[39;00m\u001b[38;5;124m)\u001b[39m\u001b[38;5;124m\"\u001b[39m\n\u001b[0;32m    578\u001b[0m     )\n",
      "\u001b[1;31mValueError\u001b[0m: Length of values (5) does not match length of index (464)"
     ]
    }
   ],
   "source": [
    "try:\n",
    "    config = ConfigurationManager()\n",
    "    feature_importance_config = config.get_feature_importance_config()\n",
    "    feature_imp = FeatureImportance(config = feature_importance_config)\n",
    "    feature_imp.load_data()\n",
    "    feature_imp.load_model()\n",
    "    feature_importance = feature_imp.shap_analysis()\n",
    "    # Save as CSV or JSON depending on your config\n",
    "    feature_importance.to_csv(feature_importance_config.feature_importance_file, header=True)\n",
    "    logger.info(f\"Feature importance saved to {feature_importance_config.feature_importance_file}\")\n",
    "except Exception as e:\n",
    "    logger.exception(f\"An error occurred: {e}\")\n",
    "    raise e \n"
   ]
  },
  {
   "cell_type": "code",
   "execution_count": null,
   "id": "846d8a33",
   "metadata": {},
   "outputs": [],
   "source": []
  },
  {
   "cell_type": "code",
   "execution_count": null,
   "id": "eb6211c0",
   "metadata": {},
   "outputs": [],
   "source": []
  },
  {
   "cell_type": "code",
   "execution_count": null,
   "id": "a6ec6934",
   "metadata": {},
   "outputs": [],
   "source": []
  }
 ],
 "metadata": {
  "kernelspec": {
   "display_name": "bankprod",
   "language": "python",
   "name": "python3"
  },
  "language_info": {
   "codemirror_mode": {
    "name": "ipython",
    "version": 3
   },
   "file_extension": ".py",
   "mimetype": "text/x-python",
   "name": "python",
   "nbconvert_exporter": "python",
   "pygments_lexer": "ipython3",
   "version": "3.10.16"
  }
 },
 "nbformat": 4,
 "nbformat_minor": 5
}
