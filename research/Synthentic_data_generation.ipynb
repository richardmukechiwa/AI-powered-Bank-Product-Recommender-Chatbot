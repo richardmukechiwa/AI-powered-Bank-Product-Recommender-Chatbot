{
 "cells": [
  {
   "cell_type": "code",
   "execution_count": 1,
   "id": "f0aeac71",
   "metadata": {},
   "outputs": [
    {
     "data": {
      "text/plain": [
       "('C:/Users/RICH-FILES/Desktop/Datasets/bank_customers.csv',\n",
       " 'C:/Users/RICH-FILES/Desktop/Datasets/product_catalog.csv')"
      ]
     },
     "execution_count": 1,
     "metadata": {},
     "output_type": "execute_result"
    }
   ],
   "source": [
    "from faker import Faker\n",
    "import pandas as pd\n",
    "import random\n",
    "\n",
    "fake = Faker()\n",
    "\n",
    "# Define banking products\n",
    "product_catalog = [\n",
    "    {\n",
    "        \"product_name\": \"Savings Account\",\n",
    "        \"description\": \"A basic savings account with competitive interest rates.\",\n",
    "        \"eligibility\": \"All customers above 18 years old\"\n",
    "    },\n",
    "    {\n",
    "        \"product_name\": \"Credit Card\",\n",
    "        \"description\": \"A credit card with cashback and reward points.\",\n",
    "        \"eligibility\": \"Credit score above 650 and income above $20,000\"\n",
    "    },\n",
    "    {\n",
    "        \"product_name\": \"Home Loan\",\n",
    "        \"description\": \"Flexible home loan with low interest rates.\",\n",
    "        \"eligibility\": \"Credit score above 700 and income above $50,000\"\n",
    "    },\n",
    "    {\n",
    "        \"product_name\": \"Education Loan\",\n",
    "        \"description\": \"Loan for students pursuing higher education.\",\n",
    "        \"eligibility\": \"Age below 35 and enrollment in a valid institution\"\n",
    "    },\n",
    "    {\n",
    "        \"product_name\": \"Fixed Deposit\",\n",
    "        \"description\": \"Investment with fixed returns over a chosen term.\",\n",
    "        \"eligibility\": \"Minimum deposit of $1,000\"\n",
    "    }\n",
    "]\n",
    "\n",
    "# Generate simulated customer data\n",
    "def generate_customer_data(num_records=7000):\n",
    "    data = []\n",
    "    products = [p[\"product_name\"] for p in product_catalog]\n",
    "    goals = [\"Home Ownership\", \"Education\", \"Savings\", \"Travel\", \"Retirement\"]\n",
    "    for _ in range(num_records):\n",
    "        data.append({\n",
    "            \"customer_id\": fake.uuid4(),\n",
    "            \"name\": fake.name(),\n",
    "            \"age\": random.randint(18, 70),\n",
    "            \"gender\": random.choice([\"Male\", \"Female\"]),\n",
    "            \"occupation\": fake.job(),\n",
    "            \"annual_income\": round(random.uniform(15000, 200000), 2),\n",
    "            \"marital_status\": random.choice([\"Single\", \"Married\", \"Divorced\"]),\n",
    "            \"credit_score\": random.randint(300, 850),\n",
    "            \"existing_products\": ', '.join(random.sample(products, k=random.randint(0, 3))),\n",
    "            \"financial_goals\": random.choice(goals)\n",
    "        })\n",
    "    return pd.DataFrame(data), pd.DataFrame(product_catalog)\n",
    "\n",
    "# Create the datasets\n",
    "customers_df, products_df = generate_customer_data()\n",
    "\n",
    "# Save datasets\n",
    "customers_csv_path = \"C:/Users/RICH-FILES/Desktop/Datasets/bank_customers.csv\"\n",
    "products_csv_path = \"C:/Users/RICH-FILES/Desktop/Datasets/product_catalog.csv\"\n",
    "\n",
    "customers_df.to_csv(customers_csv_path, index=False)\n",
    "products_df.to_csv(products_csv_path, index=False)\n",
    "\n",
    "customers_csv_path, products_csv_path\n"
   ]
  },
  {
   "cell_type": "code",
   "execution_count": 2,
   "id": "0a11b1fc",
   "metadata": {},
   "outputs": [
    {
     "data": {
      "text/plain": [
       "(                            customer_id           name  age  gender  \\\n",
       " 0  8209b29a-e642-48f0-a470-cd9a198c05d5    John Knight   32  Female   \n",
       " 1  297d0e76-087d-482d-8c74-9ca3931e7b3a  Charles Smith   38  Female   \n",
       " 2  bc8e6000-3179-4014-93f1-5f65281ddfb6   Aaron Sutton   21    Male   \n",
       " 3  54757e73-2043-417e-9836-c35a570e1c0a     Eric Munoz   55    Male   \n",
       " 4  fa8bbf04-ad4b-478a-a210-384352e0f935     Jade Myers   22  Female   \n",
       " \n",
       "                        occupation  annual_income marital_status  credit_score  \\\n",
       " 0          Occupational hygienist      191821.83         Single           462   \n",
       " 1  Armed forces technical officer       36380.06         Single           333   \n",
       " 2          Race relations officer      169175.71        Married           573   \n",
       " 3                    Toxicologist      100031.89        Married           576   \n",
       " 4                Catering manager      172237.14        Married           540   \n",
       " \n",
       "                            existing_products financial_goals  \n",
       " 0  Savings Account, Home Loan, Fixed Deposit       Education  \n",
       " 1                  Education Loan, Home Loan         Savings  \n",
       " 2                                        NaN      Retirement  \n",
       " 3                                        NaN         Savings  \n",
       " 4                     Credit Card, Home Loan  Home Ownership  ,\n",
       "       product_name                                        description  \\\n",
       " 0  Savings Account  A basic savings account with competitive inter...   \n",
       " 1      Credit Card     A credit card with cashback and reward points.   \n",
       " 2        Home Loan        Flexible home loan with low interest rates.   \n",
       " 3   Education Loan       Loan for students pursuing higher education.   \n",
       " 4    Fixed Deposit  Investment with fixed returns over a chosen term.   \n",
       " \n",
       "                                          eligibility  \n",
       " 0                   All customers above 18 years old  \n",
       " 1    Credit score above 650 and income above $20,000  \n",
       " 2    Credit score above 700 and income above $50,000  \n",
       " 3  Age below 35 and enrollment in a valid institu...  \n",
       " 4                          Minimum deposit of $1,000  )"
      ]
     },
     "execution_count": 2,
     "metadata": {},
     "output_type": "execute_result"
    }
   ],
   "source": [
    "#checking the generated files\n",
    "import pandas as pd\n",
    "customers_df = pd.read_csv(customers_csv_path)\n",
    "products_df = pd.read_csv(products_csv_path)        \n",
    "\n",
    "customers_df.head(), products_df.head()\n",
    "# Display the first few rows of the generated datasets  \n",
    "\n",
    "\n"
   ]
  },
  {
   "cell_type": "code",
   "execution_count": 3,
   "id": "13125715",
   "metadata": {},
   "outputs": [
    {
     "name": "stdout",
     "output_type": "stream",
     "text": [
      "(7000, 10)\n",
      "(5, 3)\n"
     ]
    }
   ],
   "source": [
    "# display the shape of the datasets\n",
    "print(customers_df.shape)\n",
    "print(products_df.shape)\n",
    "\n",
    "\n",
    "\n",
    "\n",
    "\n",
    "\n",
    "\n",
    "\n",
    "\n",
    "\n"
   ]
  },
  {
   "cell_type": "code",
   "execution_count": 4,
   "id": "819bc5b9",
   "metadata": {},
   "outputs": [
    {
     "data": {
      "text/plain": [
       "5"
      ]
     },
     "execution_count": 4,
     "metadata": {},
     "output_type": "execute_result"
    }
   ],
   "source": [
    "# Save to SQLite DB\n",
    "\n",
    "from sqlalchemy import create_engine\n",
    "import pandas as pd\n",
    "\n",
    "# Load CSV data\n",
    "customers = pd.read_csv('C:/Users/RICH-FILES/Desktop/Datasets/bank_customers.csv')\n",
    "products = pd.read_csv('C:/Users/RICH-FILES/Desktop/Datasets/product_catalog.csv')\n",
    "\n",
    "# Create SQLite DB\n",
    "engine = create_engine(\"sqlite:///bank_recommender.db\")\n",
    "\n",
    "# Store in DB\n",
    "customers.to_sql(\"customers\", con=engine, if_exists=\"replace\", index=False)\n",
    "products.to_sql(\"products\", con=engine, if_exists=\"replace\", index=False)\n"
   ]
  },
  {
   "cell_type": "code",
   "execution_count": null,
   "id": "d6496879",
   "metadata": {},
   "outputs": [],
   "source": []
  },
  {
   "cell_type": "code",
   "execution_count": null,
   "id": "4b8c1b43",
   "metadata": {},
   "outputs": [],
   "source": []
  },
  {
   "cell_type": "code",
   "execution_count": null,
   "id": "f05dd0a3",
   "metadata": {},
   "outputs": [],
   "source": []
  },
  {
   "cell_type": "code",
   "execution_count": null,
   "id": "0fd0aa26",
   "metadata": {},
   "outputs": [],
   "source": []
  },
  {
   "cell_type": "code",
   "execution_count": null,
   "id": "bc144062",
   "metadata": {},
   "outputs": [],
   "source": []
  },
  {
   "cell_type": "code",
   "execution_count": null,
   "id": "fc8549ef",
   "metadata": {},
   "outputs": [],
   "source": []
  },
  {
   "cell_type": "code",
   "execution_count": null,
   "id": "95759b43",
   "metadata": {},
   "outputs": [],
   "source": []
  },
  {
   "cell_type": "code",
   "execution_count": null,
   "id": "9eb5e36d",
   "metadata": {},
   "outputs": [],
   "source": []
  },
  {
   "cell_type": "code",
   "execution_count": null,
   "id": "0d703ea1",
   "metadata": {},
   "outputs": [],
   "source": []
  },
  {
   "cell_type": "code",
   "execution_count": null,
   "id": "5045f9f7",
   "metadata": {},
   "outputs": [],
   "source": []
  },
  {
   "cell_type": "code",
   "execution_count": null,
   "id": "83afc801",
   "metadata": {},
   "outputs": [],
   "source": []
  },
  {
   "cell_type": "code",
   "execution_count": null,
   "id": "3d73fe94",
   "metadata": {},
   "outputs": [],
   "source": []
  },
  {
   "cell_type": "code",
   "execution_count": null,
   "id": "291bada0",
   "metadata": {},
   "outputs": [],
   "source": []
  },
  {
   "cell_type": "code",
   "execution_count": null,
   "id": "40f41390",
   "metadata": {},
   "outputs": [],
   "source": []
  },
  {
   "cell_type": "code",
   "execution_count": null,
   "id": "3fb32ada",
   "metadata": {},
   "outputs": [],
   "source": []
  }
 ],
 "metadata": {
  "kernelspec": {
   "display_name": ".venv",
   "language": "python",
   "name": "python3"
  },
  "language_info": {
   "codemirror_mode": {
    "name": "ipython",
    "version": 3
   },
   "file_extension": ".py",
   "mimetype": "text/x-python",
   "name": "python",
   "nbconvert_exporter": "python",
   "pygments_lexer": "ipython3",
   "version": "3.13.3"
  }
 },
 "nbformat": 4,
 "nbformat_minor": 5
}
