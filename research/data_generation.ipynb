{
 "cells": [
  {
   "cell_type": "code",
   "execution_count": 1,
   "id": "4b8c1b43",
   "metadata": {},
   "outputs": [
    {
     "name": "stdout",
     "output_type": "stream",
     "text": [
      "Data saved to:\n",
      "CSV Folder: C:/Users/RICH-FILES/Desktop/Datasets\n",
      "SQLite DB: bank_recommender.db\n"
     ]
    }
   ],
   "source": [
    "from faker import Faker\n",
    "import pandas as pd\n",
    "import random\n",
    "from sqlalchemy import create_engine\n",
    "from pathlib import Path\n",
    "\n",
    "# Initialize Faker\n",
    "fake = Faker()\n",
    "\n",
    "# Define banking products\n",
    "product_catalog = [\n",
    "    {\n",
    "        \"product_name\": \"Savings Account\",\n",
    "        \"description\": \"A basic savings account with competitive interest rates.\",\n",
    "        \"eligibility\": \"All customers above 18 years old\"\n",
    "    },\n",
    "    {\n",
    "        \"product_name\": \"Credit Card\",\n",
    "        \"description\": \"A credit card with cashback and reward points.\",\n",
    "        \"eligibility\": \"Credit score above 650 and income above $20,000\"\n",
    "    },\n",
    "    {\n",
    "        \"product_name\": \"Home Loan\",\n",
    "        \"description\": \"Flexible home loan with low interest rates.\",\n",
    "        \"eligibility\": \"Credit score above 700 and income above $50,000\"\n",
    "    },\n",
    "    {\n",
    "        \"product_name\": \"Education Loan\",\n",
    "        \"description\": \"Loan for students pursuing higher education.\",\n",
    "        \"eligibility\": \"Age below 35 and enrollment in a valid institution\"\n",
    "    },\n",
    "    {\n",
    "        \"product_name\": \"Fixed Deposit\",\n",
    "        \"description\": \"Investment with fixed returns over a chosen term.\",\n",
    "        \"eligibility\": \"Minimum deposit of $1,000\"\n",
    "    }\n",
    "]\n",
    "\n",
    "# Function to generate fake customer data\n",
    "def generate_customer_data(num_records=7000):\n",
    "    data = []\n",
    "    products = [p[\"product_name\"] for p in product_catalog]\n",
    "    goals = [\"Home Ownership\", \"Education\", \"Savings\", \"Travel\", \"Retirement\"]\n",
    "    \n",
    "    for _ in range(num_records):\n",
    "        data.append({\n",
    "            \"customer_id\": fake.uuid4(),\n",
    "            \"name\": fake.name(),\n",
    "            \"age\": random.randint(18, 70),\n",
    "            \"gender\": random.choice([\"Male\", \"Female\"]),\n",
    "            \"occupation\": fake.job(),\n",
    "            \"annual_income\": round(random.uniform(15000, 200000), 2),\n",
    "            \"marital_status\": random.choice([\"Single\", \"Married\", \"Divorced\"]),\n",
    "            \"credit_score\": random.randint(300, 850),\n",
    "            \"existing_products\": ', '.join(random.sample(products, k=random.randint(0, 3))),\n",
    "            \"financial_goals\": random.choice(goals)\n",
    "        })\n",
    "    \n",
    "    customers_df = pd.DataFrame(data)\n",
    "    products_df = pd.DataFrame(product_catalog)\n",
    "    return customers_df, products_df\n",
    "\n",
    "# Function to save to CSV\n",
    "def save_to_csv(customers_df, products_df, output_dir):\n",
    "    output_dir = Path(output_dir)\n",
    "    output_dir.mkdir(parents=True, exist_ok=True)\n",
    "    \n",
    "    customers_path = output_dir / \"bank_customers.csv\"\n",
    "    products_path = output_dir / \"product_catalog.csv\"\n",
    "    \n",
    "    customers_df.to_csv(customers_path, index=False)\n",
    "    products_df.to_csv(products_path, index=False)\n",
    "\n",
    "    return customers_path, products_path\n",
    "\n",
    "# Function to save to SQLite DB\n",
    "def save_to_db(customers_path, products_path, db_path=\"bank_recommender.db\"):\n",
    "    engine = create_engine(f\"sqlite:///{db_path}\")\n",
    "    \n",
    "    customers = pd.read_csv(customers_path)\n",
    "    products = pd.read_csv(products_path)\n",
    "    \n",
    "    customers.to_sql(\"customers\", con=engine, if_exists=\"replace\", index=False)\n",
    "    products.to_sql(\"products\", con=engine, if_exists=\"replace\", index=False)\n",
    "\n",
    "    return db_path\n",
    "\n",
    "# Main script runner\n",
    "if __name__ == \"__main__\":\n",
    "    customers_df, products_df = generate_customer_data()\n",
    "    \n",
    "    # Adjust this path as needed\n",
    "    csv_output_dir = \"C:/Users/RICH-FILES/Desktop/Datasets\"\n",
    "    customers_path, products_path = save_to_csv(customers_df, products_df, csv_output_dir)\n",
    "    \n",
    "    db_file = save_to_db(customers_path, products_path)\n",
    "    \n",
    "    print(f\"Data saved to:\\nCSV Folder: {csv_output_dir}\\nSQLite DB: {db_file}\")\n"
   ]
  },
  {
   "cell_type": "code",
   "execution_count": null,
   "id": "f05dd0a3",
   "metadata": {},
   "outputs": [],
   "source": []
  },
  {
   "cell_type": "code",
   "execution_count": null,
   "id": "0fd0aa26",
   "metadata": {},
   "outputs": [],
   "source": []
  },
  {
   "cell_type": "code",
   "execution_count": null,
   "id": "bc144062",
   "metadata": {},
   "outputs": [],
   "source": []
  },
  {
   "cell_type": "code",
   "execution_count": null,
   "id": "fc8549ef",
   "metadata": {},
   "outputs": [],
   "source": []
  },
  {
   "cell_type": "code",
   "execution_count": null,
   "id": "95759b43",
   "metadata": {},
   "outputs": [],
   "source": []
  },
  {
   "cell_type": "code",
   "execution_count": null,
   "id": "9eb5e36d",
   "metadata": {},
   "outputs": [],
   "source": []
  },
  {
   "cell_type": "code",
   "execution_count": null,
   "id": "0d703ea1",
   "metadata": {},
   "outputs": [],
   "source": []
  },
  {
   "cell_type": "code",
   "execution_count": null,
   "id": "5045f9f7",
   "metadata": {},
   "outputs": [],
   "source": []
  },
  {
   "cell_type": "code",
   "execution_count": null,
   "id": "83afc801",
   "metadata": {},
   "outputs": [],
   "source": []
  },
  {
   "cell_type": "code",
   "execution_count": null,
   "id": "3d73fe94",
   "metadata": {},
   "outputs": [],
   "source": []
  },
  {
   "cell_type": "code",
   "execution_count": null,
   "id": "291bada0",
   "metadata": {},
   "outputs": [],
   "source": []
  },
  {
   "cell_type": "code",
   "execution_count": null,
   "id": "40f41390",
   "metadata": {},
   "outputs": [],
   "source": []
  },
  {
   "cell_type": "code",
   "execution_count": null,
   "id": "3fb32ada",
   "metadata": {},
   "outputs": [],
   "source": []
  }
 ],
 "metadata": {
  "kernelspec": {
   "display_name": "bankprod",
   "language": "python",
   "name": "python3"
  },
  "language_info": {
   "codemirror_mode": {
    "name": "ipython",
    "version": 3
   },
   "file_extension": ".py",
   "mimetype": "text/x-python",
   "name": "python",
   "nbconvert_exporter": "python",
   "pygments_lexer": "ipython3",
   "version": "3.10.16"
  }
 },
 "nbformat": 4,
 "nbformat_minor": 5
}
