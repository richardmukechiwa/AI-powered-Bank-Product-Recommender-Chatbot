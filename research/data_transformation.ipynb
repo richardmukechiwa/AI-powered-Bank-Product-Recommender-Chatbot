{
 "cells": [
  {
   "cell_type": "code",
   "execution_count": 42,
   "id": "7deb0443",
   "metadata": {},
   "outputs": [],
   "source": [
    "import os "
   ]
  },
  {
   "cell_type": "code",
   "execution_count": 43,
   "id": "e57277e8",
   "metadata": {},
   "outputs": [
    {
     "data": {
      "text/plain": [
       "'C:\\\\Users\\\\RICH-FILES\\\\Desktop\\\\ml\\\\AI-powered-Bank-Product-Recommender-Chatbot'"
      ]
     },
     "execution_count": 43,
     "metadata": {},
     "output_type": "execute_result"
    }
   ],
   "source": [
    "%pwd"
   ]
  },
  {
   "cell_type": "code",
   "execution_count": 44,
   "id": "66d4e239",
   "metadata": {},
   "outputs": [],
   "source": [
    "os.chdir(\"../.\")"
   ]
  },
  {
   "cell_type": "code",
   "execution_count": 45,
   "id": "dd0303c3",
   "metadata": {},
   "outputs": [
    {
     "data": {
      "text/plain": [
       "'C:\\\\Users\\\\RICH-FILES\\\\Desktop\\\\ml'"
      ]
     },
     "execution_count": 45,
     "metadata": {},
     "output_type": "execute_result"
    }
   ],
   "source": [
    "%pwd"
   ]
  },
  {
   "cell_type": "code",
   "execution_count": 46,
   "id": "219d5575",
   "metadata": {},
   "outputs": [],
   "source": [
    "project_dir = \"C:/Users/RICH-FILES/Desktop/ml/AI-powered-Bank-Product-Recommender-Chatbot\"\n",
    "os.chdir(project_dir)"
   ]
  },
  {
   "cell_type": "code",
   "execution_count": 47,
   "metadata": {},
   "outputs": [],
   "source": [
    "from dataclasses import dataclass\n",
    "from pathlib import Path\n",
    "\n",
    "@dataclass(frozen=True)\n",
    "class DataTransformationConfig:\n",
    "    \"\"\"\n",
    "    Data Transformation Configuration\n",
    "    \"\"\"\n",
    "    root_dir: Path\n",
    "    transformed_data_file: Path\n",
    "    customer_path: Path\n",
    "    product_path: Path"
   ]
  },
  {
   "cell_type": "code",
   "execution_count": 48,
   "metadata": {},
   "outputs": [],
   "source": [
    "from BankProducts.constants import *\n",
    "from BankProducts.utils.common import read_yaml, create_directories"
   ]
  },
  {
   "cell_type": "code",
   "execution_count": 49,
   "id": "2fc534cd",
   "metadata": {},
   "outputs": [],
   "source": [
    "class ConfigurationManager:\n",
    "    def __init__(\n",
    "        self,\n",
    "        config_filepath = CONFIG_FILE_PATH,    \n",
    "        params_filepath = PARAMS_FILE_PATH,\n",
    "        schema_filepath = SCHEMA_FILE_PATH,\n",
    "        ):\n",
    "       \n",
    "        self.config = read_yaml(config_filepath)\n",
    "        self.params = read_yaml(params_filepath)\n",
    "        self.schema = read_yaml(schema_filepath)        \n",
    "    \n",
    "        create_directories([self.config.artifacts_root])\n",
    "        \n",
    "    def get_data_transformation_config(self)-> DataTransformationConfig:\n",
    "        \"\"\"\n",
    "        Returns Data Transformation Configuration\n",
    "        \"\"\"\n",
    "        config = self.config.data_transformation\n",
    "        \n",
    "        create_directories([config.artifacts_root])\n",
    "        \n",
    "        data_transformation_config = DataTransformationConfig(\n",
    "            root_dir=config.root_dir,\n",
    "            transformed_data_dir= config.transformed_data_dir,\n",
    "            product_path= Path(config.product_path),\n",
    "            customer_path= Path(config.customer_path)\n",
    "            )\n",
    "        \n",
    "        \n",
    "        return data_transformation_config\n",
    "    "
   ]
  },
  {
   "cell_type": "code",
   "execution_count": 50,
   "id": "d5c6cf67",
   "metadata": {},
   "outputs": [],
   "source": [
    "import os  \n",
    "from BankProducts import logger\n",
    "from sklearn.model_selection import train_test_split\n",
    "import pandas as pd"
   ]
  },
  {
   "cell_type": "code",
   "execution_count": null,
   "id": "cf694c03",
   "metadata": {},
   "outputs": [],
   "source": [
    "class DataTransformation:\n",
    "    def __init__(self, config: DataTransformationConfig):\n",
    "        self.config = config\n",
    "        self.data = None\n",
    "        self.transformed_data = None\n",
    "        \n",
    "       \n",
    "    def join_dataset(self):\n",
    "        \"\"\"\n",
    "        Join the customer and product datasets\n",
    "        \"\"\"\n",
    "        try:\n",
    "            customer_data = pd.read_csv(self.config.customer_path)\n",
    "            product_data = pd.read_csv(self.config.product_path)\n",
    "            \n",
    "            # Example join operation\n",
    "            joined_data = pd.merge(customer_data, product_data, on=\"customer_id\")\n",
    "            \n",
    "            # Save the joined data\n",
    "            output_path = os.path.self.config.root_dir\n",
    "            joined_data.to_csv(output_path, index=False)\n",
    "        except Exception as e:\n",
    "            print(f\"Error joining datasets: {e}\")\n",
    "            \n",
    "        \n",
    "\n",
    "    def load_data(self):\n",
    "        \"\"\"\n",
    "        Load data from the specified path\n",
    "        \"\"\"\n",
    "        try:\n",
    "            self.data = pd.read_csv(self.config.root_dir)\n",
    "            logger.info(\"Data loaded successfully\")\n",
    "        except Exception as e:\n",
    "            logger.error(f\"Error loading data: {e}\")\n",
    "            raise\n",
    "\n",
    "    def transform_data(self):\n",
    "        \"\"\"\n",
    "        Transform the data as per the requirements\n",
    "        \"\"\"\n",
    "        try:\n",
    "            # Example transformation: splitting data into train and test sets\n",
    "            train_data, test_data = train_test_split(self.data, test_size=0.2)\n",
    "            self.transformed_data = {\n",
    "                \"train\": train_data,\n",
    "                \"test\": test_data\n",
    "            }\n",
    "            logger.info(\"Data transformed successfully\")\n",
    "        except Exception as e:\n",
    "            logger.error(f\"Error transforming data: {e}\")\n",
    "            raise\n",
    "\n",
    "    def save_transformed_data(self):\n",
    "        \"\"\"\n",
    "        Save the transformed data to the specified path\n",
    "        \"\"\"\n",
    "        try:\n",
    "            for key, value in self.transformed_data.items():\n",
    "                output_path = os.path.join(self.config.transformed_data_dir, f\"{key}_data.csv\")\n",
    "                value.to_csv(output_path, index=False)      \n",
    "                logger.info(f\"Transformed data saved to {output_path}\")\n",
    "        except Exception as e:\n",
    "            logger.error(f\"Error saving transformed data: {e}\")\n",
    "            raise\n",
    "        \n",
    "    \n",
    "        "
   ]
  },
  {
   "cell_type": "code",
   "execution_count": 52,
   "id": "2a0cf3b4",
   "metadata": {},
   "outputs": [
    {
     "name": "stdout",
     "output_type": "stream",
     "text": [
      "(7000, 10)\n",
      "Index(['customer_id', 'name', 'age', 'gender', 'occupation', 'annual_income',\n",
      "       'marital_status', 'credit_score', 'existing_products',\n",
      "       'financial_goals'],\n",
      "      dtype='object')\n",
      "customer_id           object\n",
      "name                  object\n",
      "age                    int64\n",
      "gender                object\n",
      "occupation            object\n",
      "annual_income        float64\n",
      "marital_status        object\n",
      "credit_score           int64\n",
      "existing_products     object\n",
      "financial_goals       object\n",
      "dtype: object\n",
      "customer_id             0\n",
      "name                    0\n",
      "age                     0\n",
      "gender                  0\n",
      "occupation              0\n",
      "annual_income           0\n",
      "marital_status          0\n",
      "credit_score            0\n",
      "existing_products    1802\n",
      "financial_goals         0\n",
      "dtype: int64\n",
      "               age  annual_income  credit_score\n",
      "count  7000.000000    7000.000000   7000.000000\n",
      "mean     43.668857  107953.817249    574.838143\n",
      "std      15.313798   53750.112291    159.857563\n",
      "min      18.000000   15000.790000    300.000000\n",
      "25%      30.000000   60739.775000    435.000000\n",
      "50%      43.000000  108515.815000    576.000000\n",
      "75%      57.000000  154586.275000    713.000000\n",
      "max      70.000000  199989.680000    850.000000\n",
      "customer_id          7000\n",
      "name                 6673\n",
      "age                    53\n",
      "gender                  2\n",
      "occupation            639\n",
      "annual_income        6999\n",
      "marital_status          3\n",
      "credit_score          551\n",
      "existing_products      85\n",
      "financial_goals         5\n",
      "dtype: int64\n",
      "<class 'pandas.core.frame.DataFrame'>\n",
      "RangeIndex: 7000 entries, 0 to 6999\n",
      "Data columns (total 10 columns):\n",
      " #   Column             Non-Null Count  Dtype  \n",
      "---  ------             --------------  -----  \n",
      " 0   customer_id        7000 non-null   object \n",
      " 1   name               7000 non-null   object \n",
      " 2   age                7000 non-null   int64  \n",
      " 3   gender             7000 non-null   object \n",
      " 4   occupation         7000 non-null   object \n",
      " 5   annual_income      7000 non-null   float64\n",
      " 6   marital_status     7000 non-null   object \n",
      " 7   credit_score       7000 non-null   int64  \n",
      " 8   existing_products  5198 non-null   object \n",
      " 9   financial_goals    7000 non-null   object \n",
      "dtypes: float64(1), int64(2), object(7)\n",
      "memory usage: 547.0+ KB\n"
     ]
    }
   ],
   "source": [
    "customers  = pd.read_csv(\"artifacts/data_ingestion/raw_data/bank_customers.csv\")\n",
    "customers.head()\n",
    "print(customers.shape)\n",
    "print(customers.columns)    \n",
    "print(customers.dtypes)\n",
    "print(customers.isnull().sum())\n",
    "print(customers.describe())         \n",
    "print(customers.nunique())   \n",
    "\n",
    "customers.info()    "
   ]
  },
  {
   "cell_type": "code",
   "execution_count": 53,
   "id": "7d4b3b61",
   "metadata": {},
   "outputs": [
    {
     "name": "stdout",
     "output_type": "stream",
     "text": [
      "(5, 3)\n",
      "Index(['product_name', 'description', 'eligibility'], dtype='object')\n",
      "product_name    object\n",
      "description     object\n",
      "eligibility     object\n",
      "dtype: object\n",
      "product_name    0\n",
      "description     0\n",
      "eligibility     0\n",
      "dtype: int64\n",
      "           product_name                                        description  \\\n",
      "count                 5                                                  5   \n",
      "unique                5                                                  5   \n",
      "top     Savings Account  A basic savings account with competitive inter...   \n",
      "freq                  1                                                  1   \n",
      "\n",
      "                             eligibility  \n",
      "count                                  5  \n",
      "unique                                 5  \n",
      "top     All customers above 18 years old  \n",
      "freq                                   1  \n",
      "product_name    5\n",
      "description     5\n",
      "eligibility     5\n",
      "dtype: int64\n",
      "<class 'pandas.core.frame.DataFrame'>\n",
      "RangeIndex: 5 entries, 0 to 4\n",
      "Data columns (total 3 columns):\n",
      " #   Column        Non-Null Count  Dtype \n",
      "---  ------        --------------  ----- \n",
      " 0   product_name  5 non-null      object\n",
      " 1   description   5 non-null      object\n",
      " 2   eligibility   5 non-null      object\n",
      "dtypes: object(3)\n",
      "memory usage: 248.0+ bytes\n",
      "None\n",
      "product_name    0\n",
      "description     0\n",
      "eligibility     0\n",
      "dtype: int64\n",
      "           product_name                                        description  \\\n",
      "count                 5                                                  5   \n",
      "unique                5                                                  5   \n",
      "top     Savings Account  A basic savings account with competitive inter...   \n",
      "freq                  1                                                  1   \n",
      "\n",
      "                             eligibility  \n",
      "count                                  5  \n",
      "unique                                 5  \n",
      "top     All customers above 18 years old  \n",
      "freq                                   1  \n"
     ]
    }
   ],
   "source": [
    "products = pd.read_csv(\"artifacts/data_ingestion/raw_data/product_catalog.csv\")\n",
    "products.head() \n",
    "print(products.shape)\n",
    "print(products.columns)\n",
    "print(products.dtypes)\n",
    "print(products.isnull().sum())\n",
    "print(products.describe())\n",
    "print(products.nunique())\n",
    "print(products.info())\n",
    "print(products.isnull().sum())\n",
    "print(products.describe())  "
   ]
  },
  {
   "cell_type": "code",
   "execution_count": null,
   "id": "74c74668",
   "metadata": {},
   "outputs": [
    {
     "ename": "NameError",
     "evalue": "name 'customer_path' is not defined",
     "output_type": "error",
     "traceback": [
      "\u001b[1;31m---------------------------------------------------------------------------\u001b[0m",
      "\u001b[1;31mNameError\u001b[0m                                 Traceback (most recent call last)",
      "Cell \u001b[1;32mIn[54], line 1\u001b[0m\n\u001b[1;32m----> 1\u001b[0m cust \u001b[38;5;241m=\u001b[39m pd\u001b[38;5;241m.\u001b[39mread_csv(\u001b[43mcustomer_path\u001b[49m)\n\u001b[0;32m      2\u001b[0m cust\u001b[38;5;241m.\u001b[39mhead()\n",
      "\u001b[1;31mNameError\u001b[0m: name 'customer_path' is not defined"
     ]
    }
   ],
   "source": [
    "cust = pd.read_csv(customer_path)\n",
    "cust.head()"
   ]
  },
  {
   "cell_type": "code",
   "execution_count": null,
   "id": "0a327732",
   "metadata": {},
   "outputs": [],
   "source": []
  },
  {
   "cell_type": "code",
   "execution_count": null,
   "id": "2489fc45",
   "metadata": {},
   "outputs": [],
   "source": []
  },
  {
   "cell_type": "code",
   "execution_count": null,
   "id": "042cd729",
   "metadata": {},
   "outputs": [],
   "source": []
  }
 ],
 "metadata": {
  "kernelspec": {
   "display_name": "bankprod",
   "language": "python",
   "name": "python3"
  },
  "language_info": {
   "codemirror_mode": {
    "name": "ipython",
    "version": 3
   },
   "file_extension": ".py",
   "mimetype": "text/x-python",
   "name": "python",
   "nbconvert_exporter": "python",
   "pygments_lexer": "ipython3",
   "version": "3.10.16"
  }
 },
 "nbformat": 4,
 "nbformat_minor": 5
}
