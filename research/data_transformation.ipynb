{
 "cells": [
  {
   "cell_type": "code",
   "execution_count": 67,
   "id": "7deb0443",
   "metadata": {},
   "outputs": [],
   "source": [
    "import os "
   ]
  },
  {
   "cell_type": "code",
   "execution_count": 68,
   "id": "e57277e8",
   "metadata": {},
   "outputs": [
    {
     "data": {
      "text/plain": [
       "'C:\\\\Users\\\\RICH-FILES\\\\Desktop\\\\ml\\\\AI-powered-Bank-Product-Recommender-Chatbot'"
      ]
     },
     "execution_count": 68,
     "metadata": {},
     "output_type": "execute_result"
    }
   ],
   "source": [
    "%pwd"
   ]
  },
  {
   "cell_type": "code",
   "execution_count": 69,
   "id": "66d4e239",
   "metadata": {},
   "outputs": [],
   "source": [
    "os.chdir(\"../.\")"
   ]
  },
  {
   "cell_type": "code",
   "execution_count": 70,
   "id": "dd0303c3",
   "metadata": {},
   "outputs": [
    {
     "data": {
      "text/plain": [
       "'C:\\\\Users\\\\RICH-FILES\\\\Desktop\\\\ml'"
      ]
     },
     "execution_count": 70,
     "metadata": {},
     "output_type": "execute_result"
    }
   ],
   "source": [
    "%pwd"
   ]
  },
  {
   "cell_type": "code",
   "execution_count": 71,
   "id": "219d5575",
   "metadata": {},
   "outputs": [],
   "source": [
    "project_dir = \"C:/Users/RICH-FILES/Desktop/ml/AI-powered-Bank-Product-Recommender-Chatbot\"\n",
    "os.chdir(project_dir)"
   ]
  },
  {
   "cell_type": "code",
   "execution_count": 72,
   "metadata": {},
   "outputs": [],
   "source": [
    "from dataclasses import dataclass\n",
    "from pathlib import Path\n",
    "\n",
    "@dataclass(frozen=True)\n",
    "class DataTransformationConfig:\n",
    "    \"\"\"\n",
    "    Data Transformation Configuration\n",
    "    \"\"\"\n",
    "    root_dir: Path\n",
    "    transformed_data_file: Path\n",
    "    customer_path: Path\n",
    "    product_path: Path\n",
    "    train_data_file: Path\n",
    "    test_data_file: Path"
   ]
  },
  {
   "cell_type": "code",
   "execution_count": 73,
   "metadata": {},
   "outputs": [],
   "source": [
    "from BankProducts.constants import *\n",
    "from BankProducts.utils.common import read_yaml, create_directories"
   ]
  },
  {
   "cell_type": "code",
   "execution_count": 74,
   "id": "2fc534cd",
   "metadata": {},
   "outputs": [],
   "source": [
    "class ConfigurationManager:\n",
    "    def __init__(\n",
    "        self,\n",
    "        config_filepath = CONFIG_FILE_PATH,    \n",
    "        params_filepath = PARAMS_FILE_PATH,\n",
    "        #schema_filepath = SCHEMA_FILE_PATH,\n",
    "        ):\n",
    "       \n",
    "        self.config = read_yaml(config_filepath)\n",
    "        self.params = read_yaml(params_filepath)\n",
    "        #self.schema = read_yaml(schema_filepath)        \n",
    "    \n",
    "        create_directories([self.config.artifacts_root])\n",
    "        \n",
    "    def get_data_transformation_config(self)-> DataTransformationConfig:\n",
    "        \"\"\"\n",
    "        Returns Data Transformation Configuration\n",
    "        \"\"\"\n",
    "        config = self.config.data_transformation\n",
    "        \n",
    "        create_directories([self.config.artifacts_root])\n",
    "        \n",
    "        data_transformation_config = DataTransformationConfig(\n",
    "            root_dir=Path(config.root_dir),\n",
    "            transformed_data_file= Path(config.transformed_data_file),\n",
    "            product_path= Path(config.product_path),\n",
    "            customer_path= Path(config.customer_path),\n",
    "            train_data_file= Path(config.train_data_file),\n",
    "            test_data_file= Path(config.test_data_file)\n",
    "            )\n",
    "        \n",
    "        \n",
    "        return data_transformation_config\n",
    "    "
   ]
  },
  {
   "cell_type": "code",
   "execution_count": 75,
   "id": "d5c6cf67",
   "metadata": {},
   "outputs": [],
   "source": [
    "\n",
    "\n",
    "\n",
    "import os  \n",
    "from BankProducts import logger\n",
    "from sklearn.model_selection import train_test_split\n",
    "import pandas as pd\n",
    "import matplotlib.pyplot as plt\n",
    "import seaborn as sns\n",
    "from sklearn.preprocessing import StandardScaler\n",
    "\n",
    "from sklearn.preprocessing import OneHotEncoder\n",
    "from sklearn.compose import ColumnTransformer\n",
    "from sklearn.pipeline import Pipeline\n",
    "from sklearn.impute import SimpleImputer\n",
    "     \n"
   ]
  },
  {
   "cell_type": "code",
   "execution_count": 76,
   "id": "cf694c03",
   "metadata": {},
   "outputs": [],
   "source": [
    "class DataTransformation:\n",
    "    def __init__(self, config: DataTransformationConfig):\n",
    "        self.config = config\n",
    "        #self.data = None\n",
    "        #self.transformed_data = None\n",
    "        \n",
    "    def join_datasets(self):\n",
    "        \"\"\"\n",
    "        Join customer and product datasets\"\"\"    \n",
    "        try:\n",
    "            customer_data = pd.read_csv(self.config.customer_path)\n",
    "            product_data = pd.read_csv(self.config.product_path)\n",
    "\n",
    "            # Ensure the directory for saving exists\n",
    "            output_dir = os.path.dirname(self.config.transformed_data_file)\n",
    "            os.makedirs(output_dir, exist_ok=True)\n",
    "\n",
    "            # Join operation\n",
    "            joined_data = pd.merge(customer_data, product_data, how=\"left\",\n",
    "                                left_on=\"existing_products\", right_on=\"product_name\")\n",
    "            \n",
    "            #drop unnecessary columns\n",
    "            joined_data = joined_data.drop(columns=['existing_products'])\n",
    "            \n",
    "            #check the dataset head\n",
    "            print(joined_data.head())\n",
    "            \n",
    "            \n",
    "            # Save the joined data\n",
    "            joined_data.to_csv(self.config.transformed_data_file, index=False)\n",
    "\n",
    "        except Exception as e:\n",
    "                print(f\"Error joining datasets: {e}\")\n",
    "                \n",
    "    def transform_data(self):\n",
    "        \"\"\"\n",
    "        Transform the data as per the requirements\n",
    "        \"\"\"\n",
    "        try:\n",
    "            # Load the data\n",
    "            self.data = pd.read_csv(self.config.transformed_data_file)\n",
    "            # Perform transformations\n",
    "            print(self.data.head())\n",
    "            \n",
    "            print(\":\"*100)\n",
    "            \n",
    "            self.data.info()\n",
    "            print(\":\"*100)\n",
    "            \n",
    "            self.data.describe()\n",
    "            print(\":\"*100)\n",
    "            print(self.data.columns)\n",
    "            print(\":\"*100)\n",
    "            \n",
    "            #plot \"product_name\" histogram based of gender using seaborn\n",
    "            plt.figure(figsize=(10,6))\n",
    "            sns.histplot(x='product_name', data=self.data, hue='gender', multiple=\"dodge\", palette=\"Blues\")\n",
    "            plt.xlabel(\"product name\")\n",
    "            plt.ylabel(\"count\")\n",
    "            plt.title(\"Product Name Histogram by Gender\")\n",
    "            plt.show()\n",
    "            plt.savefig(\"product name histogram by gender.png\")\n",
    "           \n",
    "            \n",
    "            #plot \"age\" histogram\n",
    "            plt.figure(figsize=(10,6))\n",
    "            plt.hist(self.data[\"age\"], bins=10, edgecolor='black', color= \"orange\", alpha=0.7)\n",
    "            plt.title(\"Age Frequency Distribution\")\n",
    "            plt.xlabel(\"Age\")\n",
    "            plt.ylabel(\"Frequency\")\n",
    "            plt.savefig(\"age_histogram.png\")\n",
    "            \n",
    "        \n",
    "           \n",
    "            #plot \"product_name\" vs \"age\" bar plot\n",
    "            plt.figure(figsize=(10,6))\n",
    "            plt.bar(self.data[\"product_name\"], self.data[\"age\"], color=\"green\")\n",
    "            plt.title(\"Product Name vs Age Bar Plot\")\n",
    "            plt.xlabel(\"Product Name\")\n",
    "            plt.ylabel(\"Age\")\n",
    "            plt.savefig(\"product_name_vs_age_bar_plot.png\")\n",
    "            \n",
    "            \n",
    "            \n",
    "            #feature engineering\n",
    "            # Convert categorical variables to numerical using OneHotEncoder\n",
    "            categorical_features = self.data.select_dtypes(include=['object']).columns.tolist()\n",
    "            numerical_features = self.data.select_dtypes(exclude=['object']).columns.tolist()\n",
    "            categorical_features.remove('product_name')  # Exclude target variable\n",
    "        \n",
    "            # OneHotEncoder \n",
    "           \n",
    "            # Create a ColumnTransformer to handle categorical and numerical features\n",
    "            preprocessor = ColumnTransformer(\n",
    "                transformers=[\n",
    "                    ('cat', OneHotEncoder(handle_unknown='ignore', sparse_output= False), categorical_features),\n",
    "                    ('num', SimpleImputer(strategy='mean'), numerical_features)\n",
    "                ],\n",
    "                remainder='passthrough'  # Keep other columns as they are\n",
    "            )\n",
    "            # Create a pipeline with the preprocessor\n",
    "            pipeline = Pipeline([\n",
    "                ('preprocessor', preprocessor),\n",
    "                ('scaler', StandardScaler())  # Optional: Add a scaler if needed\n",
    "            ])\n",
    "            # Fit and transform the data\n",
    "            transformed_data = pipeline.fit_transform(self.data)\n",
    "            # Convert the transformed data back to a DataFrame\n",
    "            transformed_df = pd.DataFrame(transformed_data, columns=pipeline.get_feature_names_out())\n",
    "            # Save the transformed data to a CSV file\n",
    "            transformed_df.to_csv(self.config.transformed_data_file, index=False)\n",
    "            logger.info(\"Datasets joined and transformed successfully\")\n",
    "            print(\"Datasets joined and transformed successfully\")\n",
    "            # Ensure the directory for saving exists\n",
    "            os.makedirs(os.path.dirname(self.config.transformed_data_file), exist_ok=True)\n",
    "            # Check the shape of the joined data\n",
    "            print(f\"Joined data shape: {transformed_data.shape}\")\n",
    "            # Check the first few rows of the joined data\n",
    "            print(\"First few rows of the joined data:\")\n",
    "            print(transformed_data.head())\n",
    "            # Check the columns of the joined data      \n",
    "            print(\"Columns of the joined data:\")\n",
    "            print(transformed_data.columns)\n",
    "            \n",
    "            #feature selection\n",
    "            # If it's a categorical variable like a string, correlation won't work correctly\n",
    "            correlation_matrix = transformed_data.corr()\n",
    "            target_variable = 'product_name'\n",
    "\n",
    "            # Confirm product_name is in the correlation matrix\n",
    "            if target_variable in correlation_matrix.columns:\n",
    "                top_features = correlation_matrix[target_variable].abs().nlargest(10).index.tolist()\n",
    "                \n",
    "                # Plot correlation heatmap of top features\n",
    "                sns.heatmap(transformed_data[top_features].corr(), annot=True, cmap='coolwarm')\n",
    "                plt.title(\"Top 10 Features Correlated with 'product_name'\")\n",
    "                plt.show()\n",
    "                plt.savefig(\"correlation_matrix.png\")\n",
    "                \n",
    "            else:\n",
    "                print(f\"'{target_variable}' is not numeric or not in the correlation matrix.\")\n",
    "                \n",
    "            # Create a new DataFrame with the selected features\n",
    "            selected_features_df = transformed_data[top_features]\n",
    "            # Save the selected features to a CSV file\n",
    "            selected_features_df.to_csv(self.config.transformed_data_file, index=False)\n",
    "            # Check the shape of the selected features\n",
    "            print(f\"Selected features shape: {selected_features_df.shape}\")\n",
    "            \n",
    "            \n",
    "            \n",
    "            \n",
    "            # Example transformation: splitting data into train and test sets\n",
    "            train_data, test_data = train_test_split(self.data, test_size=0.2)\n",
    "            self.transformed_data = {\n",
    "                \"train\": train_data,\n",
    "                \"test\": test_data\n",
    "            }\n",
    "            \n",
    "        \n",
    "        \n",
    "        \n",
    "            #save train_data and test_data to csv files\n",
    "            train_data.to_csv(self.config.train_data_file, index=False)\n",
    "            test_data.to_csv(self.config.test_data_file, index=False)\n",
    "            \n",
    "            logger.info(\"Data transformed successfully\")\n",
    "        except Exception as e:\n",
    "            logger.error(f\"Error transforming data: {e}\")\n",
    "            raise\n",
    "\n",
    "            \n",
    "        \n",
    "    \n",
    "        "
   ]
  },
  {
   "cell_type": "code",
   "execution_count": 77,
   "id": "18a815e4",
   "metadata": {},
   "outputs": [
    {
     "name": "stdout",
     "output_type": "stream",
     "text": [
      "[2025-05-24 13:19:35,286: INFO: common: yaml file: config\\config.yaml loaded successfully]\n",
      "[2025-05-24 13:19:35,289: INFO: common: yaml file: params.yaml loaded successfully]\n",
      "[2025-05-24 13:19:35,291: INFO: common: created directory at: artifacts]\n",
      "[2025-05-24 13:19:35,292: INFO: common: created directory at: artifacts]\n"
     ]
    },
    {
     "name": "stdout",
     "output_type": "stream",
     "text": [
      "                            customer_id              name  age  gender  \\\n",
      "0  46a7de50-f684-4659-89d6-f716cd5452bb   Shannon Schultz   34  Female   \n",
      "1  dfaedadd-1aaa-4174-bb24-a1c59cae6923      Paul Salinas   51  Female   \n",
      "2  9352ea62-afe5-4bd2-8e84-6153f3810095       Jenna Sharp   29  Female   \n",
      "3  2038abc4-6d7b-428e-b701-05f9597bc8b7      Julie Nguyen   58  Female   \n",
      "4  826d887f-284e-4d42-a3a8-0296c1339049  Stephanie Patton   33  Female   \n",
      "\n",
      "                  occupation  annual_income marital_status  credit_score  \\\n",
      "0            Event organiser      188422.83         Single           355   \n",
      "1  Estate manager/land agent      112820.75         Single           652   \n",
      "2               Tour manager       60639.02         Single           504   \n",
      "3      Scientist, biomedical      144937.48         Single           723   \n",
      "4               Risk manager      110584.84        Married           475   \n",
      "\n",
      "  financial_goals   product_name  \\\n",
      "0      Retirement            NaN   \n",
      "1         Savings            NaN   \n",
      "2       Education  Fixed Deposit   \n",
      "3  Home Ownership            NaN   \n",
      "4      Retirement            NaN   \n",
      "\n",
      "                                         description  \\\n",
      "0                                                NaN   \n",
      "1                                                NaN   \n",
      "2  Investment with fixed returns over a chosen term.   \n",
      "3                                                NaN   \n",
      "4                                                NaN   \n",
      "\n",
      "                 eligibility  \n",
      "0                        NaN  \n",
      "1                        NaN  \n",
      "2  Minimum deposit of $1,000  \n",
      "3                        NaN  \n",
      "4                        NaN  \n",
      "                            customer_id              name  age  gender  \\\n",
      "0  46a7de50-f684-4659-89d6-f716cd5452bb   Shannon Schultz   34  Female   \n",
      "1  dfaedadd-1aaa-4174-bb24-a1c59cae6923      Paul Salinas   51  Female   \n",
      "2  9352ea62-afe5-4bd2-8e84-6153f3810095       Jenna Sharp   29  Female   \n",
      "3  2038abc4-6d7b-428e-b701-05f9597bc8b7      Julie Nguyen   58  Female   \n",
      "4  826d887f-284e-4d42-a3a8-0296c1339049  Stephanie Patton   33  Female   \n",
      "\n",
      "                  occupation  annual_income marital_status  credit_score  \\\n",
      "0            Event organiser      188422.83         Single           355   \n",
      "1  Estate manager/land agent      112820.75         Single           652   \n",
      "2               Tour manager       60639.02         Single           504   \n",
      "3      Scientist, biomedical      144937.48         Single           723   \n",
      "4               Risk manager      110584.84        Married           475   \n",
      "\n",
      "  financial_goals   product_name  \\\n",
      "0      Retirement            NaN   \n",
      "1         Savings            NaN   \n",
      "2       Education  Fixed Deposit   \n",
      "3  Home Ownership            NaN   \n",
      "4      Retirement            NaN   \n",
      "\n",
      "                                         description  \\\n",
      "0                                                NaN   \n",
      "1                                                NaN   \n",
      "2  Investment with fixed returns over a chosen term.   \n",
      "3                                                NaN   \n",
      "4                                                NaN   \n",
      "\n",
      "                 eligibility  \n",
      "0                        NaN  \n",
      "1                        NaN  \n",
      "2  Minimum deposit of $1,000  \n",
      "3                        NaN  \n",
      "4                        NaN  \n",
      "::::::::::::::::::::::::::::::::::::::::::::::::::::::::::::::::::::::::::::::::::::::::::::::::::::\n",
      "<class 'pandas.core.frame.DataFrame'>\n",
      "RangeIndex: 7000 entries, 0 to 6999\n",
      "Data columns (total 12 columns):\n",
      " #   Column           Non-Null Count  Dtype  \n",
      "---  ------           --------------  -----  \n",
      " 0   customer_id      7000 non-null   object \n",
      " 1   name             7000 non-null   object \n",
      " 2   age              7000 non-null   int64  \n",
      " 3   gender           7000 non-null   object \n",
      " 4   occupation       7000 non-null   object \n",
      " 5   annual_income    7000 non-null   float64\n",
      " 6   marital_status   7000 non-null   object \n",
      " 7   credit_score     7000 non-null   int64  \n",
      " 8   financial_goals  7000 non-null   object \n",
      " 9   product_name     1811 non-null   object \n",
      " 10  description      1811 non-null   object \n",
      " 11  eligibility      1811 non-null   object \n",
      "dtypes: float64(1), int64(2), object(9)\n",
      "memory usage: 656.4+ KB\n",
      "::::::::::::::::::::::::::::::::::::::::::::::::::::::::::::::::::::::::::::::::::::::::::::::::::::\n",
      "::::::::::::::::::::::::::::::::::::::::::::::::::::::::::::::::::::::::::::::::::::::::::::::::::::\n",
      "Index(['customer_id', 'name', 'age', 'gender', 'occupation', 'annual_income',\n",
      "       'marital_status', 'credit_score', 'financial_goals', 'product_name',\n",
      "       'description', 'eligibility'],\n",
      "      dtype='object')\n",
      "::::::::::::::::::::::::::::::::::::::::::::::::::::::::::::::::::::::::::::::::::::::::::::::::::::\n"
     ]
    },
    {
     "data": {
      "image/png": "[encoded data removed]",
      "text/plain": [
       "<Figure size 1000x600 with 1 Axes>"
      ]
     },
     "metadata": {},
     "output_type": "display_data"
    },
    {
     "name": "stdout",
     "output_type": "stream",
     "text": [
      "[2025-05-24 13:19:35,963: ERROR: 524015610: Error transforming data: 'value' must be an instance of str or bytes, not a float]\n",
      "[2025-05-24 13:19:35,964: ERROR: 418413119: Error in data transformation: 'value' must be an instance of str or bytes, not a float]\n"
     ]
    },
    {
     "ename": "TypeError",
     "evalue": "'value' must be an instance of str or bytes, not a float",
     "output_type": "error",
     "traceback": [
      "\u001b[1;31m---------------------------------------------------------------------------\u001b[0m",
      "\u001b[1;31mTypeError\u001b[0m                                 Traceback (most recent call last)",
      "Cell \u001b[1;32mIn[77], line 10\u001b[0m\n\u001b[0;32m      8\u001b[0m \u001b[38;5;28;01mexcept\u001b[39;00m \u001b[38;5;167;01mException\u001b[39;00m \u001b[38;5;28;01mas\u001b[39;00m e:\n\u001b[0;32m      9\u001b[0m     logger\u001b[38;5;241m.\u001b[39merror(\u001b[38;5;124mf\u001b[39m\u001b[38;5;124m\"\u001b[39m\u001b[38;5;124mError in data transformation: \u001b[39m\u001b[38;5;132;01m{\u001b[39;00me\u001b[38;5;132;01m}\u001b[39;00m\u001b[38;5;124m\"\u001b[39m)\n\u001b[1;32m---> 10\u001b[0m     \u001b[38;5;28;01mraise\u001b[39;00m  e\n",
      "Cell \u001b[1;32mIn[77], line 7\u001b[0m\n\u001b[0;32m      5\u001b[0m     data_transformation \u001b[38;5;241m=\u001b[39m DataTransformation(config\u001b[38;5;241m=\u001b[39mdata_transformation_config)\n\u001b[0;32m      6\u001b[0m     data_transformation\u001b[38;5;241m.\u001b[39mjoin_datasets()\n\u001b[1;32m----> 7\u001b[0m     \u001b[43mdata_transformation\u001b[49m\u001b[38;5;241;43m.\u001b[39;49m\u001b[43mtransform_data\u001b[49m\u001b[43m(\u001b[49m\u001b[43m)\u001b[49m\n\u001b[0;32m      8\u001b[0m \u001b[38;5;28;01mexcept\u001b[39;00m \u001b[38;5;167;01mException\u001b[39;00m \u001b[38;5;28;01mas\u001b[39;00m e:\n\u001b[0;32m      9\u001b[0m     logger\u001b[38;5;241m.\u001b[39merror(\u001b[38;5;124mf\u001b[39m\u001b[38;5;124m\"\u001b[39m\u001b[38;5;124mError in data transformation: \u001b[39m\u001b[38;5;132;01m{\u001b[39;00me\u001b[38;5;132;01m}\u001b[39;00m\u001b[38;5;124m\"\u001b[39m)\n",
      "Cell \u001b[1;32mIn[76], line 77\u001b[0m, in \u001b[0;36mDataTransformation.transform_data\u001b[1;34m(self)\u001b[0m\n\u001b[0;32m     75\u001b[0m \u001b[38;5;66;03m#plot \"product_name\" vs \"age\" bar plot\u001b[39;00m\n\u001b[0;32m     76\u001b[0m plt\u001b[38;5;241m.\u001b[39mfigure(figsize\u001b[38;5;241m=\u001b[39m(\u001b[38;5;241m10\u001b[39m,\u001b[38;5;241m6\u001b[39m))\n\u001b[1;32m---> 77\u001b[0m \u001b[43mplt\u001b[49m\u001b[38;5;241;43m.\u001b[39;49m\u001b[43mbar\u001b[49m\u001b[43m(\u001b[49m\u001b[38;5;28;43mself\u001b[39;49m\u001b[38;5;241;43m.\u001b[39;49m\u001b[43mdata\u001b[49m\u001b[43m[\u001b[49m\u001b[38;5;124;43m\"\u001b[39;49m\u001b[38;5;124;43mproduct_name\u001b[39;49m\u001b[38;5;124;43m\"\u001b[39;49m\u001b[43m]\u001b[49m\u001b[43m,\u001b[49m\u001b[43m \u001b[49m\u001b[38;5;28;43mself\u001b[39;49m\u001b[38;5;241;43m.\u001b[39;49m\u001b[43mdata\u001b[49m\u001b[43m[\u001b[49m\u001b[38;5;124;43m\"\u001b[39;49m\u001b[38;5;124;43mage\u001b[39;49m\u001b[38;5;124;43m\"\u001b[39;49m\u001b[43m]\u001b[49m\u001b[43m,\u001b[49m\u001b[43m \u001b[49m\u001b[43mcolor\u001b[49m\u001b[38;5;241;43m=\u001b[39;49m\u001b[38;5;124;43m\"\u001b[39;49m\u001b[38;5;124;43mgreen\u001b[39;49m\u001b[38;5;124;43m\"\u001b[39;49m\u001b[43m)\u001b[49m\n\u001b[0;32m     78\u001b[0m plt\u001b[38;5;241m.\u001b[39mtitle(\u001b[38;5;124m\"\u001b[39m\u001b[38;5;124mProduct Name vs Age Bar Plot\u001b[39m\u001b[38;5;124m\"\u001b[39m)\n\u001b[0;32m     79\u001b[0m plt\u001b[38;5;241m.\u001b[39mxlabel(\u001b[38;5;124m\"\u001b[39m\u001b[38;5;124mProduct Name\u001b[39m\u001b[38;5;124m\"\u001b[39m)\n",
      "File \u001b[1;32mc:\\Users\\RICH-FILES\\anacoda4\\envs\\bankprod\\lib\\site-packages\\matplotlib\\pyplot.py:2979\u001b[0m, in \u001b[0;36mbar\u001b[1;34m(x, height, width, bottom, align, data, **kwargs)\u001b[0m\n\u001b[0;32m   2968\u001b[0m \u001b[38;5;129m@_copy_docstring_and_deprecators\u001b[39m(Axes\u001b[38;5;241m.\u001b[39mbar)\n\u001b[0;32m   2969\u001b[0m \u001b[38;5;28;01mdef\u001b[39;00m\u001b[38;5;250m \u001b[39m\u001b[38;5;21mbar\u001b[39m(\n\u001b[0;32m   2970\u001b[0m     x: \u001b[38;5;28mfloat\u001b[39m \u001b[38;5;241m|\u001b[39m ArrayLike,\n\u001b[1;32m   (...)\u001b[0m\n\u001b[0;32m   2977\u001b[0m     \u001b[38;5;241m*\u001b[39m\u001b[38;5;241m*\u001b[39mkwargs,\n\u001b[0;32m   2978\u001b[0m ) \u001b[38;5;241m-\u001b[39m\u001b[38;5;241m>\u001b[39m BarContainer:\n\u001b[1;32m-> 2979\u001b[0m     \u001b[38;5;28;01mreturn\u001b[39;00m gca()\u001b[38;5;241m.\u001b[39mbar(\n\u001b[0;32m   2980\u001b[0m         x,\n\u001b[0;32m   2981\u001b[0m         height,\n\u001b[0;32m   2982\u001b[0m         width\u001b[38;5;241m=\u001b[39mwidth,\n\u001b[0;32m   2983\u001b[0m         bottom\u001b[38;5;241m=\u001b[39mbottom,\n\u001b[0;32m   2984\u001b[0m         align\u001b[38;5;241m=\u001b[39malign,\n\u001b[0;32m   2985\u001b[0m         \u001b[38;5;241m*\u001b[39m\u001b[38;5;241m*\u001b[39m({\u001b[38;5;124m\"\u001b[39m\u001b[38;5;124mdata\u001b[39m\u001b[38;5;124m\"\u001b[39m: data} \u001b[38;5;28;01mif\u001b[39;00m data \u001b[38;5;129;01mis\u001b[39;00m \u001b[38;5;129;01mnot\u001b[39;00m \u001b[38;5;28;01mNone\u001b[39;00m \u001b[38;5;28;01melse\u001b[39;00m {}),\n\u001b[0;32m   2986\u001b[0m         \u001b[38;5;241m*\u001b[39m\u001b[38;5;241m*\u001b[39mkwargs,\n\u001b[0;32m   2987\u001b[0m     )\n",
      "File \u001b[1;32mc:\\Users\\RICH-FILES\\anacoda4\\envs\\bankprod\\lib\\site-packages\\matplotlib\\__init__.py:1521\u001b[0m, in \u001b[0;36m_preprocess_data.<locals>.inner\u001b[1;34m(ax, data, *args, **kwargs)\u001b[0m\n\u001b[0;32m   1518\u001b[0m \u001b[38;5;129m@functools\u001b[39m\u001b[38;5;241m.\u001b[39mwraps(func)\n\u001b[0;32m   1519\u001b[0m \u001b[38;5;28;01mdef\u001b[39;00m\u001b[38;5;250m \u001b[39m\u001b[38;5;21minner\u001b[39m(ax, \u001b[38;5;241m*\u001b[39margs, data\u001b[38;5;241m=\u001b[39m\u001b[38;5;28;01mNone\u001b[39;00m, \u001b[38;5;241m*\u001b[39m\u001b[38;5;241m*\u001b[39mkwargs):\n\u001b[0;32m   1520\u001b[0m     \u001b[38;5;28;01mif\u001b[39;00m data \u001b[38;5;129;01mis\u001b[39;00m \u001b[38;5;28;01mNone\u001b[39;00m:\n\u001b[1;32m-> 1521\u001b[0m         \u001b[38;5;28;01mreturn\u001b[39;00m func(\n\u001b[0;32m   1522\u001b[0m             ax,\n\u001b[0;32m   1523\u001b[0m             \u001b[38;5;241m*\u001b[39m\u001b[38;5;28mmap\u001b[39m(cbook\u001b[38;5;241m.\u001b[39msanitize_sequence, args),\n\u001b[0;32m   1524\u001b[0m             \u001b[38;5;241m*\u001b[39m\u001b[38;5;241m*\u001b[39m{k: cbook\u001b[38;5;241m.\u001b[39msanitize_sequence(v) \u001b[38;5;28;01mfor\u001b[39;00m k, v \u001b[38;5;129;01min\u001b[39;00m kwargs\u001b[38;5;241m.\u001b[39mitems()})\n\u001b[0;32m   1526\u001b[0m     bound \u001b[38;5;241m=\u001b[39m new_sig\u001b[38;5;241m.\u001b[39mbind(ax, \u001b[38;5;241m*\u001b[39margs, \u001b[38;5;241m*\u001b[39m\u001b[38;5;241m*\u001b[39mkwargs)\n\u001b[0;32m   1527\u001b[0m     auto_label \u001b[38;5;241m=\u001b[39m (bound\u001b[38;5;241m.\u001b[39marguments\u001b[38;5;241m.\u001b[39mget(label_namer)\n\u001b[0;32m   1528\u001b[0m                   \u001b[38;5;129;01mor\u001b[39;00m bound\u001b[38;5;241m.\u001b[39mkwargs\u001b[38;5;241m.\u001b[39mget(label_namer))\n",
      "File \u001b[1;32mc:\\Users\\RICH-FILES\\anacoda4\\envs\\bankprod\\lib\\site-packages\\matplotlib\\axes\\_axes.py:2555\u001b[0m, in \u001b[0;36mAxes.bar\u001b[1;34m(self, x, height, width, bottom, align, **kwargs)\u001b[0m\n\u001b[0;32m   2549\u001b[0m         x \u001b[38;5;241m=\u001b[39m \u001b[38;5;241m0\u001b[39m\n\u001b[0;32m   2551\u001b[0m \u001b[38;5;28;01mif\u001b[39;00m orientation \u001b[38;5;241m==\u001b[39m \u001b[38;5;124m'\u001b[39m\u001b[38;5;124mvertical\u001b[39m\u001b[38;5;124m'\u001b[39m:\n\u001b[0;32m   2552\u001b[0m     \u001b[38;5;66;03m# It is possible for y (bottom) to contain unit information.\u001b[39;00m\n\u001b[0;32m   2553\u001b[0m     \u001b[38;5;66;03m# However, it is also possible for y=0 for the default and height\u001b[39;00m\n\u001b[0;32m   2554\u001b[0m     \u001b[38;5;66;03m# to contain unit information.  This will prioritize the units of y.\u001b[39;00m\n\u001b[1;32m-> 2555\u001b[0m     \u001b[38;5;28;43mself\u001b[39;49m\u001b[38;5;241;43m.\u001b[39;49m\u001b[43m_process_unit_info\u001b[49m\u001b[43m(\u001b[49m\n\u001b[0;32m   2556\u001b[0m \u001b[43m        \u001b[49m\u001b[43m[\u001b[49m\u001b[43m(\u001b[49m\u001b[38;5;124;43m\"\u001b[39;49m\u001b[38;5;124;43mx\u001b[39;49m\u001b[38;5;124;43m\"\u001b[39;49m\u001b[43m,\u001b[49m\u001b[43m \u001b[49m\u001b[43mx\u001b[49m\u001b[43m)\u001b[49m\u001b[43m,\u001b[49m\u001b[43m \u001b[49m\u001b[43m(\u001b[49m\u001b[38;5;124;43m\"\u001b[39;49m\u001b[38;5;124;43my\u001b[39;49m\u001b[38;5;124;43m\"\u001b[39;49m\u001b[43m,\u001b[49m\u001b[43m \u001b[49m\u001b[43my\u001b[49m\u001b[43m)\u001b[49m\u001b[43m,\u001b[49m\u001b[43m \u001b[49m\u001b[43m(\u001b[49m\u001b[38;5;124;43m\"\u001b[39;49m\u001b[38;5;124;43my\u001b[39;49m\u001b[38;5;124;43m\"\u001b[39;49m\u001b[43m,\u001b[49m\u001b[43m \u001b[49m\u001b[43mheight\u001b[49m\u001b[43m)\u001b[49m\u001b[43m]\u001b[49m\u001b[43m,\u001b[49m\u001b[43m \u001b[49m\u001b[43mkwargs\u001b[49m\u001b[43m,\u001b[49m\u001b[43m \u001b[49m\u001b[43mconvert\u001b[49m\u001b[38;5;241;43m=\u001b[39;49m\u001b[38;5;28;43;01mFalse\u001b[39;49;00m\u001b[43m)\u001b[49m\n\u001b[0;32m   2557\u001b[0m     \u001b[38;5;28;01mif\u001b[39;00m log:\n\u001b[0;32m   2558\u001b[0m         \u001b[38;5;28mself\u001b[39m\u001b[38;5;241m.\u001b[39mset_yscale(\u001b[38;5;124m'\u001b[39m\u001b[38;5;124mlog\u001b[39m\u001b[38;5;124m'\u001b[39m, nonpositive\u001b[38;5;241m=\u001b[39m\u001b[38;5;124m'\u001b[39m\u001b[38;5;124mclip\u001b[39m\u001b[38;5;124m'\u001b[39m)\n",
      "File \u001b[1;32mc:\\Users\\RICH-FILES\\anacoda4\\envs\\bankprod\\lib\\site-packages\\matplotlib\\axes\\_base.py:2647\u001b[0m, in \u001b[0;36m_AxesBase._process_unit_info\u001b[1;34m(self, datasets, kwargs, convert)\u001b[0m\n\u001b[0;32m   2645\u001b[0m     \u001b[38;5;66;03m# Update from data if axis is already set but no unit is set yet.\u001b[39;00m\n\u001b[0;32m   2646\u001b[0m     \u001b[38;5;28;01mif\u001b[39;00m axis \u001b[38;5;129;01mis\u001b[39;00m \u001b[38;5;129;01mnot\u001b[39;00m \u001b[38;5;28;01mNone\u001b[39;00m \u001b[38;5;129;01mand\u001b[39;00m data \u001b[38;5;129;01mis\u001b[39;00m \u001b[38;5;129;01mnot\u001b[39;00m \u001b[38;5;28;01mNone\u001b[39;00m \u001b[38;5;129;01mand\u001b[39;00m \u001b[38;5;129;01mnot\u001b[39;00m axis\u001b[38;5;241m.\u001b[39mhave_units():\n\u001b[1;32m-> 2647\u001b[0m         \u001b[43maxis\u001b[49m\u001b[38;5;241;43m.\u001b[39;49m\u001b[43mupdate_units\u001b[49m\u001b[43m(\u001b[49m\u001b[43mdata\u001b[49m\u001b[43m)\u001b[49m\n\u001b[0;32m   2648\u001b[0m \u001b[38;5;28;01mfor\u001b[39;00m axis_name, axis \u001b[38;5;129;01min\u001b[39;00m axis_map\u001b[38;5;241m.\u001b[39mitems():\n\u001b[0;32m   2649\u001b[0m     \u001b[38;5;66;03m# Return if no axis is set.\u001b[39;00m\n\u001b[0;32m   2650\u001b[0m     \u001b[38;5;28;01mif\u001b[39;00m axis \u001b[38;5;129;01mis\u001b[39;00m \u001b[38;5;28;01mNone\u001b[39;00m:\n",
      "File \u001b[1;32mc:\\Users\\RICH-FILES\\anacoda4\\envs\\bankprod\\lib\\site-packages\\matplotlib\\axis.py:1754\u001b[0m, in \u001b[0;36mAxis.update_units\u001b[1;34m(self, data)\u001b[0m\n\u001b[0;32m   1752\u001b[0m neednew \u001b[38;5;241m=\u001b[39m \u001b[38;5;28mself\u001b[39m\u001b[38;5;241m.\u001b[39m_converter \u001b[38;5;241m!=\u001b[39m converter\n\u001b[0;32m   1753\u001b[0m \u001b[38;5;28mself\u001b[39m\u001b[38;5;241m.\u001b[39m_set_converter(converter)\n\u001b[1;32m-> 1754\u001b[0m default \u001b[38;5;241m=\u001b[39m \u001b[38;5;28;43mself\u001b[39;49m\u001b[38;5;241;43m.\u001b[39;49m\u001b[43m_converter\u001b[49m\u001b[38;5;241;43m.\u001b[39;49m\u001b[43mdefault_units\u001b[49m\u001b[43m(\u001b[49m\u001b[43mdata\u001b[49m\u001b[43m,\u001b[49m\u001b[43m \u001b[49m\u001b[38;5;28;43mself\u001b[39;49m\u001b[43m)\u001b[49m\n\u001b[0;32m   1755\u001b[0m \u001b[38;5;28;01mif\u001b[39;00m default \u001b[38;5;129;01mis\u001b[39;00m \u001b[38;5;129;01mnot\u001b[39;00m \u001b[38;5;28;01mNone\u001b[39;00m \u001b[38;5;129;01mand\u001b[39;00m \u001b[38;5;28mself\u001b[39m\u001b[38;5;241m.\u001b[39munits \u001b[38;5;129;01mis\u001b[39;00m \u001b[38;5;28;01mNone\u001b[39;00m:\n\u001b[0;32m   1756\u001b[0m     \u001b[38;5;28mself\u001b[39m\u001b[38;5;241m.\u001b[39mset_units(default)\n",
      "File \u001b[1;32mc:\\Users\\RICH-FILES\\anacoda4\\envs\\bankprod\\lib\\site-packages\\matplotlib\\category.py:106\u001b[0m, in \u001b[0;36mStrCategoryConverter.default_units\u001b[1;34m(data, axis)\u001b[0m\n\u001b[0;32m    104\u001b[0m \u001b[38;5;66;03m# the conversion call stack is default_units -> axis_info -> convert\u001b[39;00m\n\u001b[0;32m    105\u001b[0m \u001b[38;5;28;01mif\u001b[39;00m axis\u001b[38;5;241m.\u001b[39munits \u001b[38;5;129;01mis\u001b[39;00m \u001b[38;5;28;01mNone\u001b[39;00m:\n\u001b[1;32m--> 106\u001b[0m     axis\u001b[38;5;241m.\u001b[39mset_units(\u001b[43mUnitData\u001b[49m\u001b[43m(\u001b[49m\u001b[43mdata\u001b[49m\u001b[43m)\u001b[49m)\n\u001b[0;32m    107\u001b[0m \u001b[38;5;28;01melse\u001b[39;00m:\n\u001b[0;32m    108\u001b[0m     axis\u001b[38;5;241m.\u001b[39munits\u001b[38;5;241m.\u001b[39mupdate(data)\n",
      "File \u001b[1;32mc:\\Users\\RICH-FILES\\anacoda4\\envs\\bankprod\\lib\\site-packages\\matplotlib\\category.py:182\u001b[0m, in \u001b[0;36mUnitData.__init__\u001b[1;34m(self, data)\u001b[0m\n\u001b[0;32m    180\u001b[0m \u001b[38;5;28mself\u001b[39m\u001b[38;5;241m.\u001b[39m_counter \u001b[38;5;241m=\u001b[39m itertools\u001b[38;5;241m.\u001b[39mcount()\n\u001b[0;32m    181\u001b[0m \u001b[38;5;28;01mif\u001b[39;00m data \u001b[38;5;129;01mis\u001b[39;00m \u001b[38;5;129;01mnot\u001b[39;00m \u001b[38;5;28;01mNone\u001b[39;00m:\n\u001b[1;32m--> 182\u001b[0m     \u001b[38;5;28;43mself\u001b[39;49m\u001b[38;5;241;43m.\u001b[39;49m\u001b[43mupdate\u001b[49m\u001b[43m(\u001b[49m\u001b[43mdata\u001b[49m\u001b[43m)\u001b[49m\n",
      "File \u001b[1;32mc:\\Users\\RICH-FILES\\anacoda4\\envs\\bankprod\\lib\\site-packages\\matplotlib\\category.py:217\u001b[0m, in \u001b[0;36mUnitData.update\u001b[1;34m(self, data)\u001b[0m\n\u001b[0;32m    214\u001b[0m convertible \u001b[38;5;241m=\u001b[39m \u001b[38;5;28;01mTrue\u001b[39;00m\n\u001b[0;32m    215\u001b[0m \u001b[38;5;28;01mfor\u001b[39;00m val \u001b[38;5;129;01min\u001b[39;00m OrderedDict\u001b[38;5;241m.\u001b[39mfromkeys(data):\n\u001b[0;32m    216\u001b[0m     \u001b[38;5;66;03m# OrderedDict just iterates over unique values in data.\u001b[39;00m\n\u001b[1;32m--> 217\u001b[0m     \u001b[43m_api\u001b[49m\u001b[38;5;241;43m.\u001b[39;49m\u001b[43mcheck_isinstance\u001b[49m\u001b[43m(\u001b[49m\u001b[43m(\u001b[49m\u001b[38;5;28;43mstr\u001b[39;49m\u001b[43m,\u001b[49m\u001b[43m \u001b[49m\u001b[38;5;28;43mbytes\u001b[39;49m\u001b[43m)\u001b[49m\u001b[43m,\u001b[49m\u001b[43m \u001b[49m\u001b[43mvalue\u001b[49m\u001b[38;5;241;43m=\u001b[39;49m\u001b[43mval\u001b[49m\u001b[43m)\u001b[49m\n\u001b[0;32m    218\u001b[0m     \u001b[38;5;28;01mif\u001b[39;00m convertible:\n\u001b[0;32m    219\u001b[0m         \u001b[38;5;66;03m# this will only be called so long as convertible is True.\u001b[39;00m\n\u001b[0;32m    220\u001b[0m         convertible \u001b[38;5;241m=\u001b[39m \u001b[38;5;28mself\u001b[39m\u001b[38;5;241m.\u001b[39m_str_is_convertible(val)\n",
      "File \u001b[1;32mc:\\Users\\RICH-FILES\\anacoda4\\envs\\bankprod\\lib\\site-packages\\matplotlib\\_api\\__init__.py:92\u001b[0m, in \u001b[0;36mcheck_isinstance\u001b[1;34m(types, **kwargs)\u001b[0m\n\u001b[0;32m     90\u001b[0m     names\u001b[38;5;241m.\u001b[39mremove(\u001b[38;5;124m\"\u001b[39m\u001b[38;5;124mNone\u001b[39m\u001b[38;5;124m\"\u001b[39m)\n\u001b[0;32m     91\u001b[0m     names\u001b[38;5;241m.\u001b[39mappend(\u001b[38;5;124m\"\u001b[39m\u001b[38;5;124mNone\u001b[39m\u001b[38;5;124m\"\u001b[39m)\n\u001b[1;32m---> 92\u001b[0m \u001b[38;5;28;01mraise\u001b[39;00m \u001b[38;5;167;01mTypeError\u001b[39;00m(\n\u001b[0;32m     93\u001b[0m     \u001b[38;5;124m\"\u001b[39m\u001b[38;5;132;01m{!r}\u001b[39;00m\u001b[38;5;124m must be an instance of \u001b[39m\u001b[38;5;132;01m{}\u001b[39;00m\u001b[38;5;124m, not a \u001b[39m\u001b[38;5;132;01m{}\u001b[39;00m\u001b[38;5;124m\"\u001b[39m\u001b[38;5;241m.\u001b[39mformat(\n\u001b[0;32m     94\u001b[0m         k,\n\u001b[0;32m     95\u001b[0m         \u001b[38;5;124m\"\u001b[39m\u001b[38;5;124m, \u001b[39m\u001b[38;5;124m\"\u001b[39m\u001b[38;5;241m.\u001b[39mjoin(names[:\u001b[38;5;241m-\u001b[39m\u001b[38;5;241m1\u001b[39m]) \u001b[38;5;241m+\u001b[39m \u001b[38;5;124m\"\u001b[39m\u001b[38;5;124m or \u001b[39m\u001b[38;5;124m\"\u001b[39m \u001b[38;5;241m+\u001b[39m names[\u001b[38;5;241m-\u001b[39m\u001b[38;5;241m1\u001b[39m]\n\u001b[0;32m     96\u001b[0m         \u001b[38;5;28;01mif\u001b[39;00m \u001b[38;5;28mlen\u001b[39m(names) \u001b[38;5;241m>\u001b[39m \u001b[38;5;241m1\u001b[39m \u001b[38;5;28;01melse\u001b[39;00m names[\u001b[38;5;241m0\u001b[39m],\n\u001b[0;32m     97\u001b[0m         type_name(\u001b[38;5;28mtype\u001b[39m(v))))\n",
      "\u001b[1;31mTypeError\u001b[0m: 'value' must be an instance of str or bytes, not a float"
     ]
    },
    {
     "data": {
      "text/plain": [
       "<Figure size 640x480 with 0 Axes>"
      ]
     },
     "metadata": {},
     "output_type": "display_data"
    },
    {
     "data": {
      "image/png": "[encoded data removed]",
      "text/plain": [
       "<Figure size 1000x600 with 1 Axes>"
      ]
     },
     "metadata": {},
     "output_type": "display_data"
    },
    {
     "data": {
      "image/png": "[encoded data removed]",
      "text/plain": [
       "<Figure size 1000x600 with 1 Axes>"
      ]
     },
     "metadata": {},
     "output_type": "display_data"
    }
   ],
   "source": [
    "try:\n",
    "    config = ConfigurationManager()\n",
    "    data_transformation_config = config.get_data_transformation_config()\n",
    "    \n",
    "    data_transformation = DataTransformation(config=data_transformation_config)\n",
    "    data_transformation.join_datasets()\n",
    "    data_transformation.transform_data()\n",
    "except Exception as e:\n",
    "    logger.error(f\"Error in data transformation: {e}\")\n",
    "    raise  e"
   ]
  },
  {
   "cell_type": "code",
   "execution_count": null,
   "id": "0a327732",
   "metadata": {},
   "outputs": [],
   "source": []
  },
  {
   "cell_type": "code",
   "execution_count": null,
   "id": "2489fc45",
   "metadata": {},
   "outputs": [],
   "source": []
  },
  {
   "cell_type": "code",
   "execution_count": null,
   "id": "042cd729",
   "metadata": {},
   "outputs": [],
   "source": []
  }
 ],
 "metadata": {
  "kernelspec": {
   "display_name": "bankprod",
   "language": "python",
   "name": "python3"
  },
  "language_info": {
   "codemirror_mode": {
    "name": "ipython",
    "version": 3
   },
   "file_extension": ".py",
   "mimetype": "text/x-python",
   "name": "python",
   "nbconvert_exporter": "python",
   "pygments_lexer": "ipython3",
   "version": "3.10.16"
  }
 },
 "nbformat": 4,
 "nbformat_minor": 5
}
